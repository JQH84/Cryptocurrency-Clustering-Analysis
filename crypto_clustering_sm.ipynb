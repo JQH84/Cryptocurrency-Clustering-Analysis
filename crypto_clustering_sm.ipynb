{
 "cells": [
  {
   "cell_type": "markdown",
   "metadata": {},
   "source": [
    "# Clustering Crypto"
   ]
  },
  {
   "cell_type": "code",
   "execution_count": 3,
   "metadata": {},
   "outputs": [],
   "source": [
    "# Initial imports\n",
    "import requests\n",
    "import pandas as pd\n",
    "import matplotlib.pyplot as plt\n",
    "import hvplot.pandas\n",
    "from sklearn.preprocessing import StandardScaler, MinMaxScaler\n",
    "from sklearn.decomposition import PCA\n",
    "from sklearn.cluster import KMeans\n",
    "\n",
    "# Amazon SageMaker and related imports\n",
    "import sagemaker\n",
    "import sagemaker.amazon.common as smac\n",
    "from sagemaker.predictor import csv_serializer, json_deserializer\n",
    "from sagemaker import get_execution_role\n",
    "from sagemaker.amazon.amazon_estimator import get_image_uri\n",
    "import boto3  # AWS Python sdk\n",
    "import altair as alt"
   ]
  },
  {
   "cell_type": "markdown",
   "metadata": {},
   "source": [
    "## Reading the Data file created from clustering exercise "
   ]
  },
  {
   "cell_type": "code",
   "execution_count": 77,
   "metadata": {},
   "outputs": [],
   "source": [
    "\n",
    "# Read the coin data into Amazon Cloud Storage\n",
    "file_path = Path(\"Resources/X.pkl\")\n",
    "features = pd.read_pickle(file_path)\n",
    "\n",
    "# Transforming the \"TempAvgF\" column to a vector\n",
    "X = features[\"TempAvgF\"].values.reshape(-1, 1)\n",
    "# Read the target data (precipitation sum inches)\n",
    "file_path = Path(\"Data/y_austin_final.csv\")\n",
    "y = pd.read_csv(file_path, names=[\"PrecipitationSumInches\"], header=None)\n",
    "\n",
    "# Transforming y into a vector\n",
    "y = y.iloc[:, 0].values\n",
    "# Split the data into training and testing sets\n",
    "X_train, X_test, y_train, y_test = train_test_split(X, y, test_size=0.2)e provided csv file:\n"
   ]
  },
  {
   "cell_type": "code",
   "execution_count": 87,
   "metadata": {},
   "outputs": [
    {
     "data": {
      "text/html": [
       "<div>\n",
       "<style scoped>\n",
       "    .dataframe tbody tr th:only-of-type {\n",
       "        vertical-align: middle;\n",
       "    }\n",
       "\n",
       "    .dataframe tbody tr th {\n",
       "        vertical-align: top;\n",
       "    }\n",
       "\n",
       "    .dataframe thead th {\n",
       "        text-align: right;\n",
       "    }\n",
       "</style>\n",
       "<table border=\"1\" class=\"dataframe\">\n",
       "  <thead>\n",
       "    <tr style=\"text-align: right;\">\n",
       "      <th></th>\n",
       "      <th>Algorithm_Autolykos</th>\n",
       "      <th>Algorithm_BEP-2</th>\n",
       "      <th>Algorithm_BEP-20 Token</th>\n",
       "      <th>Algorithm_BLAKE256</th>\n",
       "      <th>Algorithm_BMW512 / Echo512</th>\n",
       "      <th>Algorithm_Blake2B + SHA3</th>\n",
       "      <th>Algorithm_Blake2b</th>\n",
       "      <th>Algorithm_C31</th>\n",
       "      <th>Algorithm_CryptoNight</th>\n",
       "      <th>Algorithm_CryptoNight-Heavy</th>\n",
       "      <th>...</th>\n",
       "      <th>CirculatingSupply_50108502.0</th>\n",
       "      <th>CirculatingSupply_69902245.73347135</th>\n",
       "      <th>CirculatingSupply_120070585.1865</th>\n",
       "      <th>CirculatingSupply_131996090.95572992</th>\n",
       "      <th>CirculatingSupply_1050166570.2611</th>\n",
       "      <th>CirculatingSupply_2140417500.0</th>\n",
       "      <th>CirculatingSupply_33107082249.183712</th>\n",
       "      <th>CirculatingSupply_133704996383.70523</th>\n",
       "      <th>CirculatingSupply_19011958396789.37</th>\n",
       "      <th>CirculatingSupply_923767696429000.0</th>\n",
       "    </tr>\n",
       "    <tr>\n",
       "      <th>Symbol</th>\n",
       "      <th></th>\n",
       "      <th></th>\n",
       "      <th></th>\n",
       "      <th></th>\n",
       "      <th></th>\n",
       "      <th></th>\n",
       "      <th></th>\n",
       "      <th></th>\n",
       "      <th></th>\n",
       "      <th></th>\n",
       "      <th></th>\n",
       "      <th></th>\n",
       "      <th></th>\n",
       "      <th></th>\n",
       "      <th></th>\n",
       "      <th></th>\n",
       "      <th></th>\n",
       "      <th></th>\n",
       "      <th></th>\n",
       "      <th></th>\n",
       "      <th></th>\n",
       "    </tr>\n",
       "  </thead>\n",
       "  <tbody>\n",
       "    <tr>\n",
       "      <th>42</th>\n",
       "      <td>0</td>\n",
       "      <td>0</td>\n",
       "      <td>0</td>\n",
       "      <td>0</td>\n",
       "      <td>0</td>\n",
       "      <td>0</td>\n",
       "      <td>0</td>\n",
       "      <td>0</td>\n",
       "      <td>0</td>\n",
       "      <td>0</td>\n",
       "      <td>...</td>\n",
       "      <td>0</td>\n",
       "      <td>0</td>\n",
       "      <td>0</td>\n",
       "      <td>0</td>\n",
       "      <td>0</td>\n",
       "      <td>0</td>\n",
       "      <td>0</td>\n",
       "      <td>0</td>\n",
       "      <td>0</td>\n",
       "      <td>0</td>\n",
       "    </tr>\n",
       "    <tr>\n",
       "      <th>NSR</th>\n",
       "      <td>0</td>\n",
       "      <td>0</td>\n",
       "      <td>0</td>\n",
       "      <td>0</td>\n",
       "      <td>0</td>\n",
       "      <td>0</td>\n",
       "      <td>0</td>\n",
       "      <td>0</td>\n",
       "      <td>0</td>\n",
       "      <td>0</td>\n",
       "      <td>...</td>\n",
       "      <td>0</td>\n",
       "      <td>0</td>\n",
       "      <td>0</td>\n",
       "      <td>0</td>\n",
       "      <td>0</td>\n",
       "      <td>0</td>\n",
       "      <td>0</td>\n",
       "      <td>0</td>\n",
       "      <td>0</td>\n",
       "      <td>0</td>\n",
       "    </tr>\n",
       "    <tr>\n",
       "      <th>TRI</th>\n",
       "      <td>0</td>\n",
       "      <td>0</td>\n",
       "      <td>0</td>\n",
       "      <td>0</td>\n",
       "      <td>0</td>\n",
       "      <td>0</td>\n",
       "      <td>0</td>\n",
       "      <td>0</td>\n",
       "      <td>0</td>\n",
       "      <td>0</td>\n",
       "      <td>...</td>\n",
       "      <td>0</td>\n",
       "      <td>0</td>\n",
       "      <td>0</td>\n",
       "      <td>0</td>\n",
       "      <td>0</td>\n",
       "      <td>0</td>\n",
       "      <td>0</td>\n",
       "      <td>0</td>\n",
       "      <td>0</td>\n",
       "      <td>0</td>\n",
       "    </tr>\n",
       "    <tr>\n",
       "      <th>CMTC</th>\n",
       "      <td>0</td>\n",
       "      <td>0</td>\n",
       "      <td>0</td>\n",
       "      <td>0</td>\n",
       "      <td>0</td>\n",
       "      <td>0</td>\n",
       "      <td>0</td>\n",
       "      <td>0</td>\n",
       "      <td>0</td>\n",
       "      <td>0</td>\n",
       "      <td>...</td>\n",
       "      <td>0</td>\n",
       "      <td>0</td>\n",
       "      <td>0</td>\n",
       "      <td>0</td>\n",
       "      <td>0</td>\n",
       "      <td>0</td>\n",
       "      <td>0</td>\n",
       "      <td>0</td>\n",
       "      <td>0</td>\n",
       "      <td>0</td>\n",
       "    </tr>\n",
       "    <tr>\n",
       "      <th>CHAT</th>\n",
       "      <td>0</td>\n",
       "      <td>0</td>\n",
       "      <td>0</td>\n",
       "      <td>0</td>\n",
       "      <td>0</td>\n",
       "      <td>0</td>\n",
       "      <td>0</td>\n",
       "      <td>0</td>\n",
       "      <td>0</td>\n",
       "      <td>0</td>\n",
       "      <td>...</td>\n",
       "      <td>0</td>\n",
       "      <td>0</td>\n",
       "      <td>0</td>\n",
       "      <td>0</td>\n",
       "      <td>0</td>\n",
       "      <td>0</td>\n",
       "      <td>0</td>\n",
       "      <td>0</td>\n",
       "      <td>0</td>\n",
       "      <td>0</td>\n",
       "    </tr>\n",
       "  </tbody>\n",
       "</table>\n",
       "<p>5 rows × 279 columns</p>\n",
       "</div>"
      ],
      "text/plain": [
       "        Algorithm_Autolykos  Algorithm_BEP-2  Algorithm_BEP-20 Token  \\\n",
       "Symbol                                                                 \n",
       "42                        0                0                       0   \n",
       "NSR                       0                0                       0   \n",
       "TRI                       0                0                       0   \n",
       "CMTC                      0                0                       0   \n",
       "CHAT                      0                0                       0   \n",
       "\n",
       "        Algorithm_BLAKE256  Algorithm_BMW512 / Echo512  \\\n",
       "Symbol                                                   \n",
       "42                       0                           0   \n",
       "NSR                      0                           0   \n",
       "TRI                      0                           0   \n",
       "CMTC                     0                           0   \n",
       "CHAT                     0                           0   \n",
       "\n",
       "        Algorithm_Blake2B + SHA3  Algorithm_Blake2b  Algorithm_C31  \\\n",
       "Symbol                                                               \n",
       "42                             0                  0              0   \n",
       "NSR                            0                  0              0   \n",
       "TRI                            0                  0              0   \n",
       "CMTC                           0                  0              0   \n",
       "CHAT                           0                  0              0   \n",
       "\n",
       "        Algorithm_CryptoNight  Algorithm_CryptoNight-Heavy  ...  \\\n",
       "Symbol                                                      ...   \n",
       "42                          0                            0  ...   \n",
       "NSR                         0                            0  ...   \n",
       "TRI                         0                            0  ...   \n",
       "CMTC                        0                            0  ...   \n",
       "CHAT                        0                            0  ...   \n",
       "\n",
       "        CirculatingSupply_50108502.0  CirculatingSupply_69902245.73347135  \\\n",
       "Symbol                                                                      \n",
       "42                                 0                                    0   \n",
       "NSR                                0                                    0   \n",
       "TRI                                0                                    0   \n",
       "CMTC                               0                                    0   \n",
       "CHAT                               0                                    0   \n",
       "\n",
       "        CirculatingSupply_120070585.1865  \\\n",
       "Symbol                                     \n",
       "42                                     0   \n",
       "NSR                                    0   \n",
       "TRI                                    0   \n",
       "CMTC                                   0   \n",
       "CHAT                                   0   \n",
       "\n",
       "        CirculatingSupply_131996090.95572992  \\\n",
       "Symbol                                         \n",
       "42                                         0   \n",
       "NSR                                        0   \n",
       "TRI                                        0   \n",
       "CMTC                                       0   \n",
       "CHAT                                       0   \n",
       "\n",
       "        CirculatingSupply_1050166570.2611  CirculatingSupply_2140417500.0  \\\n",
       "Symbol                                                                      \n",
       "42                                      0                               0   \n",
       "NSR                                     0                               0   \n",
       "TRI                                     0                               0   \n",
       "CMTC                                    0                               0   \n",
       "CHAT                                    0                               0   \n",
       "\n",
       "        CirculatingSupply_33107082249.183712  \\\n",
       "Symbol                                         \n",
       "42                                         0   \n",
       "NSR                                        0   \n",
       "TRI                                        0   \n",
       "CMTC                                       0   \n",
       "CHAT                                       0   \n",
       "\n",
       "        CirculatingSupply_133704996383.70523  \\\n",
       "Symbol                                         \n",
       "42                                         0   \n",
       "NSR                                        0   \n",
       "TRI                                        0   \n",
       "CMTC                                       0   \n",
       "CHAT                                       0   \n",
       "\n",
       "        CirculatingSupply_19011958396789.37  \\\n",
       "Symbol                                        \n",
       "42                                        0   \n",
       "NSR                                       0   \n",
       "TRI                                       0   \n",
       "CMTC                                      0   \n",
       "CHAT                                      0   \n",
       "\n",
       "        CirculatingSupply_923767696429000.0  \n",
       "Symbol                                       \n",
       "42                                        0  \n",
       "NSR                                       0  \n",
       "TRI                                       0  \n",
       "CMTC                                      0  \n",
       "CHAT                                      0  \n",
       "\n",
       "[5 rows x 279 columns]"
      ]
     },
     "execution_count": 87,
     "metadata": {},
     "output_type": "execute_result"
    }
   ],
   "source": [
    "# Create dummy variables for text features\n",
    "X = pd.get_dummies(crypto_df)\n",
    "X.head()"
   ]
  },
  {
   "cell_type": "code",
   "execution_count": 88,
   "metadata": {},
   "outputs": [
    {
     "data": {
      "text/plain": [
       "array([[-0.0860663, -0.0860663, -0.0860663, ..., -0.0860663, -0.0860663,\n",
       "        -0.0860663],\n",
       "       [-0.0860663, -0.0860663, -0.0860663, ..., -0.0860663, -0.0860663,\n",
       "        -0.0860663],\n",
       "       [-0.0860663, -0.0860663, -0.0860663, ..., -0.0860663, -0.0860663,\n",
       "        -0.0860663],\n",
       "       ...,\n",
       "       [-0.0860663, -0.0860663, -0.0860663, ..., -0.0860663, -0.0860663,\n",
       "        -0.0860663],\n",
       "       [-0.0860663, -0.0860663, -0.0860663, ..., -0.0860663, -0.0860663,\n",
       "        -0.0860663],\n",
       "       [-0.0860663, -0.0860663, -0.0860663, ..., -0.0860663, -0.0860663,\n",
       "        -0.0860663]])"
      ]
     },
     "execution_count": 88,
     "metadata": {},
     "output_type": "execute_result"
    }
   ],
   "source": [
    "# Standardize data\n",
    "scaler = StandardScaler()\n",
    "# min_max_scaler = MinMaxScaler()\n",
    "X_scaled = scaler.fit_transform(X)\n",
    "X_scaled\n"
   ]
  },
  {
   "cell_type": "markdown",
   "metadata": {},
   "source": [
    "### Reducing Dimensions Using PCA"
   ]
  },
  {
   "cell_type": "code",
   "execution_count": 89,
   "metadata": {},
   "outputs": [
    {
     "data": {
      "text/plain": [
       "(array([[ 0.43361876,  0.61615932,  0.8756147 ],\n",
       "        [ 0.09113231,  0.7906846 , -0.67008408],\n",
       "        [ 0.42987884,  1.00443033,  0.30411746],\n",
       "        [-0.58590286,  0.0649459 ,  0.67947604],\n",
       "        [ 1.08050174, -0.06591546,  0.75637885],\n",
       "        [-0.12362652, -0.70899299, -0.0701583 ],\n",
       "        [-0.71263144,  0.20891554,  0.01635726],\n",
       "        [ 0.01938366,  0.55129341, -0.27302925],\n",
       "        [ 0.86524522, -0.08287332,  0.11321394],\n",
       "        [ 0.39746337,  0.86792957,  0.30897053]]),\n",
       " array([0.10747195, 0.06378819, 0.05206491]))"
      ]
     },
     "execution_count": 89,
     "metadata": {},
     "output_type": "execute_result"
    }
   ],
   "source": [
    "# Use PCA to reduce dimensions to 3 principal components\n",
    "pca = PCA(n_components=3)\n",
    "pca_fitted = pca.fit_transform(X)\n",
    "pca_fitted[:10] , pca.explained_variance_ratio_\n"
   ]
  },
  {
   "cell_type": "code",
   "execution_count": 90,
   "metadata": {},
   "outputs": [
    {
     "data": {
      "text/html": [
       "<div>\n",
       "<style scoped>\n",
       "    .dataframe tbody tr th:only-of-type {\n",
       "        vertical-align: middle;\n",
       "    }\n",
       "\n",
       "    .dataframe tbody tr th {\n",
       "        vertical-align: top;\n",
       "    }\n",
       "\n",
       "    .dataframe thead th {\n",
       "        text-align: right;\n",
       "    }\n",
       "</style>\n",
       "<table border=\"1\" class=\"dataframe\">\n",
       "  <thead>\n",
       "    <tr style=\"text-align: right;\">\n",
       "      <th></th>\n",
       "      <th>PC 1</th>\n",
       "      <th>PC 2</th>\n",
       "      <th>PC 3</th>\n",
       "    </tr>\n",
       "    <tr>\n",
       "      <th>Symbol</th>\n",
       "      <th></th>\n",
       "      <th></th>\n",
       "      <th></th>\n",
       "    </tr>\n",
       "  </thead>\n",
       "  <tbody>\n",
       "    <tr>\n",
       "      <th>42</th>\n",
       "      <td>0.433619</td>\n",
       "      <td>0.616159</td>\n",
       "      <td>0.875615</td>\n",
       "    </tr>\n",
       "    <tr>\n",
       "      <th>NSR</th>\n",
       "      <td>0.091132</td>\n",
       "      <td>0.790685</td>\n",
       "      <td>-0.670084</td>\n",
       "    </tr>\n",
       "    <tr>\n",
       "      <th>TRI</th>\n",
       "      <td>0.429879</td>\n",
       "      <td>1.004430</td>\n",
       "      <td>0.304117</td>\n",
       "    </tr>\n",
       "    <tr>\n",
       "      <th>CMTC</th>\n",
       "      <td>-0.585903</td>\n",
       "      <td>0.064946</td>\n",
       "      <td>0.679476</td>\n",
       "    </tr>\n",
       "    <tr>\n",
       "      <th>CHAT</th>\n",
       "      <td>1.080502</td>\n",
       "      <td>-0.065915</td>\n",
       "      <td>0.756379</td>\n",
       "    </tr>\n",
       "  </tbody>\n",
       "</table>\n",
       "</div>"
      ],
      "text/plain": [
       "            PC 1      PC 2      PC 3\n",
       "Symbol                              \n",
       "42      0.433619  0.616159  0.875615\n",
       "NSR     0.091132  0.790685 -0.670084\n",
       "TRI     0.429879  1.004430  0.304117\n",
       "CMTC   -0.585903  0.064946  0.679476\n",
       "CHAT    1.080502 -0.065915  0.756379"
      ]
     },
     "execution_count": 90,
     "metadata": {},
     "output_type": "execute_result"
    }
   ],
   "source": [
    "# Create a DataFrame with the principal components data\n",
    "pca_df = pd.DataFrame(\n",
    "    pca_fitted,\n",
    "    columns=[\"PC 1\", \"PC 2\" ,\"PC 3\"],\n",
    "    index = crypto_df.index\n",
    ")\n",
    "pca_df.head()"
   ]
  },
  {
   "cell_type": "markdown",
   "metadata": {},
   "source": [
    "### Clustering Crytocurrencies Using K-Means\n",
    "\n",
    "#### Find the Best Value for `k` Using the Elbow Curve"
   ]
  },
  {
   "cell_type": "code",
   "execution_count": 91,
   "metadata": {},
   "outputs": [
    {
     "data": {},
     "metadata": {},
     "output_type": "display_data"
    },
    {
     "data": {
      "application/vnd.holoviews_exec.v0+json": "",
      "text/html": [
       "<div id='5014'>\n",
       "\n",
       "\n",
       "\n",
       "\n",
       "\n",
       "  <div class=\"bk-root\" id=\"57af4cc3-db03-4ab6-acf2-99af1af8d150\" data-root-id=\"5014\"></div>\n",
       "</div>\n",
       "<script type=\"application/javascript\">(function(root) {\n",
       "  function embed_document(root) {\n",
       "    var docs_json = {\"fe09a2cd-a0d6-4332-93a5-4027fbd2c456\":{\"defs\":[{\"extends\":null,\"module\":null,\"name\":\"ReactiveHTML1\",\"overrides\":[],\"properties\":[]},{\"extends\":null,\"module\":null,\"name\":\"FlexBox1\",\"overrides\":[],\"properties\":[{\"default\":\"flex-start\",\"kind\":null,\"name\":\"align_content\"},{\"default\":\"flex-start\",\"kind\":null,\"name\":\"align_items\"},{\"default\":\"row\",\"kind\":null,\"name\":\"flex_direction\"},{\"default\":\"wrap\",\"kind\":null,\"name\":\"flex_wrap\"},{\"default\":\"flex-start\",\"kind\":null,\"name\":\"justify_content\"}]},{\"extends\":null,\"module\":null,\"name\":\"TemplateActions1\",\"overrides\":[],\"properties\":[{\"default\":0,\"kind\":null,\"name\":\"open_modal\"},{\"default\":0,\"kind\":null,\"name\":\"close_modal\"}]},{\"extends\":null,\"module\":null,\"name\":\"MaterialTemplateActions1\",\"overrides\":[],\"properties\":[{\"default\":0,\"kind\":null,\"name\":\"open_modal\"},{\"default\":0,\"kind\":null,\"name\":\"close_modal\"}]}],\"roots\":{\"references\":[{\"attributes\":{\"margin\":[5,5,5,5],\"name\":\"HSpacer10574\",\"sizing_mode\":\"stretch_width\"},\"id\":\"5085\",\"type\":\"Spacer\"},{\"attributes\":{\"coordinates\":null,\"data_source\":{\"id\":\"5049\"},\"glyph\":{\"id\":\"5052\"},\"group\":null,\"hover_glyph\":null,\"muted_glyph\":{\"id\":\"5054\"},\"nonselection_glyph\":{\"id\":\"5053\"},\"selection_glyph\":{\"id\":\"5057\"},\"view\":{\"id\":\"5056\"}},\"id\":\"5055\",\"type\":\"GlyphRenderer\"},{\"attributes\":{\"axis\":{\"id\":\"5032\"},\"coordinates\":null,\"dimension\":1,\"grid_line_color\":null,\"group\":null,\"ticker\":null},\"id\":\"5035\",\"type\":\"Grid\"},{\"attributes\":{\"axis\":{\"id\":\"5028\"},\"coordinates\":null,\"grid_line_color\":null,\"group\":null,\"ticker\":null},\"id\":\"5031\",\"type\":\"Grid\"},{\"attributes\":{},\"id\":\"5026\",\"type\":\"LinearScale\"},{\"attributes\":{\"line_color\":\"#30a2da\",\"line_width\":2,\"x\":{\"field\":\"k\"},\"y\":{\"field\":\"inertia\"}},\"id\":\"5057\",\"type\":\"Line\"},{\"attributes\":{\"callback\":null,\"renderers\":[{\"id\":\"5055\"}],\"tags\":[\"hv_created\"],\"tooltips\":[[\"k\",\"@{k}\"],[\"inertia\",\"@{inertia}\"]]},\"id\":\"5018\",\"type\":\"HoverTool\"},{\"attributes\":{\"coordinates\":null,\"group\":null,\"text\":\"Elbow Curve\",\"text_color\":\"black\",\"text_font_size\":\"12pt\"},\"id\":\"5020\",\"type\":\"Title\"},{\"attributes\":{\"below\":[{\"id\":\"5028\"}],\"center\":[{\"id\":\"5031\"},{\"id\":\"5035\"}],\"height\":300,\"left\":[{\"id\":\"5032\"}],\"margin\":[5,5,5,5],\"min_border_bottom\":10,\"min_border_left\":10,\"min_border_right\":10,\"min_border_top\":10,\"renderers\":[{\"id\":\"5055\"}],\"sizing_mode\":\"fixed\",\"title\":{\"id\":\"5020\"},\"toolbar\":{\"id\":\"5042\"},\"width\":700,\"x_range\":{\"id\":\"5016\"},\"x_scale\":{\"id\":\"5024\"},\"y_range\":{\"id\":\"5017\"},\"y_scale\":{\"id\":\"5026\"}},\"id\":\"5019\",\"subtype\":\"Figure\",\"type\":\"Plot\"},{\"attributes\":{},\"id\":\"5038\",\"type\":\"WheelZoomTool\"},{\"attributes\":{\"bottom_units\":\"screen\",\"coordinates\":null,\"fill_alpha\":0.5,\"fill_color\":\"lightgrey\",\"group\":null,\"left_units\":\"screen\",\"level\":\"overlay\",\"line_alpha\":1.0,\"line_color\":\"black\",\"line_dash\":[4,4],\"line_width\":2,\"right_units\":\"screen\",\"syncable\":false,\"top_units\":\"screen\"},\"id\":\"5041\",\"type\":\"BoxAnnotation\"},{\"attributes\":{\"tools\":[{\"id\":\"5018\"},{\"id\":\"5036\"},{\"id\":\"5037\"},{\"id\":\"5038\"},{\"id\":\"5039\"},{\"id\":\"5040\"}]},\"id\":\"5042\",\"type\":\"Toolbar\"},{\"attributes\":{\"margin\":[5,5,5,5],\"name\":\"HSpacer10573\",\"sizing_mode\":\"stretch_width\"},\"id\":\"5015\",\"type\":\"Spacer\"},{\"attributes\":{},\"id\":\"5036\",\"type\":\"SaveTool\"},{\"attributes\":{\"ticks\":[1,2,3,4,5,6,7,8,9,10]},\"id\":\"5058\",\"type\":\"FixedTicker\"},{\"attributes\":{\"line_color\":\"#30a2da\",\"line_width\":2,\"x\":{\"field\":\"k\"},\"y\":{\"field\":\"inertia\"}},\"id\":\"5052\",\"type\":\"Line\"},{\"attributes\":{},\"id\":\"5073\",\"type\":\"UnionRenderers\"},{\"attributes\":{\"source\":{\"id\":\"5049\"}},\"id\":\"5056\",\"type\":\"CDSView\"},{\"attributes\":{\"end\":123.04267987008066,\"reset_end\":123.04267987008066,\"reset_start\":-6.031180421429225,\"start\":-6.031180421429225,\"tags\":[[[\"inertia\",\"inertia\",null]]]},\"id\":\"5017\",\"type\":\"Range1d\"},{\"attributes\":{},\"id\":\"5065\",\"type\":\"BasicTickFormatter\"},{\"attributes\":{},\"id\":\"5066\",\"type\":\"AllLabels\"},{\"attributes\":{},\"id\":\"5024\",\"type\":\"LinearScale\"},{\"attributes\":{\"line_alpha\":0.1,\"line_color\":\"#30a2da\",\"line_width\":2,\"x\":{\"field\":\"k\"},\"y\":{\"field\":\"inertia\"}},\"id\":\"5053\",\"type\":\"Line\"},{\"attributes\":{\"end\":10.0,\"reset_end\":10.0,\"reset_start\":1.0,\"start\":1.0,\"tags\":[[[\"k\",\"k\",null]]]},\"id\":\"5016\",\"type\":\"Range1d\"},{\"attributes\":{\"axis_label\":\"inertia\",\"coordinates\":null,\"formatter\":{\"id\":\"5065\"},\"group\":null,\"major_label_policy\":{\"id\":\"5066\"},\"ticker\":{\"id\":\"5033\"}},\"id\":\"5032\",\"type\":\"LinearAxis\"},{\"attributes\":{\"axis_label\":\"k\",\"coordinates\":null,\"formatter\":{\"id\":\"5060\"},\"group\":null,\"major_label_policy\":{\"id\":\"5061\"},\"ticker\":{\"id\":\"5058\"}},\"id\":\"5028\",\"type\":\"LinearAxis\"},{\"attributes\":{},\"id\":\"5060\",\"type\":\"BasicTickFormatter\"},{\"attributes\":{},\"id\":\"5050\",\"type\":\"Selection\"},{\"attributes\":{\"data\":{\"inertia\":{\"__ndarray__\":\"tIlObFYSXEArTyPo34FQQKchiFmaWEdAeCzu7XbKPkD0MNtjOgAyQAYtsI8NZCdAMG3FWWTQIkAi8eHXGEEdQCU72lwF9hZAyukGvl/mEkA=\",\"dtype\":\"float64\",\"order\":\"little\",\"shape\":[10]},\"k\":[1,2,3,4,5,6,7,8,9,10]},\"selected\":{\"id\":\"5050\"},\"selection_policy\":{\"id\":\"5073\"}},\"id\":\"5049\",\"type\":\"ColumnDataSource\"},{\"attributes\":{\"overlay\":{\"id\":\"5041\"}},\"id\":\"5039\",\"type\":\"BoxZoomTool\"},{\"attributes\":{\"line_alpha\":0.2,\"line_color\":\"#30a2da\",\"line_width\":2,\"x\":{\"field\":\"k\"},\"y\":{\"field\":\"inertia\"}},\"id\":\"5054\",\"type\":\"Line\"},{\"attributes\":{},\"id\":\"5040\",\"type\":\"ResetTool\"},{\"attributes\":{},\"id\":\"5037\",\"type\":\"PanTool\"},{\"attributes\":{},\"id\":\"5033\",\"type\":\"BasicTicker\"},{\"attributes\":{},\"id\":\"5061\",\"type\":\"AllLabels\"},{\"attributes\":{\"children\":[{\"id\":\"5015\"},{\"id\":\"5019\"},{\"id\":\"5085\"}],\"margin\":[0,0,0,0],\"name\":\"Row10569\",\"tags\":[\"embedded\"]},\"id\":\"5014\",\"type\":\"Row\"}],\"root_ids\":[\"5014\"]},\"title\":\"Bokeh Application\",\"version\":\"2.4.2\"}};\n",
       "    var render_items = [{\"docid\":\"fe09a2cd-a0d6-4332-93a5-4027fbd2c456\",\"root_ids\":[\"5014\"],\"roots\":{\"5014\":\"57af4cc3-db03-4ab6-acf2-99af1af8d150\"}}];\n",
       "    root.Bokeh.embed.embed_items_notebook(docs_json, render_items);\n",
       "  }\n",
       "  if (root.Bokeh !== undefined && root.Bokeh.Panel !== undefined) {\n",
       "    embed_document(root);\n",
       "  } else {\n",
       "    var attempts = 0;\n",
       "    var timer = setInterval(function(root) {\n",
       "      if (root.Bokeh !== undefined && root.Bokeh.Panel !== undefined) {\n",
       "        clearInterval(timer);\n",
       "        embed_document(root);\n",
       "      } else if (document.readyState == \"complete\") {\n",
       "        attempts++;\n",
       "        if (attempts > 200) {\n",
       "          clearInterval(timer);\n",
       "          console.log(\"Bokeh: ERROR: Unable to run BokehJS code because BokehJS library is missing\");\n",
       "        }\n",
       "      }\n",
       "    }, 25, root)\n",
       "  }\n",
       "})(window);</script>"
      ],
      "text/plain": [
       ":Curve   [k]   (inertia)"
      ]
     },
     "execution_count": 91,
     "metadata": {
      "application/vnd.holoviews_exec.v0+json": {
       "id": "5014"
      }
     },
     "output_type": "execute_result"
    }
   ],
   "source": [
    "inertia = []\n",
    "k = list(range(1, 11))\n",
    "\n",
    "# Calculate the inertia for the range of k values\n",
    "for i in k:\n",
    "    k_model = KMeans(n_clusters=i, random_state=0)\n",
    "    k_model.fit(pca_df)\n",
    "    inertia.append(k_model.inertia_)\n",
    "\n",
    "# Create the DataFrame from the elbow data\n",
    "elbow_data = {\"k\": k, \"inertia\": inertia}\n",
    "df_elbow = pd.DataFrame(elbow_data)\n",
    "\n",
    "# Create the Elbow Curve using hvPlot\n",
    "df_elbow.hvplot.line(\n",
    "    x=\"k\", \n",
    "    y=\"inertia\", \n",
    "    title=\"Elbow Curve\", \n",
    "    xticks=k\n",
    ")"
   ]
  },
  {
   "cell_type": "markdown",
   "metadata": {},
   "source": [
    "Running K-Means with `k=4`"
   ]
  },
  {
   "cell_type": "code",
   "execution_count": 102,
   "metadata": {},
   "outputs": [
    {
     "data": {
      "text/html": [
       "<div>\n",
       "<style scoped>\n",
       "    .dataframe tbody tr th:only-of-type {\n",
       "        vertical-align: middle;\n",
       "    }\n",
       "\n",
       "    .dataframe tbody tr th {\n",
       "        vertical-align: top;\n",
       "    }\n",
       "\n",
       "    .dataframe thead th {\n",
       "        text-align: right;\n",
       "    }\n",
       "</style>\n",
       "<table border=\"1\" class=\"dataframe\">\n",
       "  <thead>\n",
       "    <tr style=\"text-align: right;\">\n",
       "      <th></th>\n",
       "      <th>PC 1</th>\n",
       "      <th>PC 2</th>\n",
       "      <th>PC 3</th>\n",
       "      <th>Class</th>\n",
       "      <th>Algorithm</th>\n",
       "      <th>ProofType</th>\n",
       "      <th>TotalCoinsMined</th>\n",
       "      <th>MaxSupply</th>\n",
       "      <th>CirculatingSupply</th>\n",
       "      <th>CoinName</th>\n",
       "    </tr>\n",
       "    <tr>\n",
       "      <th>Symbol</th>\n",
       "      <th></th>\n",
       "      <th></th>\n",
       "      <th></th>\n",
       "      <th></th>\n",
       "      <th></th>\n",
       "      <th></th>\n",
       "      <th></th>\n",
       "      <th></th>\n",
       "      <th></th>\n",
       "      <th></th>\n",
       "    </tr>\n",
       "  </thead>\n",
       "  <tbody>\n",
       "    <tr>\n",
       "      <th>42</th>\n",
       "      <td>0.433619</td>\n",
       "      <td>0.616159</td>\n",
       "      <td>0.875615</td>\n",
       "      <td>2</td>\n",
       "      <td>Scrypt</td>\n",
       "      <td>PoW/PoS</td>\n",
       "      <td>41.999952</td>\n",
       "      <td>42</td>\n",
       "      <td>41.999952</td>\n",
       "      <td>42 Coin</td>\n",
       "    </tr>\n",
       "    <tr>\n",
       "      <th>NSR</th>\n",
       "      <td>0.091132</td>\n",
       "      <td>0.790685</td>\n",
       "      <td>-0.670084</td>\n",
       "      <td>4</td>\n",
       "      <td>PoS</td>\n",
       "      <td>PoS</td>\n",
       "      <td>6174882197.9692</td>\n",
       "      <td>0</td>\n",
       "      <td>0</td>\n",
       "      <td>NuShares</td>\n",
       "    </tr>\n",
       "    <tr>\n",
       "      <th>TRI</th>\n",
       "      <td>0.429879</td>\n",
       "      <td>1.004430</td>\n",
       "      <td>0.304117</td>\n",
       "      <td>2</td>\n",
       "      <td>X13</td>\n",
       "      <td>PoW/PoS</td>\n",
       "      <td>191623.487726</td>\n",
       "      <td>0</td>\n",
       "      <td>0</td>\n",
       "      <td>Triangles Coin</td>\n",
       "    </tr>\n",
       "    <tr>\n",
       "      <th>CMTC</th>\n",
       "      <td>-0.585903</td>\n",
       "      <td>0.064946</td>\n",
       "      <td>0.679476</td>\n",
       "      <td>0</td>\n",
       "      <td>Scrypt</td>\n",
       "      <td>PoW</td>\n",
       "      <td>872830</td>\n",
       "      <td>0</td>\n",
       "      <td>0</td>\n",
       "      <td>CometCoin</td>\n",
       "    </tr>\n",
       "    <tr>\n",
       "      <th>CHAT</th>\n",
       "      <td>1.080502</td>\n",
       "      <td>-0.065915</td>\n",
       "      <td>0.756379</td>\n",
       "      <td>5</td>\n",
       "      <td>Scrypt</td>\n",
       "      <td>PoW/PoS</td>\n",
       "      <td>1000000000</td>\n",
       "      <td>-1</td>\n",
       "      <td>0</td>\n",
       "      <td>OpenChat</td>\n",
       "    </tr>\n",
       "    <tr>\n",
       "      <th>PURA</th>\n",
       "      <td>-0.123627</td>\n",
       "      <td>-0.708993</td>\n",
       "      <td>-0.070158</td>\n",
       "      <td>3</td>\n",
       "      <td>X11</td>\n",
       "      <td>PoW</td>\n",
       "      <td>188358976.839698</td>\n",
       "      <td>-1</td>\n",
       "      <td>0</td>\n",
       "      <td>Pura</td>\n",
       "    </tr>\n",
       "    <tr>\n",
       "      <th>ADK</th>\n",
       "      <td>-0.712631</td>\n",
       "      <td>0.208916</td>\n",
       "      <td>0.016357</td>\n",
       "      <td>0</td>\n",
       "      <td>IMesh</td>\n",
       "      <td>PoW</td>\n",
       "      <td>25000000</td>\n",
       "      <td>0</td>\n",
       "      <td>0</td>\n",
       "      <td>Aidos Kuneen</td>\n",
       "    </tr>\n",
       "    <tr>\n",
       "      <th>DAPS</th>\n",
       "      <td>0.019384</td>\n",
       "      <td>0.551293</td>\n",
       "      <td>-0.273029</td>\n",
       "      <td>4</td>\n",
       "      <td>Dagger</td>\n",
       "      <td>PoW/PoS/PoA</td>\n",
       "      <td>62319462900</td>\n",
       "      <td>70000000000</td>\n",
       "      <td>0</td>\n",
       "      <td>DAPS Coin</td>\n",
       "    </tr>\n",
       "    <tr>\n",
       "      <th>ZANO</th>\n",
       "      <td>0.865245</td>\n",
       "      <td>-0.082873</td>\n",
       "      <td>0.113214</td>\n",
       "      <td>5</td>\n",
       "      <td>ProgPowZ</td>\n",
       "      <td>PoW/PoS</td>\n",
       "      <td>13117020.814253</td>\n",
       "      <td>-1</td>\n",
       "      <td>13117020.814253</td>\n",
       "      <td>Zano</td>\n",
       "    </tr>\n",
       "    <tr>\n",
       "      <th>VEIL</th>\n",
       "      <td>0.397463</td>\n",
       "      <td>0.867930</td>\n",
       "      <td>0.308971</td>\n",
       "      <td>2</td>\n",
       "      <td>X16RT</td>\n",
       "      <td>PoW/PoS</td>\n",
       "      <td>119516479.714871</td>\n",
       "      <td>300000000</td>\n",
       "      <td>0</td>\n",
       "      <td>VEIL</td>\n",
       "    </tr>\n",
       "  </tbody>\n",
       "</table>\n",
       "</div>"
      ],
      "text/plain": [
       "            PC 1      PC 2      PC 3  Class Algorithm     ProofType  \\\n",
       "Symbol                                                                \n",
       "42      0.433619  0.616159  0.875615      2    Scrypt       PoW/PoS   \n",
       "NSR     0.091132  0.790685 -0.670084      4       PoS           PoS   \n",
       "TRI     0.429879  1.004430  0.304117      2       X13       PoW/PoS   \n",
       "CMTC   -0.585903  0.064946  0.679476      0    Scrypt           PoW   \n",
       "CHAT    1.080502 -0.065915  0.756379      5    Scrypt       PoW/PoS   \n",
       "PURA   -0.123627 -0.708993 -0.070158      3       X11           PoW   \n",
       "ADK    -0.712631  0.208916  0.016357      0     IMesh           PoW   \n",
       "DAPS    0.019384  0.551293 -0.273029      4    Dagger   PoW/PoS/PoA   \n",
       "ZANO    0.865245 -0.082873  0.113214      5  ProgPowZ       PoW/PoS   \n",
       "VEIL    0.397463  0.867930  0.308971      2     X16RT       PoW/PoS   \n",
       "\n",
       "         TotalCoinsMined    MaxSupply CirculatingSupply        CoinName  \n",
       "Symbol                                                                   \n",
       "42             41.999952           42         41.999952         42 Coin  \n",
       "NSR      6174882197.9692            0                 0        NuShares  \n",
       "TRI        191623.487726            0                 0  Triangles Coin  \n",
       "CMTC              872830            0                 0       CometCoin  \n",
       "CHAT          1000000000           -1                 0        OpenChat  \n",
       "PURA    188358976.839698           -1                 0            Pura  \n",
       "ADK             25000000            0                 0    Aidos Kuneen  \n",
       "DAPS         62319462900  70000000000                 0       DAPS Coin  \n",
       "ZANO     13117020.814253           -1   13117020.814253            Zano  \n",
       "VEIL    119516479.714871    300000000                 0            VEIL  "
      ]
     },
     "execution_count": 102,
     "metadata": {},
     "output_type": "execute_result"
    }
   ],
   "source": [
    "# Initialize the K-Means model\n",
    "model = KMeans(n_clusters=6 , random_state=1)\n",
    "# Fit the model\n",
    "model.fit(pca_df)\n",
    "# Predict clusters\n",
    "k_6 = model.predict(pca_df)\n",
    "# Create a new DataFrame including predicted clusters and cryptocurrencies features\n",
    "clustered_df = pca_df.copy()\n",
    "clustered_df['Class'] = k_6\n",
    "clustered_df = pd.concat([clustered_df,crypto_df , coin_name_df] , axis=1)\n",
    "clustered_df.head(10)\n",
    "\n",
    "\n"
   ]
  },
  {
   "cell_type": "markdown",
   "metadata": {},
   "source": [
    "### Visualizing Results"
   ]
  },
  {
   "cell_type": "markdown",
   "metadata": {},
   "source": [
    "#### Scatter Plot with Tradable Cryptocurrencies"
   ]
  },
  {
   "cell_type": "code",
   "execution_count": 110,
   "metadata": {},
   "outputs": [
    {
     "data": {},
     "metadata": {},
     "output_type": "display_data"
    },
    {
     "data": {
      "application/vnd.holoviews_exec.v0+json": "",
      "text/html": [
       "<div id='10862'>\n",
       "\n",
       "\n",
       "\n",
       "\n",
       "\n",
       "  <div class=\"bk-root\" id=\"743a6934-8701-4eb9-ade0-6d7d5b9779b6\" data-root-id=\"10862\"></div>\n",
       "</div>\n",
       "<script type=\"application/javascript\">(function(root) {\n",
       "  function embed_document(root) {\n",
       "    var docs_json = {\"2becb215-ff3e-40b7-8f67-97e242d9aba4\":{\"defs\":[{\"extends\":null,\"module\":null,\"name\":\"ReactiveHTML1\",\"overrides\":[],\"properties\":[]},{\"extends\":null,\"module\":null,\"name\":\"FlexBox1\",\"overrides\":[],\"properties\":[{\"default\":\"flex-start\",\"kind\":null,\"name\":\"align_content\"},{\"default\":\"flex-start\",\"kind\":null,\"name\":\"align_items\"},{\"default\":\"row\",\"kind\":null,\"name\":\"flex_direction\"},{\"default\":\"wrap\",\"kind\":null,\"name\":\"flex_wrap\"},{\"default\":\"flex-start\",\"kind\":null,\"name\":\"justify_content\"}]},{\"extends\":null,\"module\":null,\"name\":\"TemplateActions1\",\"overrides\":[],\"properties\":[{\"default\":0,\"kind\":null,\"name\":\"open_modal\"},{\"default\":0,\"kind\":null,\"name\":\"close_modal\"}]},{\"extends\":null,\"module\":null,\"name\":\"MaterialTemplateActions1\",\"overrides\":[],\"properties\":[{\"default\":0,\"kind\":null,\"name\":\"open_modal\"},{\"default\":0,\"kind\":null,\"name\":\"close_modal\"}]}],\"roots\":{\"references\":[{\"attributes\":{},\"id\":\"10877\",\"type\":\"LinearScale\"},{\"attributes\":{\"data\":{\"Class\":[0,0,0,0,0,0,0,0,0,0,0,0,0,0,0,0,0,0,0,0,0,0,0,0,0,0,0,0,0,0,0,0,0,0,0,0,0,0,0,0,0,0,0],\"CoinName\":[\"CometCoin\",\"Aidos Kuneen\",\"MimbleWimbleCoin\",\"Ravencoin Classic\",\"Wibcoin\",\"Arweave\",\"Bithereum\",\"Smart Bitcoin\",\"UnitedBitcoin\",\"Ergo\",\"Genix\",\"Beam\",\"TENT\",\"Handshake\",\"BitcoinZ\",\"eCash\",\"Expanse\",\"SmartCash\",\"Flo\",\"Verge\",\"Bitcoin Gold\",\"ByteCoin\",\"Ethereum Classic\",\"FeatherCoin\",\"Firo\",\"Bitcoin Cash\",\"MegaCoin\",\"Bitcoin Private\",\"Groestlcoin\",\"Gulden\",\"SysCoin\",\"SibCoin\",\"Horizen\",\"Bitcoin SV\",\"BLOC.MONEY\",\"Litecoin\",\"Nano\",\"Bitcoin\",\"Callisto Network\",\"Vertcoin\",\"DigiByte\",\"ZCash\",\"Quantum Resistant Ledger\"],\"PC 2\":{\"__ndarray__\":\"QrtpcUugsD8JhK+Kvr3KP8HBlhdPTKI/yJw0b6MMsz/mzUN8LgKZP2WcuBJN4Lm/KLkC2+u51D/zZsJ9yc62P/Nmwn3JzrY/6D8BNC9Grz9H9Aysm8/AP9MLTI9oR8o/0gtMj2hHyj+tPwE0L0avPyR2G5eHy8o/WZy4Ek3gub9EEZsSTxGbP78/ATQvRq8/YMMnDZbZr7+IaUXcwiajP5TILWHj59A/rIwEv2FPqz/FMS1lKE2xv8I/ATQvRq8/vj8BNC9Grz9vNerYrcm7v1PDJw2W2a+/0wtMj2hHyj+JamUC//CvP2DDJw2W2a+/5s1DfC4CmT8Ah0AyMDfAP5TILWHj59A/bzXq2K3Ju7+9PwE0L0avP/B5IjMLE8S/zcGWF09Moj9vNerYrcm7vyr9H06jToI/r+Q68j8ptj/CC38hfvunP5TILWHj59A/8yc3GuVloz8=\",\"dtype\":\"float64\",\"order\":\"little\",\"shape\":[43]},\"PC 3\":{\"__ndarray__\":\"ljsMh0S+5T85GAFO9b+QP+7AAMBnkJ4/9jou0Vmuoj/61Y+m1rKJPxs2tuaL0cC/CQ8QEu+YoD/ds5h+3IOjP+CzmH7cg6M/+CdD1A9inz+FdQ0gqP+uP75EUkWmFaM/xURSRaYVoz9pJ0PUD2KfP4hfbQjklqQ/Hza25ovRwL81yqlcISuHPxUnQ9QPYp8/79CFxkzB5j/OFxsaLxSgP3FnqGkUrK8/R2qWw4+GcL+xrGEozXS+vxcnQ9QPYp8/FidD1A9inz8CX7xCJ2jCv/HQhcZMweY/xURSRaYVoz/FIhEepGGgP+/QhcZMweY/+dWPptayiT9n9jrEqvCsP2lnqGkUrK8/BF+8Qidowr8eJ0PUD2KfP0rkOQp4s+M/x8AAwGeQnj8CX7xCJ2jCv8IUiWRp0Hw/gM+ngxaMsj+fYvGB/LOhP2lnqGkUrK8/Od/Iyer6nz8=\",\"dtype\":\"float64\",\"order\":\"little\",\"shape\":[43]},\"PC_2\":{\"__ndarray__\":\"QrtpcUugsD8JhK+Kvr3KP8HBlhdPTKI/yJw0b6MMsz/mzUN8LgKZP2WcuBJN4Lm/KLkC2+u51D/zZsJ9yc62P/Nmwn3JzrY/6D8BNC9Grz9H9Aysm8/AP9MLTI9oR8o/0gtMj2hHyj+tPwE0L0avPyR2G5eHy8o/WZy4Ek3gub9EEZsSTxGbP78/ATQvRq8/YMMnDZbZr7+IaUXcwiajP5TILWHj59A/rIwEv2FPqz/FMS1lKE2xv8I/ATQvRq8/vj8BNC9Grz9vNerYrcm7v1PDJw2W2a+/0wtMj2hHyj+JamUC//CvP2DDJw2W2a+/5s1DfC4CmT8Ah0AyMDfAP5TILWHj59A/bzXq2K3Ju7+9PwE0L0avP/B5IjMLE8S/zcGWF09Moj9vNerYrcm7vyr9H06jToI/r+Q68j8ptj/CC38hfvunP5TILWHj59A/8yc3GuVloz8=\",\"dtype\":\"float64\",\"order\":\"little\",\"shape\":[43]},\"PC_3\":{\"__ndarray__\":\"ljsMh0S+5T85GAFO9b+QP+7AAMBnkJ4/9jou0Vmuoj/61Y+m1rKJPxs2tuaL0cC/CQ8QEu+YoD/ds5h+3IOjP+CzmH7cg6M/+CdD1A9inz+FdQ0gqP+uP75EUkWmFaM/xURSRaYVoz9pJ0PUD2KfP4hfbQjklqQ/Hza25ovRwL81yqlcISuHPxUnQ9QPYp8/79CFxkzB5j/OFxsaLxSgP3FnqGkUrK8/R2qWw4+GcL+xrGEozXS+vxcnQ9QPYp8/FidD1A9inz8CX7xCJ2jCv/HQhcZMweY/xURSRaYVoz/FIhEepGGgP+/QhcZMweY/+dWPptayiT9n9jrEqvCsP2lnqGkUrK8/BF+8Qidowr8eJ0PUD2KfP0rkOQp4s+M/x8AAwGeQnj8CX7xCJ2jCv8IUiWRp0Hw/gM+ngxaMsj+fYvGB/LOhP2lnqGkUrK8/Od/Iyer6nz8=\",\"dtype\":\"float64\",\"order\":\"little\",\"shape\":[43]}},\"selected\":{\"id\":\"11576\"},\"selection_policy\":{\"id\":\"11590\"}},\"id\":\"11575\",\"type\":\"ColumnDataSource\"},{\"attributes\":{\"data\":{\"Class\":[2,2,2,2,2,2,2,2,2,2,2,2,2],\"CoinName\":[\"42 Coin\",\"Triangles Coin\",\"VEIL\",\"XDNA\",\"WhiteCoin\",\"PotCoin\",\"Canada eCoin\",\"Decred\",\"BlackCoin\",\"Bitcoin Diamond\",\"Zelcash\",\"HyperCash\",\"IOCoin\"],\"PC 1\":{\"__ndarray__\":\"8f885GjA2z9HwpSJIoPbP3hMqjAKcNk/Y0d+sFK01z+GEoIz1DHgP08L5z4VLOA/sy+b3DwWwD+tY7+3bzHTP6sfsWR7r8k/MAl9Qba53D+lHF4ATirQP6KJ0TUREtg/k9VXSfHD2j8=\",\"dtype\":\"float64\",\"order\":\"little\",\"shape\":[13]},\"PC 3\":{\"__ndarray__\":\"c1Y3IQkF7D9dQCMZqXbTP4W3FFcsxtM//43+2i270j+znXVOIIvuP5TnwDEFS+8/aH+uFLev3T9bFH3f5KDVP9n2ttyoero/0dHKgZGA1T+HKdnr14LUP0ISDwd4m9Y/8EoVCXMXzz8=\",\"dtype\":\"float64\",\"order\":\"little\",\"shape\":[13]},\"PC_1\":{\"__ndarray__\":\"8f885GjA2z9HwpSJIoPbP3hMqjAKcNk/Y0d+sFK01z+GEoIz1DHgP08L5z4VLOA/sy+b3DwWwD+tY7+3bzHTP6sfsWR7r8k/MAl9Qba53D+lHF4ATirQP6KJ0TUREtg/k9VXSfHD2j8=\",\"dtype\":\"float64\",\"order\":\"little\",\"shape\":[13]},\"PC_3\":{\"__ndarray__\":\"c1Y3IQkF7D9dQCMZqXbTP4W3FFcsxtM//43+2i270j+znXVOIIvuP5TnwDEFS+8/aH+uFLev3T9bFH3f5KDVP9n2ttyoero/0dHKgZGA1T+HKdnr14LUP0ISDwd4m9Y/8EoVCXMXzz8=\",\"dtype\":\"float64\",\"order\":\"little\",\"shape\":[13]}},\"selected\":{\"id\":\"11286\"},\"selection_policy\":{\"id\":\"11304\"}},\"id\":\"11285\",\"type\":\"ColumnDataSource\"},{\"attributes\":{\"axis\":{\"id\":\"10885\"},\"coordinates\":null,\"dimension\":1,\"grid_line_color\":null,\"group\":null,\"ticker\":null},\"id\":\"10888\",\"type\":\"Grid\"},{\"attributes\":{\"data\":{\"Class\":[2,2,2,2,2,2,2,2,2,2,2,2,2],\"CoinName\":[\"42 Coin\",\"Triangles Coin\",\"VEIL\",\"XDNA\",\"WhiteCoin\",\"PotCoin\",\"Canada eCoin\",\"Decred\",\"BlackCoin\",\"Bitcoin Diamond\",\"Zelcash\",\"HyperCash\",\"IOCoin\"],\"PC 1\":{\"__ndarray__\":\"8f885GjA2z9HwpSJIoPbP3hMqjAKcNk/Y0d+sFK01z+GEoIz1DHgP08L5z4VLOA/sy+b3DwWwD+tY7+3bzHTP6sfsWR7r8k/MAl9Qba53D+lHF4ATirQP6KJ0TUREtg/k9VXSfHD2j8=\",\"dtype\":\"float64\",\"order\":\"little\",\"shape\":[13]},\"PC 2\":{\"__ndarray__\":\"QeVQwZO34z8ozeKKJRLwPy+F9TsUxus/IF/sa/n87j9pVHnlwEzoPzX7+tlM+OY/IOICT/qk2j8xHMwHP/jtPy+kTSC71eA/v8Qni4lM7j9p2USfulbwPxShPJguuuw/C65bHBcG6z8=\",\"dtype\":\"float64\",\"order\":\"little\",\"shape\":[13]},\"PC_1\":{\"__ndarray__\":\"8f885GjA2z9HwpSJIoPbP3hMqjAKcNk/Y0d+sFK01z+GEoIz1DHgP08L5z4VLOA/sy+b3DwWwD+tY7+3bzHTP6sfsWR7r8k/MAl9Qba53D+lHF4ATirQP6KJ0TUREtg/k9VXSfHD2j8=\",\"dtype\":\"float64\",\"order\":\"little\",\"shape\":[13]},\"PC_2\":{\"__ndarray__\":\"QeVQwZO34z8ozeKKJRLwPy+F9TsUxus/IF/sa/n87j9pVHnlwEzoPzX7+tlM+OY/IOICT/qk2j8xHMwHP/jtPy+kTSC71eA/v8Qni4lM7j9p2USfulbwPxShPJguuuw/C65bHBcG6z8=\",\"dtype\":\"float64\",\"order\":\"little\",\"shape\":[13]}},\"selected\":{\"id\":\"10952\"},\"selection_policy\":{\"id\":\"10970\"}},\"id\":\"10951\",\"type\":\"ColumnDataSource\"},{\"attributes\":{},\"id\":\"11216\",\"type\":\"BasicTicker\"},{\"attributes\":{\"coordinates\":null,\"group\":null,\"text\":\"PC 1&3 Clusters\",\"text_color\":\"black\",\"text_font_size\":\"12pt\"},\"id\":\"11207\",\"type\":\"Title\"},{\"attributes\":{\"axis\":{\"id\":\"11219\"},\"coordinates\":null,\"dimension\":1,\"grid_line_color\":null,\"group\":null,\"ticker\":null},\"id\":\"11222\",\"type\":\"Grid\"},{\"attributes\":{\"below\":[{\"id\":\"11215\"}],\"center\":[{\"id\":\"11218\"},{\"id\":\"11222\"}],\"height\":300,\"left\":[{\"id\":\"11219\"}],\"margin\":null,\"min_border_bottom\":10,\"min_border_left\":10,\"min_border_right\":10,\"min_border_top\":10,\"renderers\":[{\"id\":\"11248\"},{\"id\":\"11269\"},{\"id\":\"11291\"},{\"id\":\"11315\"},{\"id\":\"11341\"},{\"id\":\"11369\"}],\"right\":[{\"id\":\"11260\"}],\"sizing_mode\":\"fixed\",\"title\":{\"id\":\"11207\"},\"toolbar\":{\"id\":\"11229\"},\"toolbar_location\":null,\"width\":700,\"x_range\":{\"id\":\"10864\"},\"x_scale\":{\"id\":\"11211\"},\"y_range\":{\"id\":\"11199\"},\"y_scale\":{\"id\":\"11213\"}},\"id\":\"11206\",\"subtype\":\"Figure\",\"type\":\"Plot\"},{\"attributes\":{},\"id\":\"11213\",\"type\":\"LinearScale\"},{\"attributes\":{\"data\":{\"Class\":[5,5,5,5,5,5,5,5,5,5,5,5,5,5,5,5,5,5],\"CoinName\":[\"OpenChat\",\"Zano\",\"QuarkCoin\",\"BeforeCoinMarketCap\",\"VeriCoin\",\"Emercoin\",\"Auroracoin\",\"SaluS\",\"Aion\",\"DigitalNote\",\"BlockNet\",\"SafeExchangeCoin\",\"Private Instant Verified Transaction\",\"NovaCoin\",\"CloakCoin\",\"USX Quantum\",\"NavCoin\",\"Reddcoin\"],\"PC 2\":{\"__ndarray__\":\"p9Xt4NXfsL99JfGrLze1vzflUTZiDKc/yUf7kMsIgL9wqsNHo0DZvwZmpOJaT30/SyeCRaqhs79MJ4JFqqGzv2TNw4b4g6U/dc3DhviDpT895VE2YgynP3B0yctgL9q/O+VRNmIMpz9MJ4JFqqGzvwiRDxpcnrs/SSeCRaqhs78OkQ8aXJ67P0wngkWqobO/\",\"dtype\":\"float64\",\"order\":\"little\",\"shape\":[18]},\"PC 3\":{\"__ndarray__\":\"tk8ybEE06D/AwU/Glvu8PyjvSSOBPNE/rPIGS12eyz9KrY5JF1DZP3ot/XvaS8w/M4Gbsy+K7D8ygZuzL4rsPyLihu4An88/IeKG7gCfzz8r70kjgTzRP9f+kArbIdg/Ku9JI4E80T8ygZuzL4rsP3M1UtGtqNA/MoGbsy+K7D9yNVLRrajQPzKBm7Mviuw/\",\"dtype\":\"float64\",\"order\":\"little\",\"shape\":[18]},\"PC_2\":{\"__ndarray__\":\"p9Xt4NXfsL99JfGrLze1vzflUTZiDKc/yUf7kMsIgL9wqsNHo0DZvwZmpOJaT30/SyeCRaqhs79MJ4JFqqGzv2TNw4b4g6U/dc3DhviDpT895VE2YgynP3B0yctgL9q/O+VRNmIMpz9MJ4JFqqGzvwiRDxpcnrs/SSeCRaqhs78OkQ8aXJ67P0wngkWqobO/\",\"dtype\":\"float64\",\"order\":\"little\",\"shape\":[18]},\"PC_3\":{\"__ndarray__\":\"tk8ybEE06D/AwU/Glvu8PyjvSSOBPNE/rPIGS12eyz9KrY5JF1DZP3ot/XvaS8w/M4Gbsy+K7D8ygZuzL4rsPyLihu4An88/IeKG7gCfzz8r70kjgTzRP9f+kArbIdg/Ku9JI4E80T8ygZuzL4rsP3M1UtGtqNA/MoGbsy+K7D9yNVLRrajQPzKBm7Mviuw/\",\"dtype\":\"float64\",\"order\":\"little\",\"shape\":[18]}},\"selected\":{\"id\":\"11697\"},\"selection_policy\":{\"id\":\"11721\"}},\"id\":\"11696\",\"type\":\"ColumnDataSource\"},{\"attributes\":{},\"id\":\"11570\",\"type\":\"BasicTickFormatter\"},{\"attributes\":{\"axis_label\":\"PC 1\",\"coordinates\":null,\"formatter\":{\"id\":\"11237\"},\"group\":null,\"major_label_policy\":{\"id\":\"11238\"},\"ticker\":{\"id\":\"11216\"}},\"id\":\"11215\",\"type\":\"LinearAxis\"},{\"attributes\":{},\"id\":\"11211\",\"type\":\"LinearScale\"},{\"attributes\":{\"axis\":{\"id\":\"11215\"},\"coordinates\":null,\"grid_line_color\":null,\"group\":null,\"ticker\":null},\"id\":\"11218\",\"type\":\"Grid\"},{\"attributes\":{},\"id\":\"11220\",\"type\":\"BasicTicker\"},{\"attributes\":{\"axis_label\":\"PC 3\",\"coordinates\":null,\"formatter\":{\"id\":\"11240\"},\"group\":null,\"major_label_policy\":{\"id\":\"11241\"},\"ticker\":{\"id\":\"11220\"}},\"id\":\"11219\",\"type\":\"LinearAxis\"},{\"attributes\":{\"data\":{\"Class\":[0,0,0,0,0,0,0,0,0,0,0,0,0,0,0,0,0,0,0,0,0,0,0,0,0,0,0,0,0,0,0,0,0,0,0,0,0,0,0,0,0,0,0],\"CoinName\":[\"CometCoin\",\"Aidos Kuneen\",\"MimbleWimbleCoin\",\"Ravencoin Classic\",\"Wibcoin\",\"Arweave\",\"Bithereum\",\"Smart Bitcoin\",\"UnitedBitcoin\",\"Ergo\",\"Genix\",\"Beam\",\"TENT\",\"Handshake\",\"BitcoinZ\",\"eCash\",\"Expanse\",\"SmartCash\",\"Flo\",\"Verge\",\"Bitcoin Gold\",\"ByteCoin\",\"Ethereum Classic\",\"FeatherCoin\",\"Firo\",\"Bitcoin Cash\",\"MegaCoin\",\"Bitcoin Private\",\"Groestlcoin\",\"Gulden\",\"SysCoin\",\"SibCoin\",\"Horizen\",\"Bitcoin SV\",\"BLOC.MONEY\",\"Litecoin\",\"Nano\",\"Bitcoin\",\"Callisto Network\",\"Vertcoin\",\"DigiByte\",\"ZCash\",\"Quantum Resistant Ledger\"],\"PC 1\":{\"__ndarray__\":\"TRxsW7e/4r9190Z04M3mv6eL8vONuea/4qC3YrwS6L/k9ysg3Azrv6naKiKLMe6/bb4QU5eH6r9K4X4TOZftv0rhfhM5l+2/4bfJNZWe5r/R916Iv6bmvwSMYEPSauq/BIxgQ9Jq6r/jt8k1lZ7mv+1DdVFKWOu/p9oqIosx7r9jNzjT5kbmv+O3yTWVnua/u0AF+qp84r9cqaemTTXnvzJk61o9+Oy/x+gvIde55r+mMz3srbzpv+O3yTWVnua/47fJNZWe5r+ZVtI+zWzvv7tABfqqfOK/A4xgQ9Jq6r9AWXQR1xLnv7tABfqqfOK/5PcrINwM678D0kT1PUvpvzJk61o9+Oy/mVbSPs1s77/jt8k1lZ7mv2/fUZNvrOW/qIvy84255r+ZVtI+zWzvv4PuARZ+Zua/JHgQze3O5r/872oUQzLovzJk61o9+Oy/Pnz6EFYt578=\",\"dtype\":\"float64\",\"order\":\"little\",\"shape\":[43]},\"PC 2\":{\"__ndarray__\":\"QrtpcUugsD8JhK+Kvr3KP8HBlhdPTKI/yJw0b6MMsz/mzUN8LgKZP2WcuBJN4Lm/KLkC2+u51D/zZsJ9yc62P/Nmwn3JzrY/6D8BNC9Grz9H9Aysm8/AP9MLTI9oR8o/0gtMj2hHyj+tPwE0L0avPyR2G5eHy8o/WZy4Ek3gub9EEZsSTxGbP78/ATQvRq8/YMMnDZbZr7+IaUXcwiajP5TILWHj59A/rIwEv2FPqz/FMS1lKE2xv8I/ATQvRq8/vj8BNC9Grz9vNerYrcm7v1PDJw2W2a+/0wtMj2hHyj+JamUC//CvP2DDJw2W2a+/5s1DfC4CmT8Ah0AyMDfAP5TILWHj59A/bzXq2K3Ju7+9PwE0L0avP/B5IjMLE8S/zcGWF09Moj9vNerYrcm7vyr9H06jToI/r+Q68j8ptj/CC38hfvunP5TILWHj59A/8yc3GuVloz8=\",\"dtype\":\"float64\",\"order\":\"little\",\"shape\":[43]},\"PC_1\":{\"__ndarray__\":\"TRxsW7e/4r9190Z04M3mv6eL8vONuea/4qC3YrwS6L/k9ysg3Azrv6naKiKLMe6/bb4QU5eH6r9K4X4TOZftv0rhfhM5l+2/4bfJNZWe5r/R916Iv6bmvwSMYEPSauq/BIxgQ9Jq6r/jt8k1lZ7mv+1DdVFKWOu/p9oqIosx7r9jNzjT5kbmv+O3yTWVnua/u0AF+qp84r9cqaemTTXnvzJk61o9+Oy/x+gvIde55r+mMz3srbzpv+O3yTWVnua/47fJNZWe5r+ZVtI+zWzvv7tABfqqfOK/A4xgQ9Jq6r9AWXQR1xLnv7tABfqqfOK/5PcrINwM678D0kT1PUvpvzJk61o9+Oy/mVbSPs1s77/jt8k1lZ7mv2/fUZNvrOW/qIvy84255r+ZVtI+zWzvv4PuARZ+Zua/JHgQze3O5r/872oUQzLovzJk61o9+Oy/Pnz6EFYt578=\",\"dtype\":\"float64\",\"order\":\"little\",\"shape\":[43]},\"PC_2\":{\"__ndarray__\":\"QrtpcUugsD8JhK+Kvr3KP8HBlhdPTKI/yJw0b6MMsz/mzUN8LgKZP2WcuBJN4Lm/KLkC2+u51D/zZsJ9yc62P/Nmwn3JzrY/6D8BNC9Grz9H9Aysm8/AP9MLTI9oR8o/0gtMj2hHyj+tPwE0L0avPyR2G5eHy8o/WZy4Ek3gub9EEZsSTxGbP78/ATQvRq8/YMMnDZbZr7+IaUXcwiajP5TILWHj59A/rIwEv2FPqz/FMS1lKE2xv8I/ATQvRq8/vj8BNC9Grz9vNerYrcm7v1PDJw2W2a+/0wtMj2hHyj+JamUC//CvP2DDJw2W2a+/5s1DfC4CmT8Ah0AyMDfAP5TILWHj59A/bzXq2K3Ju7+9PwE0L0avP/B5IjMLE8S/zcGWF09Moj9vNerYrcm7vyr9H06jToI/r+Q68j8ptj/CC38hfvunP5TILWHj59A/8yc3GuVloz8=\",\"dtype\":\"float64\",\"order\":\"little\",\"shape\":[43]}},\"selected\":{\"id\":\"10909\"},\"selection_policy\":{\"id\":\"10923\"}},\"id\":\"10908\",\"type\":\"ColumnDataSource\"},{\"attributes\":{\"source\":{\"id\":\"11242\"}},\"id\":\"11249\",\"type\":\"CDSView\"},{\"attributes\":{\"fill_color\":{\"value\":\"#fc4f30\"},\"hatch_color\":{\"value\":\"#fc4f30\"},\"line_color\":{\"value\":\"#fc4f30\"},\"size\":{\"value\":5.477225575051661},\"x\":{\"field\":\"PC 1\"},\"y\":{\"field\":\"PC 3\"}},\"id\":\"11266\",\"type\":\"Scatter\"},{\"attributes\":{\"fill_alpha\":{\"value\":0.1},\"fill_color\":{\"value\":\"#fc4f30\"},\"hatch_alpha\":{\"value\":0.1},\"hatch_color\":{\"value\":\"#fc4f30\"},\"line_alpha\":{\"value\":0.1},\"line_color\":{\"value\":\"#fc4f30\"},\"size\":{\"value\":5.477225575051661},\"x\":{\"field\":\"PC 1\"},\"y\":{\"field\":\"PC 3\"}},\"id\":\"11267\",\"type\":\"Scatter\"},{\"attributes\":{},\"id\":\"11223\",\"type\":\"SaveTool\"},{\"attributes\":{},\"id\":\"10879\",\"type\":\"LinearScale\"},{\"attributes\":{},\"id\":\"11224\",\"type\":\"PanTool\"},{\"attributes\":{},\"id\":\"11225\",\"type\":\"WheelZoomTool\"},{\"attributes\":{\"tools\":[{\"id\":\"11200\"},{\"id\":\"11223\"},{\"id\":\"11224\"},{\"id\":\"11225\"},{\"id\":\"11226\"},{\"id\":\"11227\"}]},\"id\":\"11229\",\"type\":\"Toolbar\"},{\"attributes\":{\"overlay\":{\"id\":\"11228\"}},\"id\":\"11226\",\"type\":\"BoxZoomTool\"},{\"attributes\":{},\"id\":\"10886\",\"type\":\"BasicTicker\"},{\"attributes\":{},\"id\":\"11241\",\"type\":\"AllLabels\"},{\"attributes\":{\"coordinates\":null,\"group\":null,\"text\":\"PC 1&2 Clusters\",\"text_color\":\"black\",\"text_font_size\":\"12pt\"},\"id\":\"10873\",\"type\":\"Title\"},{\"attributes\":{},\"id\":\"11227\",\"type\":\"ResetTool\"},{\"attributes\":{\"bottom_units\":\"screen\",\"coordinates\":null,\"fill_alpha\":0.5,\"fill_color\":\"lightgrey\",\"group\":null,\"left_units\":\"screen\",\"level\":\"overlay\",\"line_alpha\":1.0,\"line_color\":\"black\",\"line_dash\":[4,4],\"line_width\":2,\"right_units\":\"screen\",\"syncable\":false,\"top_units\":\"screen\"},\"id\":\"11228\",\"type\":\"BoxAnnotation\"},{\"attributes\":{\"label\":{\"value\":\"0\"},\"renderers\":[{\"id\":\"11248\"}]},\"id\":\"11261\",\"type\":\"LegendItem\"},{\"attributes\":{\"axis_label\":\"PC 1\",\"coordinates\":null,\"formatter\":{\"id\":\"10903\"},\"group\":null,\"major_label_policy\":{\"id\":\"10904\"},\"ticker\":{\"id\":\"10882\"}},\"id\":\"10881\",\"type\":\"LinearAxis\"},{\"attributes\":{},\"id\":\"10906\",\"type\":\"BasicTickFormatter\"},{\"attributes\":{},\"id\":\"11264\",\"type\":\"Selection\"},{\"attributes\":{\"data\":{\"Class\":[0,0,0,0,0,0,0,0,0,0,0,0,0,0,0,0,0,0,0,0,0,0,0,0,0,0,0,0,0,0,0,0,0,0,0,0,0,0,0,0,0,0,0],\"CoinName\":[\"CometCoin\",\"Aidos Kuneen\",\"MimbleWimbleCoin\",\"Ravencoin Classic\",\"Wibcoin\",\"Arweave\",\"Bithereum\",\"Smart Bitcoin\",\"UnitedBitcoin\",\"Ergo\",\"Genix\",\"Beam\",\"TENT\",\"Handshake\",\"BitcoinZ\",\"eCash\",\"Expanse\",\"SmartCash\",\"Flo\",\"Verge\",\"Bitcoin Gold\",\"ByteCoin\",\"Ethereum Classic\",\"FeatherCoin\",\"Firo\",\"Bitcoin Cash\",\"MegaCoin\",\"Bitcoin Private\",\"Groestlcoin\",\"Gulden\",\"SysCoin\",\"SibCoin\",\"Horizen\",\"Bitcoin SV\",\"BLOC.MONEY\",\"Litecoin\",\"Nano\",\"Bitcoin\",\"Callisto Network\",\"Vertcoin\",\"DigiByte\",\"ZCash\",\"Quantum Resistant Ledger\"],\"PC 1\":{\"__ndarray__\":\"TRxsW7e/4r9190Z04M3mv6eL8vONuea/4qC3YrwS6L/k9ysg3Azrv6naKiKLMe6/bb4QU5eH6r9K4X4TOZftv0rhfhM5l+2/4bfJNZWe5r/R916Iv6bmvwSMYEPSauq/BIxgQ9Jq6r/jt8k1lZ7mv+1DdVFKWOu/p9oqIosx7r9jNzjT5kbmv+O3yTWVnua/u0AF+qp84r9cqaemTTXnvzJk61o9+Oy/x+gvIde55r+mMz3srbzpv+O3yTWVnua/47fJNZWe5r+ZVtI+zWzvv7tABfqqfOK/A4xgQ9Jq6r9AWXQR1xLnv7tABfqqfOK/5PcrINwM678D0kT1PUvpvzJk61o9+Oy/mVbSPs1s77/jt8k1lZ7mv2/fUZNvrOW/qIvy84255r+ZVtI+zWzvv4PuARZ+Zua/JHgQze3O5r/872oUQzLovzJk61o9+Oy/Pnz6EFYt578=\",\"dtype\":\"float64\",\"order\":\"little\",\"shape\":[43]},\"PC 3\":{\"__ndarray__\":\"ljsMh0S+5T85GAFO9b+QP+7AAMBnkJ4/9jou0Vmuoj/61Y+m1rKJPxs2tuaL0cC/CQ8QEu+YoD/ds5h+3IOjP+CzmH7cg6M/+CdD1A9inz+FdQ0gqP+uP75EUkWmFaM/xURSRaYVoz9pJ0PUD2KfP4hfbQjklqQ/Hza25ovRwL81yqlcISuHPxUnQ9QPYp8/79CFxkzB5j/OFxsaLxSgP3FnqGkUrK8/R2qWw4+GcL+xrGEozXS+vxcnQ9QPYp8/FidD1A9inz8CX7xCJ2jCv/HQhcZMweY/xURSRaYVoz/FIhEepGGgP+/QhcZMweY/+dWPptayiT9n9jrEqvCsP2lnqGkUrK8/BF+8Qidowr8eJ0PUD2KfP0rkOQp4s+M/x8AAwGeQnj8CX7xCJ2jCv8IUiWRp0Hw/gM+ngxaMsj+fYvGB/LOhP2lnqGkUrK8/Od/Iyer6nz8=\",\"dtype\":\"float64\",\"order\":\"little\",\"shape\":[43]},\"PC_1\":{\"__ndarray__\":\"TRxsW7e/4r9190Z04M3mv6eL8vONuea/4qC3YrwS6L/k9ysg3Azrv6naKiKLMe6/bb4QU5eH6r9K4X4TOZftv0rhfhM5l+2/4bfJNZWe5r/R916Iv6bmvwSMYEPSauq/BIxgQ9Jq6r/jt8k1lZ7mv+1DdVFKWOu/p9oqIosx7r9jNzjT5kbmv+O3yTWVnua/u0AF+qp84r9cqaemTTXnvzJk61o9+Oy/x+gvIde55r+mMz3srbzpv+O3yTWVnua/47fJNZWe5r+ZVtI+zWzvv7tABfqqfOK/A4xgQ9Jq6r9AWXQR1xLnv7tABfqqfOK/5PcrINwM678D0kT1PUvpvzJk61o9+Oy/mVbSPs1s77/jt8k1lZ7mv2/fUZNvrOW/qIvy84255r+ZVtI+zWzvv4PuARZ+Zua/JHgQze3O5r/872oUQzLovzJk61o9+Oy/Pnz6EFYt578=\",\"dtype\":\"float64\",\"order\":\"little\",\"shape\":[43]},\"PC_3\":{\"__ndarray__\":\"ljsMh0S+5T85GAFO9b+QP+7AAMBnkJ4/9jou0Vmuoj/61Y+m1rKJPxs2tuaL0cC/CQ8QEu+YoD/ds5h+3IOjP+CzmH7cg6M/+CdD1A9inz+FdQ0gqP+uP75EUkWmFaM/xURSRaYVoz9pJ0PUD2KfP4hfbQjklqQ/Hza25ovRwL81yqlcISuHPxUnQ9QPYp8/79CFxkzB5j/OFxsaLxSgP3FnqGkUrK8/R2qWw4+GcL+xrGEozXS+vxcnQ9QPYp8/FidD1A9inz8CX7xCJ2jCv/HQhcZMweY/xURSRaYVoz/FIhEepGGgP+/QhcZMweY/+dWPptayiT9n9jrEqvCsP2lnqGkUrK8/BF+8Qidowr8eJ0PUD2KfP0rkOQp4s+M/x8AAwGeQnj8CX7xCJ2jCv8IUiWRp0Hw/gM+ngxaMsj+fYvGB/LOhP2lnqGkUrK8/Od/Iyer6nz8=\",\"dtype\":\"float64\",\"order\":\"little\",\"shape\":[43]}},\"selected\":{\"id\":\"11243\"},\"selection_policy\":{\"id\":\"11257\"}},\"id\":\"11242\",\"type\":\"ColumnDataSource\"},{\"attributes\":{},\"id\":\"11257\",\"type\":\"UnionRenderers\"},{\"attributes\":{\"click_policy\":\"mute\",\"coordinates\":null,\"group\":null,\"items\":[{\"id\":\"11261\"},{\"id\":\"11283\"},{\"id\":\"11307\"},{\"id\":\"11333\"},{\"id\":\"11361\"},{\"id\":\"11391\"}],\"location\":[0,0],\"title\":\"Class\"},\"id\":\"11260\",\"type\":\"Legend\"},{\"attributes\":{\"data\":{\"Class\":[3,3,3,3,3,3,3,3,3,3,3,3,3,3,3,3,3,3,3,3,3],\"CoinName\":[\"Pura\",\"Goldmaxcoin\",\"EtherZero\",\"Circuits of Value\",\"AEON\",\"Nervos Network\",\"TecraCoin\",\"Siacoin\",\"Namecoin\",\"Steem\",\"Primas\",\"Einsteinium\",\"Ethereum\",\"MonaCoin\",\"Monero\",\"Ubiq\",\"ViaCoin\",\"Dero\",\"Dogecoin\",\"Grin\",\"Haven Protocol\"],\"PC 1\":{\"__ndarray__\":\"f/CtxPylv79sie7enoGjv7FqwGElPMS/G9skospnx78lmXvk78LDvyaZe+TvwsO/JZl75O/Cw7/jV3ggIYLFv5cPTjzrPdO/utzYEqqmwb8uM74thZmcv2iJ7t6egaO/c+1zbUPgzr9oie7enoGjvwyb7YsHi8W/e0fZOw6azr9mie7enoGjv0PrFc3TFtC/n2wC++1xvr/jV3ggIYLFvyWZe+TvwsO/\",\"dtype\":\"float64\",\"order\":\"little\",\"shape\":[21]},\"PC 3\":{\"__ndarray__\":\"/fuT8+T1sb8PtiPjRlfkP3XnYNsXtaS/hYvoZaVzkb8MwyvzBT+Uv0rDK/MFP5S/F8Mr8wU/lL+Y3SjWZ/uSv2r8hxcj/6G/nw18CIihwL9wmIwPSvvjPxG2I+NGV+Q/H8pEprsex78RtiPjRlfkP+7SDIBp7JK/TSl5UEsixb8RtiPjRlfkPxLGhW9zici/QowrCv2/4D/E3SjWZ/uSvxXDK/MFP5S/\",\"dtype\":\"float64\",\"order\":\"little\",\"shape\":[21]},\"PC_1\":{\"__ndarray__\":\"f/CtxPylv79sie7enoGjv7FqwGElPMS/G9skospnx78lmXvk78LDvyaZe+TvwsO/JZl75O/Cw7/jV3ggIYLFv5cPTjzrPdO/utzYEqqmwb8uM74thZmcv2iJ7t6egaO/c+1zbUPgzr9oie7enoGjvwyb7YsHi8W/e0fZOw6azr9mie7enoGjv0PrFc3TFtC/n2wC++1xvr/jV3ggIYLFvyWZe+TvwsO/\",\"dtype\":\"float64\",\"order\":\"little\",\"shape\":[21]},\"PC_3\":{\"__ndarray__\":\"/fuT8+T1sb8PtiPjRlfkP3XnYNsXtaS/hYvoZaVzkb8MwyvzBT+Uv0rDK/MFP5S/F8Mr8wU/lL+Y3SjWZ/uSv2r8hxcj/6G/nw18CIihwL9wmIwPSvvjPxG2I+NGV+Q/H8pEprsex78RtiPjRlfkP+7SDIBp7JK/TSl5UEsixb8RtiPjRlfkPxLGhW9zici/QowrCv2/4D/E3SjWZ/uSvxXDK/MFP5S/\",\"dtype\":\"float64\",\"order\":\"little\",\"shape\":[21]}},\"selected\":{\"id\":\"11310\"},\"selection_policy\":{\"id\":\"11330\"}},\"id\":\"11309\",\"type\":\"ColumnDataSource\"},{\"attributes\":{},\"id\":\"11240\",\"type\":\"BasicTickFormatter\"},{\"attributes\":{},\"id\":\"11637\",\"type\":\"UnionRenderers\"},{\"attributes\":{\"label\":{\"value\":\"2\"},\"renderers\":[{\"id\":\"11624\"}]},\"id\":\"11640\",\"type\":\"LegendItem\"},{\"attributes\":{},\"id\":\"11054\",\"type\":\"UnionRenderers\"},{\"attributes\":{\"fill_alpha\":{\"value\":0.1},\"fill_color\":{\"value\":\"#8b8b8b\"},\"hatch_alpha\":{\"value\":0.1},\"hatch_color\":{\"value\":\"#8b8b8b\"},\"line_alpha\":{\"value\":0.1},\"line_color\":{\"value\":\"#8b8b8b\"},\"size\":{\"value\":5.477225575051661},\"x\":{\"field\":\"PC 1\"},\"y\":{\"field\":\"PC 2\"}},\"id\":\"11005\",\"type\":\"Scatter\"},{\"attributes\":{\"margin\":[5,5,5,5],\"name\":\"HSpacer23589\",\"sizing_mode\":\"stretch_width\"},\"id\":\"10863\",\"type\":\"Spacer\"},{\"attributes\":{\"coordinates\":null,\"data_source\":{\"id\":\"11618\"},\"glyph\":{\"id\":\"11621\"},\"group\":null,\"hover_glyph\":null,\"muted_glyph\":{\"id\":\"11623\"},\"nonselection_glyph\":{\"id\":\"11622\"},\"selection_glyph\":{\"id\":\"11641\"},\"view\":{\"id\":\"11625\"}},\"id\":\"11624\",\"type\":\"GlyphRenderer\"},{\"attributes\":{\"label\":{\"value\":\"5\"},\"renderers\":[{\"id\":\"11035\"}]},\"id\":\"11057\",\"type\":\"LegendItem\"},{\"attributes\":{},\"id\":\"10976\",\"type\":\"Selection\"},{\"attributes\":{\"children\":[{\"id\":\"10863\"},{\"id\":\"11932\"},{\"id\":\"12473\"}],\"margin\":[0,0,0,0],\"name\":\"Row23585\",\"tags\":[\"embedded\"]},\"id\":\"10862\",\"type\":\"Row\"},{\"attributes\":{\"end\":1.1632522564002525,\"reset_end\":1.1632522564002525,\"reset_start\":-1.0608818168451486,\"start\":-1.0608818168451486,\"tags\":[[[\"PC 3\",\"PC 3\",null]]]},\"id\":\"11199\",\"type\":\"Range1d\"},{\"attributes\":{\"source\":{\"id\":\"11618\"}},\"id\":\"11625\",\"type\":\"CDSView\"},{\"attributes\":{},\"id\":\"11024\",\"type\":\"UnionRenderers\"},{\"attributes\":{\"angle\":{\"value\":0.0},\"fill_alpha\":{\"value\":1.0},\"fill_color\":{\"value\":\"#17becf\"},\"hatch_alpha\":{\"value\":1.0},\"hatch_color\":{\"value\":\"#17becf\"},\"hatch_scale\":{\"value\":12.0},\"hatch_weight\":{\"value\":1.0},\"line_alpha\":{\"value\":1.0},\"line_cap\":{\"value\":\"butt\"},\"line_color\":{\"value\":\"#17becf\"},\"line_dash\":{\"value\":[]},\"line_dash_offset\":{\"value\":0},\"line_join\":{\"value\":\"bevel\"},\"line_width\":{\"value\":1},\"marker\":{\"value\":\"circle\"},\"size\":{\"value\":5.477225575051661},\"x\":{\"field\":\"PC 1\"},\"y\":{\"field\":\"PC 2\"}},\"id\":\"11058\",\"type\":\"Scatter\"},{\"attributes\":{\"fill_alpha\":{\"value\":0.1},\"fill_color\":{\"value\":\"#6d904f\"},\"hatch_alpha\":{\"value\":0.1},\"hatch_color\":{\"value\":\"#6d904f\"},\"line_alpha\":{\"value\":0.1},\"line_color\":{\"value\":\"#6d904f\"},\"size\":{\"value\":5.477225575051661},\"x\":{\"field\":\"PC 1\"},\"y\":{\"field\":\"PC 2\"}},\"id\":\"10979\",\"type\":\"Scatter\"},{\"attributes\":{\"fill_color\":{\"value\":\"#6d904f\"},\"hatch_color\":{\"value\":\"#6d904f\"},\"line_color\":{\"value\":\"#6d904f\"},\"size\":{\"value\":5.477225575051661},\"x\":{\"field\":\"PC 2\"},\"y\":{\"field\":\"PC 3\"}},\"id\":\"11645\",\"type\":\"Scatter\"},{\"attributes\":{\"data\":{\"Class\":[1,1,1,1,1,1,1,1,1,1,1,1,1,1,1,1,1,1,1,1,1,1,1],\"CoinName\":[\"Stratis\",\"SafePal\",\"Ethereum Name Service\",\"Amber\",\"Anchor Protocol\",\"Oxycoin\",\"Signa\",\"V Systems\",\"Binance Coin\",\"EOS\",\"Shift\",\"Poa Network\",\"Lisk\",\"Ontology\",\"Rise\",\"Acute Angle Cloud\",\"Stakenet\",\"ARK\",\"BitTorrent\",\"Waves\",\"ICON Project\",\"Kcash\",\"SuperCoin\"],\"PC 1\":{\"__ndarray__\":\"xjjffJAj5j9J2DCEcdXhPxYHCQ4fQuE/Od33c8wz4j+EScNpwHbmP6LiTBmAZ+Y/VxGsnpbo3z9K2DCEcdXhP07YMIRx1eE/CvMDV5RF5D+i4kwZgGfmP6pO/UG/MOI/ouJMGYBn5j/uMpbo9XPmP3ktkABXpeY/9s+z4br64z8mZBcqO2biP6LiTBmAZ+Y/4O+y83Hu4T9J2DCEcdXhP8Zn6RtmZeQ/RyAxczwL5D8lj02pFufkPw==\",\"dtype\":\"float64\",\"order\":\"little\",\"shape\":[23]},\"PC 2\":{\"__ndarray__\":\"7LH4sZQZtL/bMZse+RfSv5BZcVw3fta/RThbauuF0b9qcIM1PBy4v2oGcZScFde/c0WM8nkL3L/fMZse+RfSv90xmx75F9K/vyCMTESr379pBnGUnBXXv3cacnFGstK/agZxlJwV17/eOfcd5IvBvxK8X2+RRsm/IjBsQIjr0L+2RALDDiXRv2kGcZScFde/e5/KuC443b/gMZse+RfSv6Bta0EWRsO/n5ydntDFz78H71pAPfvBvw==\",\"dtype\":\"float64\",\"order\":\"little\",\"shape\":[23]},\"PC_1\":{\"__ndarray__\":\"xjjffJAj5j9J2DCEcdXhPxYHCQ4fQuE/Od33c8wz4j+EScNpwHbmP6LiTBmAZ+Y/VxGsnpbo3z9K2DCEcdXhP07YMIRx1eE/CvMDV5RF5D+i4kwZgGfmP6pO/UG/MOI/ouJMGYBn5j/uMpbo9XPmP3ktkABXpeY/9s+z4br64z8mZBcqO2biP6LiTBmAZ+Y/4O+y83Hu4T9J2DCEcdXhP8Zn6RtmZeQ/RyAxczwL5D8lj02pFufkPw==\",\"dtype\":\"float64\",\"order\":\"little\",\"shape\":[23]},\"PC_2\":{\"__ndarray__\":\"7LH4sZQZtL/bMZse+RfSv5BZcVw3fta/RThbauuF0b9qcIM1PBy4v2oGcZScFde/c0WM8nkL3L/fMZse+RfSv90xmx75F9K/vyCMTESr379pBnGUnBXXv3cacnFGstK/agZxlJwV17/eOfcd5IvBvxK8X2+RRsm/IjBsQIjr0L+2RALDDiXRv2kGcZScFde/e5/KuC443b/gMZse+RfSv6Bta0EWRsO/n5ydntDFz78H71pAPfvBvw==\",\"dtype\":\"float64\",\"order\":\"little\",\"shape\":[23]}},\"selected\":{\"id\":\"10930\"},\"selection_policy\":{\"id\":\"10946\"}},\"id\":\"10929\",\"type\":\"ColumnDataSource\"},{\"attributes\":{\"source\":{\"id\":\"10975\"}},\"id\":\"10982\",\"type\":\"CDSView\"},{\"attributes\":{\"fill_alpha\":{\"value\":0.1},\"fill_color\":{\"value\":\"#17becf\"},\"hatch_alpha\":{\"value\":0.1},\"hatch_color\":{\"value\":\"#17becf\"},\"line_alpha\":{\"value\":0.1},\"line_color\":{\"value\":\"#17becf\"},\"size\":{\"value\":5.477225575051661},\"x\":{\"field\":\"PC 2\"},\"y\":{\"field\":\"PC 3\"}},\"id\":\"11700\",\"type\":\"Scatter\"},{\"attributes\":{\"fill_alpha\":{\"value\":0.2},\"fill_color\":{\"value\":\"#6d904f\"},\"hatch_alpha\":{\"value\":0.2},\"hatch_color\":{\"value\":\"#6d904f\"},\"line_alpha\":{\"value\":0.2},\"line_color\":{\"value\":\"#6d904f\"},\"size\":{\"value\":5.477225575051661},\"x\":{\"field\":\"PC 2\"},\"y\":{\"field\":\"PC 3\"}},\"id\":\"11647\",\"type\":\"Scatter\"},{\"attributes\":{\"angle\":{\"value\":0.0},\"fill_alpha\":{\"value\":1.0},\"fill_color\":{\"value\":\"#e5ae38\"},\"hatch_alpha\":{\"value\":1.0},\"hatch_color\":{\"value\":\"#e5ae38\"},\"hatch_scale\":{\"value\":12.0},\"hatch_weight\":{\"value\":1.0},\"line_alpha\":{\"value\":1.0},\"line_cap\":{\"value\":\"butt\"},\"line_color\":{\"value\":\"#e5ae38\"},\"line_dash\":{\"value\":[]},\"line_dash_offset\":{\"value\":0},\"line_join\":{\"value\":\"bevel\"},\"line_width\":{\"value\":1},\"marker\":{\"value\":\"circle\"},\"size\":{\"value\":5.477225575051661},\"x\":{\"field\":\"PC 2\"},\"y\":{\"field\":\"PC 3\"}},\"id\":\"11641\",\"type\":\"Scatter\"},{\"attributes\":{\"coordinates\":null,\"data_source\":{\"id\":\"10975\"},\"glyph\":{\"id\":\"10978\"},\"group\":null,\"hover_glyph\":null,\"muted_glyph\":{\"id\":\"10980\"},\"nonselection_glyph\":{\"id\":\"10979\"},\"selection_glyph\":{\"id\":\"11000\"},\"view\":{\"id\":\"10982\"}},\"id\":\"10981\",\"type\":\"GlyphRenderer\"},{\"attributes\":{\"coordinates\":null,\"data_source\":{\"id\":\"11642\"},\"glyph\":{\"id\":\"11645\"},\"group\":null,\"hover_glyph\":null,\"muted_glyph\":{\"id\":\"11647\"},\"nonselection_glyph\":{\"id\":\"11646\"},\"selection_glyph\":{\"id\":\"11667\"},\"view\":{\"id\":\"11649\"}},\"id\":\"11648\",\"type\":\"GlyphRenderer\"},{\"attributes\":{\"fill_alpha\":{\"value\":0.1},\"fill_color\":{\"value\":\"#6d904f\"},\"hatch_alpha\":{\"value\":0.1},\"hatch_color\":{\"value\":\"#6d904f\"},\"line_alpha\":{\"value\":0.1},\"line_color\":{\"value\":\"#6d904f\"},\"size\":{\"value\":5.477225575051661},\"x\":{\"field\":\"PC 2\"},\"y\":{\"field\":\"PC 3\"}},\"id\":\"11646\",\"type\":\"Scatter\"},{\"attributes\":{\"fill_color\":{\"value\":\"#6d904f\"},\"hatch_color\":{\"value\":\"#6d904f\"},\"line_color\":{\"value\":\"#6d904f\"},\"size\":{\"value\":5.477225575051661},\"x\":{\"field\":\"PC 1\"},\"y\":{\"field\":\"PC 2\"}},\"id\":\"10978\",\"type\":\"Scatter\"},{\"attributes\":{\"label\":{\"value\":\"3\"},\"renderers\":[{\"id\":\"10981\"}]},\"id\":\"10999\",\"type\":\"LegendItem\"},{\"attributes\":{\"source\":{\"id\":\"11642\"}},\"id\":\"11649\",\"type\":\"CDSView\"},{\"attributes\":{\"fill_alpha\":{\"value\":0.2},\"fill_color\":{\"value\":\"#6d904f\"},\"hatch_alpha\":{\"value\":0.2},\"hatch_color\":{\"value\":\"#6d904f\"},\"line_alpha\":{\"value\":0.2},\"line_color\":{\"value\":\"#6d904f\"},\"size\":{\"value\":5.477225575051661},\"x\":{\"field\":\"PC 1\"},\"y\":{\"field\":\"PC 2\"}},\"id\":\"10980\",\"type\":\"Scatter\"},{\"attributes\":{\"label\":{\"value\":\"0\"},\"renderers\":[{\"id\":\"10914\"}]},\"id\":\"10927\",\"type\":\"LegendItem\"},{\"attributes\":{},\"id\":\"11238\",\"type\":\"AllLabels\"},{\"attributes\":{},\"id\":\"10996\",\"type\":\"UnionRenderers\"},{\"attributes\":{\"fill_color\":{\"value\":\"#30a2da\"},\"hatch_color\":{\"value\":\"#30a2da\"},\"line_color\":{\"value\":\"#30a2da\"},\"size\":{\"value\":5.477225575051661},\"x\":{\"field\":\"PC 1\"},\"y\":{\"field\":\"PC 3\"}},\"id\":\"11245\",\"type\":\"Scatter\"},{\"attributes\":{\"label\":{\"value\":\"3\"},\"renderers\":[{\"id\":\"11648\"}]},\"id\":\"11666\",\"type\":\"LegendItem\"},{\"attributes\":{},\"id\":\"11002\",\"type\":\"Selection\"},{\"attributes\":{\"angle\":{\"value\":0.0},\"fill_alpha\":{\"value\":1.0},\"fill_color\":{\"value\":\"#6d904f\"},\"hatch_alpha\":{\"value\":1.0},\"hatch_color\":{\"value\":\"#6d904f\"},\"hatch_scale\":{\"value\":12.0},\"hatch_weight\":{\"value\":1.0},\"line_alpha\":{\"value\":1.0},\"line_cap\":{\"value\":\"butt\"},\"line_color\":{\"value\":\"#6d904f\"},\"line_dash\":{\"value\":[]},\"line_dash_offset\":{\"value\":0},\"line_join\":{\"value\":\"bevel\"},\"line_width\":{\"value\":1},\"marker\":{\"value\":\"circle\"},\"size\":{\"value\":5.477225575051661},\"x\":{\"field\":\"PC 1\"},\"y\":{\"field\":\"PC 2\"}},\"id\":\"11000\",\"type\":\"Scatter\"},{\"attributes\":{\"fill_alpha\":{\"value\":0.1},\"fill_color\":{\"value\":\"#30a2da\"},\"hatch_alpha\":{\"value\":0.1},\"hatch_color\":{\"value\":\"#30a2da\"},\"line_alpha\":{\"value\":0.1},\"line_color\":{\"value\":\"#30a2da\"},\"size\":{\"value\":5.477225575051661},\"x\":{\"field\":\"PC 1\"},\"y\":{\"field\":\"PC 2\"}},\"id\":\"10912\",\"type\":\"Scatter\"},{\"attributes\":{\"fill_alpha\":{\"value\":0.2},\"fill_color\":{\"value\":\"#30a2da\"},\"hatch_alpha\":{\"value\":0.2},\"hatch_color\":{\"value\":\"#30a2da\"},\"line_alpha\":{\"value\":0.2},\"line_color\":{\"value\":\"#30a2da\"},\"size\":{\"value\":5.477225575051661},\"x\":{\"field\":\"PC 1\"},\"y\":{\"field\":\"PC 3\"}},\"id\":\"11247\",\"type\":\"Scatter\"},{\"attributes\":{\"coordinates\":null,\"data_source\":{\"id\":\"11242\"},\"glyph\":{\"id\":\"11245\"},\"group\":null,\"hover_glyph\":null,\"muted_glyph\":{\"id\":\"11247\"},\"nonselection_glyph\":{\"id\":\"11246\"},\"selection_glyph\":{\"id\":\"11262\"},\"view\":{\"id\":\"11249\"}},\"id\":\"11248\",\"type\":\"GlyphRenderer\"},{\"attributes\":{\"angle\":{\"value\":0.0},\"fill_alpha\":{\"value\":1.0},\"fill_color\":{\"value\":\"#8b8b8b\"},\"hatch_alpha\":{\"value\":1.0},\"hatch_color\":{\"value\":\"#8b8b8b\"},\"hatch_scale\":{\"value\":12.0},\"hatch_weight\":{\"value\":1.0},\"line_alpha\":{\"value\":1.0},\"line_cap\":{\"value\":\"butt\"},\"line_color\":{\"value\":\"#8b8b8b\"},\"line_dash\":{\"value\":[]},\"line_dash_offset\":{\"value\":0},\"line_join\":{\"value\":\"bevel\"},\"line_width\":{\"value\":1},\"marker\":{\"value\":\"circle\"},\"size\":{\"value\":5.477225575051661},\"x\":{\"field\":\"PC 1\"},\"y\":{\"field\":\"PC 2\"}},\"id\":\"11028\",\"type\":\"Scatter\"},{\"attributes\":{},\"id\":\"11663\",\"type\":\"UnionRenderers\"},{\"attributes\":{\"coordinates\":null,\"data_source\":{\"id\":\"11001\"},\"glyph\":{\"id\":\"11004\"},\"group\":null,\"hover_glyph\":null,\"muted_glyph\":{\"id\":\"11006\"},\"nonselection_glyph\":{\"id\":\"11005\"},\"selection_glyph\":{\"id\":\"11028\"},\"view\":{\"id\":\"11008\"}},\"id\":\"11007\",\"type\":\"GlyphRenderer\"},{\"attributes\":{},\"id\":\"11237\",\"type\":\"BasicTickFormatter\"},{\"attributes\":{},\"id\":\"11691\",\"type\":\"UnionRenderers\"},{\"attributes\":{},\"id\":\"11669\",\"type\":\"Selection\"},{\"attributes\":{\"angle\":{\"value\":0.0},\"fill_alpha\":{\"value\":1.0},\"fill_color\":{\"value\":\"#6d904f\"},\"hatch_alpha\":{\"value\":1.0},\"hatch_color\":{\"value\":\"#6d904f\"},\"hatch_scale\":{\"value\":12.0},\"hatch_weight\":{\"value\":1.0},\"line_alpha\":{\"value\":1.0},\"line_cap\":{\"value\":\"butt\"},\"line_color\":{\"value\":\"#6d904f\"},\"line_dash\":{\"value\":[]},\"line_dash_offset\":{\"value\":0},\"line_join\":{\"value\":\"bevel\"},\"line_width\":{\"value\":1},\"marker\":{\"value\":\"circle\"},\"size\":{\"value\":5.477225575051661},\"x\":{\"field\":\"PC 2\"},\"y\":{\"field\":\"PC 3\"}},\"id\":\"11667\",\"type\":\"Scatter\"},{\"attributes\":{\"label\":{\"value\":\"4\"},\"renderers\":[{\"id\":\"11674\"}]},\"id\":\"11694\",\"type\":\"LegendItem\"},{\"attributes\":{\"label\":{\"value\":\"4\"},\"renderers\":[{\"id\":\"11007\"}]},\"id\":\"11027\",\"type\":\"LegendItem\"},{\"attributes\":{\"children\":[[{\"id\":\"10872\"},0,0],[{\"id\":\"11206\"},0,1],[{\"id\":\"11539\"},0,2]]},\"id\":\"11929\",\"type\":\"GridBox\"},{\"attributes\":{\"fill_color\":{\"value\":\"#8b8b8b\"},\"hatch_color\":{\"value\":\"#8b8b8b\"},\"line_color\":{\"value\":\"#8b8b8b\"},\"size\":{\"value\":5.477225575051661},\"x\":{\"field\":\"PC 1\"},\"y\":{\"field\":\"PC 2\"}},\"id\":\"11004\",\"type\":\"Scatter\"},{\"attributes\":{\"coordinates\":null,\"data_source\":{\"id\":\"11029\"},\"glyph\":{\"id\":\"11032\"},\"group\":null,\"hover_glyph\":null,\"muted_glyph\":{\"id\":\"11034\"},\"nonselection_glyph\":{\"id\":\"11033\"},\"selection_glyph\":{\"id\":\"11058\"},\"view\":{\"id\":\"11036\"}},\"id\":\"11035\",\"type\":\"GlyphRenderer\"},{\"attributes\":{\"angle\":{\"value\":0.0},\"fill_alpha\":{\"value\":1.0},\"fill_color\":{\"value\":\"#30a2da\"},\"hatch_alpha\":{\"value\":1.0},\"hatch_color\":{\"value\":\"#30a2da\"},\"hatch_scale\":{\"value\":12.0},\"hatch_weight\":{\"value\":1.0},\"line_alpha\":{\"value\":1.0},\"line_cap\":{\"value\":\"butt\"},\"line_color\":{\"value\":\"#30a2da\"},\"line_dash\":{\"value\":[]},\"line_dash_offset\":{\"value\":0},\"line_join\":{\"value\":\"bevel\"},\"line_width\":{\"value\":1},\"marker\":{\"value\":\"circle\"},\"size\":{\"value\":5.477225575051661},\"x\":{\"field\":\"PC 1\"},\"y\":{\"field\":\"PC 3\"}},\"id\":\"11262\",\"type\":\"Scatter\"},{\"attributes\":{\"data\":{\"Class\":[4,4,4,4,4,4,4,4,4,4,4,4,4,4,4,4,4,4],\"CoinName\":[\"NuShares\",\"DAPS Coin\",\"TokenPay\",\"Pirate Chain\",\"Internet Node token\",\"Validity\",\"Beldex\",\"QTUM\",\"Dash\",\"Komodo\",\"Nxt\",\"MAPS\",\"Bitshares\",\"Cardano\",\"VeChain\",\"Nexus\",\"Super Zero\",\"Achain\"],\"PC 1\":{\"__ndarray__\":\"mBJ/fXJUtz/WVWFqT9mTP8wVrYejOLo/lFfFAamUwL+81aQqUYpyP53w4neH06A/QCrDnlfitD/MFa2Hozi6P8VhUL03bqe/lFfFAamUwL9AXYFSpl6gPxW6Z2UKT7Y/yKX5VFbXuj+A8aLMwJaTP9/VI61maoA/6NUjrWZqgD/FMDs40zVQPxGm227yuMw/\",\"dtype\":\"float64\",\"order\":\"little\",\"shape\":[18]},\"PC 2\":{\"__ndarray__\":\"nusgy0lN6T/IBicVMqThP98gNMUtKeY/M8v684735j+/tD6nAsfjP0KQPSMiuOI/86f2PReB5D/eIDTFLSnmP29toLSy59s/M8v684735j9wG454NjfkP+KXAlW6oeE/6h8hAeIV3z80tXCYUvnhPz2XzE4Y9OE/PZfMThj04T+Vjqp+ulrfP5oJnCd34eA/\",\"dtype\":\"float64\",\"order\":\"little\",\"shape\":[18]},\"PC_1\":{\"__ndarray__\":\"mBJ/fXJUtz/WVWFqT9mTP8wVrYejOLo/lFfFAamUwL+81aQqUYpyP53w4neH06A/QCrDnlfitD/MFa2Hozi6P8VhUL03bqe/lFfFAamUwL9AXYFSpl6gPxW6Z2UKT7Y/yKX5VFbXuj+A8aLMwJaTP9/VI61maoA/6NUjrWZqgD/FMDs40zVQPxGm227yuMw/\",\"dtype\":\"float64\",\"order\":\"little\",\"shape\":[18]},\"PC_2\":{\"__ndarray__\":\"nusgy0lN6T/IBicVMqThP98gNMUtKeY/M8v684735j+/tD6nAsfjP0KQPSMiuOI/86f2PReB5D/eIDTFLSnmP29toLSy59s/M8v684735j9wG454NjfkP+KXAlW6oeE/6h8hAeIV3z80tXCYUvnhPz2XzE4Y9OE/PZfMThj04T+Vjqp+ulrfP5oJnCd34eA/\",\"dtype\":\"float64\",\"order\":\"little\",\"shape\":[18]}},\"selected\":{\"id\":\"11002\"},\"selection_policy\":{\"id\":\"11024\"}},\"id\":\"11001\",\"type\":\"ColumnDataSource\"},{\"attributes\":{\"fill_alpha\":{\"value\":0.1},\"fill_color\":{\"value\":\"#30a2da\"},\"hatch_alpha\":{\"value\":0.1},\"hatch_color\":{\"value\":\"#30a2da\"},\"line_alpha\":{\"value\":0.1},\"line_color\":{\"value\":\"#30a2da\"},\"size\":{\"value\":5.477225575051661},\"x\":{\"field\":\"PC 1\"},\"y\":{\"field\":\"PC 3\"}},\"id\":\"11246\",\"type\":\"Scatter\"},{\"attributes\":{\"fill_alpha\":{\"value\":0.1},\"fill_color\":{\"value\":\"#8b8b8b\"},\"hatch_alpha\":{\"value\":0.1},\"hatch_color\":{\"value\":\"#8b8b8b\"},\"line_alpha\":{\"value\":0.1},\"line_color\":{\"value\":\"#8b8b8b\"},\"size\":{\"value\":5.477225575051661},\"x\":{\"field\":\"PC 2\"},\"y\":{\"field\":\"PC 3\"}},\"id\":\"11672\",\"type\":\"Scatter\"},{\"attributes\":{},\"id\":\"11243\",\"type\":\"Selection\"},{\"attributes\":{\"coordinates\":null,\"data_source\":{\"id\":\"11668\"},\"glyph\":{\"id\":\"11671\"},\"group\":null,\"hover_glyph\":null,\"muted_glyph\":{\"id\":\"11673\"},\"nonselection_glyph\":{\"id\":\"11672\"},\"selection_glyph\":{\"id\":\"11695\"},\"view\":{\"id\":\"11675\"}},\"id\":\"11674\",\"type\":\"GlyphRenderer\"},{\"attributes\":{\"source\":{\"id\":\"11001\"}},\"id\":\"11008\",\"type\":\"CDSView\"},{\"attributes\":{\"source\":{\"id\":\"11668\"}},\"id\":\"11675\",\"type\":\"CDSView\"},{\"attributes\":{\"fill_color\":{\"value\":\"#8b8b8b\"},\"hatch_color\":{\"value\":\"#8b8b8b\"},\"line_color\":{\"value\":\"#8b8b8b\"},\"size\":{\"value\":5.477225575051661},\"x\":{\"field\":\"PC 2\"},\"y\":{\"field\":\"PC 3\"}},\"id\":\"11671\",\"type\":\"Scatter\"},{\"attributes\":{},\"id\":\"11030\",\"type\":\"Selection\"},{\"attributes\":{\"data\":{\"Class\":[1,1,1,1,1,1,1,1,1,1,1,1,1,1,1,1,1,1,1,1,1,1,1],\"CoinName\":[\"Stratis\",\"SafePal\",\"Ethereum Name Service\",\"Amber\",\"Anchor Protocol\",\"Oxycoin\",\"Signa\",\"V Systems\",\"Binance Coin\",\"EOS\",\"Shift\",\"Poa Network\",\"Lisk\",\"Ontology\",\"Rise\",\"Acute Angle Cloud\",\"Stakenet\",\"ARK\",\"BitTorrent\",\"Waves\",\"ICON Project\",\"Kcash\",\"SuperCoin\"],\"PC 1\":{\"__ndarray__\":\"xjjffJAj5j9J2DCEcdXhPxYHCQ4fQuE/Od33c8wz4j+EScNpwHbmP6LiTBmAZ+Y/VxGsnpbo3z9K2DCEcdXhP07YMIRx1eE/CvMDV5RF5D+i4kwZgGfmP6pO/UG/MOI/ouJMGYBn5j/uMpbo9XPmP3ktkABXpeY/9s+z4br64z8mZBcqO2biP6LiTBmAZ+Y/4O+y83Hu4T9J2DCEcdXhP8Zn6RtmZeQ/RyAxczwL5D8lj02pFufkPw==\",\"dtype\":\"float64\",\"order\":\"little\",\"shape\":[23]},\"PC 3\":{\"__ndarray__\":\"Pj2EsoGO4r/9PCx8dRvTvzJglIkdGNK/HrFab1+51L/X8iknvzfpvwp5wOzvpea/df+t9GyL3L/+PCx8dRvTv/o8LHx1G9O/hfuB0mYE7L8LecDs76Xmv0KnPkRbANS/CnnA7O+l5r9NjRsnTqvmv9XKy2db+um/UpNYvURY2b9mfGiVObrVvwt5wOzvpea/Z12lQVb35b//PCx8dRvTv3qbvBnFF+S/lkgbrfiw2r9NDChprO7kvw==\",\"dtype\":\"float64\",\"order\":\"little\",\"shape\":[23]},\"PC_1\":{\"__ndarray__\":\"xjjffJAj5j9J2DCEcdXhPxYHCQ4fQuE/Od33c8wz4j+EScNpwHbmP6LiTBmAZ+Y/VxGsnpbo3z9K2DCEcdXhP07YMIRx1eE/CvMDV5RF5D+i4kwZgGfmP6pO/UG/MOI/ouJMGYBn5j/uMpbo9XPmP3ktkABXpeY/9s+z4br64z8mZBcqO2biP6LiTBmAZ+Y/4O+y83Hu4T9J2DCEcdXhP8Zn6RtmZeQ/RyAxczwL5D8lj02pFufkPw==\",\"dtype\":\"float64\",\"order\":\"little\",\"shape\":[23]},\"PC_3\":{\"__ndarray__\":\"Pj2EsoGO4r/9PCx8dRvTvzJglIkdGNK/HrFab1+51L/X8iknvzfpvwp5wOzvpea/df+t9GyL3L/+PCx8dRvTv/o8LHx1G9O/hfuB0mYE7L8LecDs76Xmv0KnPkRbANS/CnnA7O+l5r9NjRsnTqvmv9XKy2db+um/UpNYvURY2b9mfGiVObrVvwt5wOzvpea/Z12lQVb35b//PCx8dRvTv3qbvBnFF+S/lkgbrfiw2r9NDChprO7kvw==\",\"dtype\":\"float64\",\"order\":\"little\",\"shape\":[23]}},\"selected\":{\"id\":\"11264\"},\"selection_policy\":{\"id\":\"11280\"}},\"id\":\"11263\",\"type\":\"ColumnDataSource\"},{\"attributes\":{\"data\":{\"Class\":[4,4,4,4,4,4,4,4,4,4,4,4,4,4,4,4,4,4],\"CoinName\":[\"NuShares\",\"DAPS Coin\",\"TokenPay\",\"Pirate Chain\",\"Internet Node token\",\"Validity\",\"Beldex\",\"QTUM\",\"Dash\",\"Komodo\",\"Nxt\",\"MAPS\",\"Bitshares\",\"Cardano\",\"VeChain\",\"Nexus\",\"Super Zero\",\"Achain\"],\"PC 1\":{\"__ndarray__\":\"mBJ/fXJUtz/WVWFqT9mTP8wVrYejOLo/lFfFAamUwL+81aQqUYpyP53w4neH06A/QCrDnlfitD/MFa2Hozi6P8VhUL03bqe/lFfFAamUwL9AXYFSpl6gPxW6Z2UKT7Y/yKX5VFbXuj+A8aLMwJaTP9/VI61maoA/6NUjrWZqgD/FMDs40zVQPxGm227yuMw/\",\"dtype\":\"float64\",\"order\":\"little\",\"shape\":[18]},\"PC 3\":{\"__ndarray__\":\"wQrsKFRx5b+RyKusT3nRv8RiQ0isMOS/pHxFeir6z78JP90s/WrNv2ykrRqPzOu/NWqqCdqW47/EYkNIrDDkv9IxLaHf692/pHxFeir6z78XoADgtYnVv3l93lMoKNe/HmR6+hlH4L84/LR1qAXpv6fXFLoXitC/ptcUuheK0L82xPWOUFHRvzRJpf0Crue/\",\"dtype\":\"float64\",\"order\":\"little\",\"shape\":[18]},\"PC_1\":{\"__ndarray__\":\"mBJ/fXJUtz/WVWFqT9mTP8wVrYejOLo/lFfFAamUwL+81aQqUYpyP53w4neH06A/QCrDnlfitD/MFa2Hozi6P8VhUL03bqe/lFfFAamUwL9AXYFSpl6gPxW6Z2UKT7Y/yKX5VFbXuj+A8aLMwJaTP9/VI61maoA/6NUjrWZqgD/FMDs40zVQPxGm227yuMw/\",\"dtype\":\"float64\",\"order\":\"little\",\"shape\":[18]},\"PC_3\":{\"__ndarray__\":\"wQrsKFRx5b+RyKusT3nRv8RiQ0isMOS/pHxFeir6z78JP90s/WrNv2ykrRqPzOu/NWqqCdqW47/EYkNIrDDkv9IxLaHf692/pHxFeir6z78XoADgtYnVv3l93lMoKNe/HmR6+hlH4L84/LR1qAXpv6fXFLoXitC/ptcUuheK0L82xPWOUFHRvzRJpf0Crue/\",\"dtype\":\"float64\",\"order\":\"little\",\"shape\":[18]}},\"selected\":{\"id\":\"11336\"},\"selection_policy\":{\"id\":\"11358\"}},\"id\":\"11335\",\"type\":\"ColumnDataSource\"},{\"attributes\":{\"fill_alpha\":{\"value\":0.2},\"fill_color\":{\"value\":\"#17becf\"},\"hatch_alpha\":{\"value\":0.2},\"hatch_color\":{\"value\":\"#17becf\"},\"line_alpha\":{\"value\":0.2},\"line_color\":{\"value\":\"#17becf\"},\"size\":{\"value\":5.477225575051661},\"x\":{\"field\":\"PC 1\"},\"y\":{\"field\":\"PC 2\"}},\"id\":\"11034\",\"type\":\"Scatter\"},{\"attributes\":{\"fill_alpha\":{\"value\":0.2},\"fill_color\":{\"value\":\"#8b8b8b\"},\"hatch_alpha\":{\"value\":0.2},\"hatch_color\":{\"value\":\"#8b8b8b\"},\"line_alpha\":{\"value\":0.2},\"line_color\":{\"value\":\"#8b8b8b\"},\"size\":{\"value\":5.477225575051661},\"x\":{\"field\":\"PC 2\"},\"y\":{\"field\":\"PC 3\"}},\"id\":\"11673\",\"type\":\"Scatter\"},{\"attributes\":{\"data\":{\"Class\":[5,5,5,5,5,5,5,5,5,5,5,5,5,5,5,5,5,5],\"CoinName\":[\"OpenChat\",\"Zano\",\"QuarkCoin\",\"BeforeCoinMarketCap\",\"VeriCoin\",\"Emercoin\",\"Auroracoin\",\"SaluS\",\"Aion\",\"DigitalNote\",\"BlockNet\",\"SafeExchangeCoin\",\"Private Instant Verified Transaction\",\"NovaCoin\",\"CloakCoin\",\"USX Quantum\",\"NavCoin\",\"Reddcoin\"],\"PC 1\":{\"__ndarray__\":\"gAebMrxJ8T8/jCi/FrDrP1poFuAd6O4/go7bHmvy7D+thFLEVzDlP2KhJNl+Yug/TWCuRK1k8D9NYK5ErWTwP8FlzT8EuO0/wWXNPwS47T9daBbgHejuP37lXAzVfuU/XGgW4B3o7j9NYK5ErWTwP7yUR7IuSe8/TGCuRK1k8D++lEeyLknvP0xgrkStZPA/\",\"dtype\":\"float64\",\"order\":\"little\",\"shape\":[18]},\"PC 2\":{\"__ndarray__\":\"p9Xt4NXfsL99JfGrLze1vzflUTZiDKc/yUf7kMsIgL9wqsNHo0DZvwZmpOJaT30/SyeCRaqhs79MJ4JFqqGzv2TNw4b4g6U/dc3DhviDpT895VE2YgynP3B0yctgL9q/O+VRNmIMpz9MJ4JFqqGzvwiRDxpcnrs/SSeCRaqhs78OkQ8aXJ67P0wngkWqobO/\",\"dtype\":\"float64\",\"order\":\"little\",\"shape\":[18]},\"PC_1\":{\"__ndarray__\":\"gAebMrxJ8T8/jCi/FrDrP1poFuAd6O4/go7bHmvy7D+thFLEVzDlP2KhJNl+Yug/TWCuRK1k8D9NYK5ErWTwP8FlzT8EuO0/wWXNPwS47T9daBbgHejuP37lXAzVfuU/XGgW4B3o7j9NYK5ErWTwP7yUR7IuSe8/TGCuRK1k8D++lEeyLknvP0xgrkStZPA/\",\"dtype\":\"float64\",\"order\":\"little\",\"shape\":[18]},\"PC_2\":{\"__ndarray__\":\"p9Xt4NXfsL99JfGrLze1vzflUTZiDKc/yUf7kMsIgL9wqsNHo0DZvwZmpOJaT30/SyeCRaqhs79MJ4JFqqGzv2TNw4b4g6U/dc3DhviDpT895VE2YgynP3B0yctgL9q/O+VRNmIMpz9MJ4JFqqGzvwiRDxpcnrs/SSeCRaqhs78OkQ8aXJ67P0wngkWqobO/\",\"dtype\":\"float64\",\"order\":\"little\",\"shape\":[18]}},\"selected\":{\"id\":\"11030\"},\"selection_policy\":{\"id\":\"11054\"}},\"id\":\"11029\",\"type\":\"ColumnDataSource\"},{\"attributes\":{\"callback\":null,\"renderers\":[{\"id\":\"11248\"},{\"id\":\"11269\"},{\"id\":\"11291\"},{\"id\":\"11315\"},{\"id\":\"11341\"},{\"id\":\"11369\"}],\"tags\":[\"hv_created\"],\"tooltips\":[[\"Class\",\"@{Class}\"],[\"PC 1\",\"@{PC_1}\"],[\"PC 3\",\"@{PC_3}\"],[\"CoinName\",\"@{CoinName}\"]]},\"id\":\"11200\",\"type\":\"HoverTool\"},{\"attributes\":{\"fill_color\":{\"value\":\"#17becf\"},\"hatch_color\":{\"value\":\"#17becf\"},\"line_color\":{\"value\":\"#17becf\"},\"size\":{\"value\":5.477225575051661},\"x\":{\"field\":\"PC 2\"},\"y\":{\"field\":\"PC 3\"}},\"id\":\"11699\",\"type\":\"Scatter\"},{\"attributes\":{\"fill_alpha\":{\"value\":0.1},\"fill_color\":{\"value\":\"#17becf\"},\"hatch_alpha\":{\"value\":0.1},\"hatch_color\":{\"value\":\"#17becf\"},\"line_alpha\":{\"value\":0.1},\"line_color\":{\"value\":\"#17becf\"},\"size\":{\"value\":5.477225575051661},\"x\":{\"field\":\"PC 1\"},\"y\":{\"field\":\"PC 2\"}},\"id\":\"11033\",\"type\":\"Scatter\"},{\"attributes\":{},\"id\":\"11697\",\"type\":\"Selection\"},{\"attributes\":{\"toolbars\":[{\"id\":\"10895\"},{\"id\":\"11229\"},{\"id\":\"11562\"}],\"tools\":[{\"id\":\"10866\"},{\"id\":\"10889\"},{\"id\":\"10890\"},{\"id\":\"10891\"},{\"id\":\"10892\"},{\"id\":\"10893\"},{\"id\":\"11200\"},{\"id\":\"11223\"},{\"id\":\"11224\"},{\"id\":\"11225\"},{\"id\":\"11226\"},{\"id\":\"11227\"},{\"id\":\"11533\"},{\"id\":\"11556\"},{\"id\":\"11557\"},{\"id\":\"11558\"},{\"id\":\"11559\"},{\"id\":\"11560\"}]},\"id\":\"11930\",\"type\":\"ProxyToolbar\"},{\"attributes\":{\"fill_color\":{\"value\":\"#17becf\"},\"hatch_color\":{\"value\":\"#17becf\"},\"line_color\":{\"value\":\"#17becf\"},\"size\":{\"value\":5.477225575051661},\"x\":{\"field\":\"PC 1\"},\"y\":{\"field\":\"PC 2\"}},\"id\":\"11032\",\"type\":\"Scatter\"},{\"attributes\":{\"source\":{\"id\":\"11029\"}},\"id\":\"11036\",\"type\":\"CDSView\"},{\"attributes\":{},\"id\":\"10907\",\"type\":\"AllLabels\"},{\"attributes\":{\"angle\":{\"value\":0.0},\"fill_alpha\":{\"value\":1.0},\"fill_color\":{\"value\":\"#8b8b8b\"},\"hatch_alpha\":{\"value\":1.0},\"hatch_color\":{\"value\":\"#8b8b8b\"},\"hatch_scale\":{\"value\":12.0},\"hatch_weight\":{\"value\":1.0},\"line_alpha\":{\"value\":1.0},\"line_cap\":{\"value\":\"butt\"},\"line_color\":{\"value\":\"#8b8b8b\"},\"line_dash\":{\"value\":[]},\"line_dash_offset\":{\"value\":0},\"line_join\":{\"value\":\"bevel\"},\"line_width\":{\"value\":1},\"marker\":{\"value\":\"circle\"},\"size\":{\"value\":5.477225575051661},\"x\":{\"field\":\"PC 2\"},\"y\":{\"field\":\"PC 3\"}},\"id\":\"11695\",\"type\":\"Scatter\"},{\"attributes\":{\"coordinates\":null,\"data_source\":{\"id\":\"11335\"},\"glyph\":{\"id\":\"11338\"},\"group\":null,\"hover_glyph\":null,\"muted_glyph\":{\"id\":\"11340\"},\"nonselection_glyph\":{\"id\":\"11339\"},\"selection_glyph\":{\"id\":\"11362\"},\"view\":{\"id\":\"11342\"}},\"id\":\"11341\",\"type\":\"GlyphRenderer\"},{\"attributes\":{\"fill_alpha\":{\"value\":0.2},\"fill_color\":{\"value\":\"#8b8b8b\"},\"hatch_alpha\":{\"value\":0.2},\"hatch_color\":{\"value\":\"#8b8b8b\"},\"line_alpha\":{\"value\":0.2},\"line_color\":{\"value\":\"#8b8b8b\"},\"size\":{\"value\":5.477225575051661},\"x\":{\"field\":\"PC 1\"},\"y\":{\"field\":\"PC 3\"}},\"id\":\"11340\",\"type\":\"Scatter\"},{\"attributes\":{},\"id\":\"11721\",\"type\":\"UnionRenderers\"},{\"attributes\":{\"end\":1.1688960252297789,\"reset_end\":1.1688960252297789,\"reset_start\":-1.0704257426946495,\"start\":-1.0704257426946495,\"tags\":[[[\"PC 1\",\"PC 1\",null]]]},\"id\":\"10864\",\"type\":\"Range1d\"},{\"attributes\":{},\"id\":\"11358\",\"type\":\"UnionRenderers\"},{\"attributes\":{\"children\":[{\"id\":\"11931\"},{\"id\":\"11929\"}]},\"id\":\"11932\",\"type\":\"Column\"},{\"attributes\":{\"source\":{\"id\":\"11696\"}},\"id\":\"11703\",\"type\":\"CDSView\"},{\"attributes\":{\"click_policy\":\"mute\",\"coordinates\":null,\"group\":null,\"items\":[{\"id\":\"10927\"},{\"id\":\"10949\"},{\"id\":\"10973\"},{\"id\":\"10999\"},{\"id\":\"11027\"},{\"id\":\"11057\"}],\"location\":[0,0],\"title\":\"Class\"},\"id\":\"10926\",\"type\":\"Legend\"},{\"attributes\":{\"coordinates\":null,\"data_source\":{\"id\":\"11696\"},\"glyph\":{\"id\":\"11699\"},\"group\":null,\"hover_glyph\":null,\"muted_glyph\":{\"id\":\"11701\"},\"nonselection_glyph\":{\"id\":\"11700\"},\"selection_glyph\":{\"id\":\"11725\"},\"view\":{\"id\":\"11703\"}},\"id\":\"11702\",\"type\":\"GlyphRenderer\"},{\"attributes\":{\"fill_alpha\":{\"value\":0.1},\"fill_color\":{\"value\":\"#8b8b8b\"},\"hatch_alpha\":{\"value\":0.1},\"hatch_color\":{\"value\":\"#8b8b8b\"},\"line_alpha\":{\"value\":0.1},\"line_color\":{\"value\":\"#8b8b8b\"},\"size\":{\"value\":5.477225575051661},\"x\":{\"field\":\"PC 1\"},\"y\":{\"field\":\"PC 3\"}},\"id\":\"11339\",\"type\":\"Scatter\"},{\"attributes\":{\"label\":{\"value\":\"5\"},\"renderers\":[{\"id\":\"11702\"}]},\"id\":\"11724\",\"type\":\"LegendItem\"},{\"attributes\":{},\"id\":\"10923\",\"type\":\"UnionRenderers\"},{\"attributes\":{},\"id\":\"11336\",\"type\":\"Selection\"},{\"attributes\":{\"fill_alpha\":{\"value\":0.1},\"fill_color\":{\"value\":\"#17becf\"},\"hatch_alpha\":{\"value\":0.1},\"hatch_color\":{\"value\":\"#17becf\"},\"line_alpha\":{\"value\":0.1},\"line_color\":{\"value\":\"#17becf\"},\"size\":{\"value\":5.477225575051661},\"x\":{\"field\":\"PC 1\"},\"y\":{\"field\":\"PC 3\"}},\"id\":\"11367\",\"type\":\"Scatter\"},{\"attributes\":{\"fill_alpha\":{\"value\":0.2},\"fill_color\":{\"value\":\"#17becf\"},\"hatch_alpha\":{\"value\":0.2},\"hatch_color\":{\"value\":\"#17becf\"},\"line_alpha\":{\"value\":0.2},\"line_color\":{\"value\":\"#17becf\"},\"size\":{\"value\":5.477225575051661},\"x\":{\"field\":\"PC 2\"},\"y\":{\"field\":\"PC 3\"}},\"id\":\"11701\",\"type\":\"Scatter\"},{\"attributes\":{\"fill_color\":{\"value\":\"#8b8b8b\"},\"hatch_color\":{\"value\":\"#8b8b8b\"},\"line_color\":{\"value\":\"#8b8b8b\"},\"size\":{\"value\":5.477225575051661},\"x\":{\"field\":\"PC 1\"},\"y\":{\"field\":\"PC 3\"}},\"id\":\"11338\",\"type\":\"Scatter\"},{\"attributes\":{\"source\":{\"id\":\"11335\"}},\"id\":\"11342\",\"type\":\"CDSView\"},{\"attributes\":{\"label\":{\"value\":\"5\"},\"renderers\":[{\"id\":\"11369\"}]},\"id\":\"11391\",\"type\":\"LegendItem\"},{\"attributes\":{\"label\":{\"value\":\"4\"},\"renderers\":[{\"id\":\"11341\"}]},\"id\":\"11361\",\"type\":\"LegendItem\"},{\"attributes\":{\"angle\":{\"value\":0.0},\"fill_alpha\":{\"value\":1.0},\"fill_color\":{\"value\":\"#17becf\"},\"hatch_alpha\":{\"value\":1.0},\"hatch_color\":{\"value\":\"#17becf\"},\"hatch_scale\":{\"value\":12.0},\"hatch_weight\":{\"value\":1.0},\"line_alpha\":{\"value\":1.0},\"line_cap\":{\"value\":\"butt\"},\"line_color\":{\"value\":\"#17becf\"},\"line_dash\":{\"value\":[]},\"line_dash_offset\":{\"value\":0},\"line_join\":{\"value\":\"bevel\"},\"line_width\":{\"value\":1},\"marker\":{\"value\":\"circle\"},\"size\":{\"value\":5.477225575051661},\"x\":{\"field\":\"PC 2\"},\"y\":{\"field\":\"PC 3\"}},\"id\":\"11725\",\"type\":\"Scatter\"},{\"attributes\":{\"source\":{\"id\":\"11363\"}},\"id\":\"11370\",\"type\":\"CDSView\"},{\"attributes\":{\"fill_alpha\":{\"value\":0.2},\"fill_color\":{\"value\":\"#30a2da\"},\"hatch_alpha\":{\"value\":0.2},\"hatch_color\":{\"value\":\"#30a2da\"},\"line_alpha\":{\"value\":0.2},\"line_color\":{\"value\":\"#30a2da\"},\"size\":{\"value\":5.477225575051661},\"x\":{\"field\":\"PC 1\"},\"y\":{\"field\":\"PC 2\"}},\"id\":\"10913\",\"type\":\"Scatter\"},{\"attributes\":{\"toolbar\":{\"id\":\"11930\"},\"toolbar_location\":\"above\"},\"id\":\"11931\",\"type\":\"ToolbarBox\"},{\"attributes\":{\"angle\":{\"value\":0.0},\"fill_alpha\":{\"value\":1.0},\"fill_color\":{\"value\":\"#8b8b8b\"},\"hatch_alpha\":{\"value\":1.0},\"hatch_color\":{\"value\":\"#8b8b8b\"},\"hatch_scale\":{\"value\":12.0},\"hatch_weight\":{\"value\":1.0},\"line_alpha\":{\"value\":1.0},\"line_cap\":{\"value\":\"butt\"},\"line_color\":{\"value\":\"#8b8b8b\"},\"line_dash\":{\"value\":[]},\"line_dash_offset\":{\"value\":0},\"line_join\":{\"value\":\"bevel\"},\"line_width\":{\"value\":1},\"marker\":{\"value\":\"circle\"},\"size\":{\"value\":5.477225575051661},\"x\":{\"field\":\"PC 1\"},\"y\":{\"field\":\"PC 3\"}},\"id\":\"11362\",\"type\":\"Scatter\"},{\"attributes\":{\"coordinates\":null,\"data_source\":{\"id\":\"11363\"},\"glyph\":{\"id\":\"11366\"},\"group\":null,\"hover_glyph\":null,\"muted_glyph\":{\"id\":\"11368\"},\"nonselection_glyph\":{\"id\":\"11367\"},\"selection_glyph\":{\"id\":\"11392\"},\"view\":{\"id\":\"11370\"}},\"id\":\"11369\",\"type\":\"GlyphRenderer\"},{\"attributes\":{\"fill_alpha\":{\"value\":0.2},\"fill_color\":{\"value\":\"#17becf\"},\"hatch_alpha\":{\"value\":0.2},\"hatch_color\":{\"value\":\"#17becf\"},\"line_alpha\":{\"value\":0.2},\"line_color\":{\"value\":\"#17becf\"},\"size\":{\"value\":5.477225575051661},\"x\":{\"field\":\"PC 1\"},\"y\":{\"field\":\"PC 3\"}},\"id\":\"11368\",\"type\":\"Scatter\"},{\"attributes\":{\"data\":{\"Class\":[1,1,1,1,1,1,1,1,1,1,1,1,1,1,1,1,1,1,1,1,1,1,1],\"CoinName\":[\"Stratis\",\"SafePal\",\"Ethereum Name Service\",\"Amber\",\"Anchor Protocol\",\"Oxycoin\",\"Signa\",\"V Systems\",\"Binance Coin\",\"EOS\",\"Shift\",\"Poa Network\",\"Lisk\",\"Ontology\",\"Rise\",\"Acute Angle Cloud\",\"Stakenet\",\"ARK\",\"BitTorrent\",\"Waves\",\"ICON Project\",\"Kcash\",\"SuperCoin\"],\"PC 2\":{\"__ndarray__\":\"7LH4sZQZtL/bMZse+RfSv5BZcVw3fta/RThbauuF0b9qcIM1PBy4v2oGcZScFde/c0WM8nkL3L/fMZse+RfSv90xmx75F9K/vyCMTESr379pBnGUnBXXv3cacnFGstK/agZxlJwV17/eOfcd5IvBvxK8X2+RRsm/IjBsQIjr0L+2RALDDiXRv2kGcZScFde/e5/KuC443b/gMZse+RfSv6Bta0EWRsO/n5ydntDFz78H71pAPfvBvw==\",\"dtype\":\"float64\",\"order\":\"little\",\"shape\":[23]},\"PC 3\":{\"__ndarray__\":\"Pj2EsoGO4r/9PCx8dRvTvzJglIkdGNK/HrFab1+51L/X8iknvzfpvwp5wOzvpea/df+t9GyL3L/+PCx8dRvTv/o8LHx1G9O/hfuB0mYE7L8LecDs76Xmv0KnPkRbANS/CnnA7O+l5r9NjRsnTqvmv9XKy2db+um/UpNYvURY2b9mfGiVObrVvwt5wOzvpea/Z12lQVb35b//PCx8dRvTv3qbvBnFF+S/lkgbrfiw2r9NDChprO7kvw==\",\"dtype\":\"float64\",\"order\":\"little\",\"shape\":[23]},\"PC_2\":{\"__ndarray__\":\"7LH4sZQZtL/bMZse+RfSv5BZcVw3fta/RThbauuF0b9qcIM1PBy4v2oGcZScFde/c0WM8nkL3L/fMZse+RfSv90xmx75F9K/vyCMTESr379pBnGUnBXXv3cacnFGstK/agZxlJwV17/eOfcd5IvBvxK8X2+RRsm/IjBsQIjr0L+2RALDDiXRv2kGcZScFde/e5/KuC443b/gMZse+RfSv6Bta0EWRsO/n5ydntDFz78H71pAPfvBvw==\",\"dtype\":\"float64\",\"order\":\"little\",\"shape\":[23]},\"PC_3\":{\"__ndarray__\":\"Pj2EsoGO4r/9PCx8dRvTvzJglIkdGNK/HrFab1+51L/X8iknvzfpvwp5wOzvpea/df+t9GyL3L/+PCx8dRvTv/o8LHx1G9O/hfuB0mYE7L8LecDs76Xmv0KnPkRbANS/CnnA7O+l5r9NjRsnTqvmv9XKy2db+um/UpNYvURY2b9mfGiVObrVvwt5wOzvpea/Z12lQVb35b//PCx8dRvTv3qbvBnFF+S/lkgbrfiw2r9NDChprO7kvw==\",\"dtype\":\"float64\",\"order\":\"little\",\"shape\":[23]}},\"selected\":{\"id\":\"11597\"},\"selection_policy\":{\"id\":\"11613\"}},\"id\":\"11596\",\"type\":\"ColumnDataSource\"},{\"attributes\":{\"source\":{\"id\":\"10908\"}},\"id\":\"10915\",\"type\":\"CDSView\"},{\"attributes\":{},\"id\":\"11388\",\"type\":\"UnionRenderers\"},{\"attributes\":{\"callback\":null,\"renderers\":[{\"id\":\"11581\"},{\"id\":\"11602\"},{\"id\":\"11624\"},{\"id\":\"11648\"},{\"id\":\"11674\"},{\"id\":\"11702\"}],\"tags\":[\"hv_created\"],\"tooltips\":[[\"Class\",\"@{Class}\"],[\"PC 2\",\"@{PC_2}\"],[\"PC 3\",\"@{PC_3}\"],[\"CoinName\",\"@{CoinName}\"]]},\"id\":\"11533\",\"type\":\"HoverTool\"},{\"attributes\":{\"coordinates\":null,\"data_source\":{\"id\":\"10908\"},\"glyph\":{\"id\":\"10911\"},\"group\":null,\"hover_glyph\":null,\"muted_glyph\":{\"id\":\"10913\"},\"nonselection_glyph\":{\"id\":\"10912\"},\"selection_glyph\":{\"id\":\"10928\"},\"view\":{\"id\":\"10915\"}},\"id\":\"10914\",\"type\":\"GlyphRenderer\"},{\"attributes\":{\"fill_color\":{\"value\":\"#17becf\"},\"hatch_color\":{\"value\":\"#17becf\"},\"line_color\":{\"value\":\"#17becf\"},\"size\":{\"value\":5.477225575051661},\"x\":{\"field\":\"PC 1\"},\"y\":{\"field\":\"PC 3\"}},\"id\":\"11366\",\"type\":\"Scatter\"},{\"attributes\":{},\"id\":\"10904\",\"type\":\"AllLabels\"},{\"attributes\":{\"angle\":{\"value\":0.0},\"fill_alpha\":{\"value\":1.0},\"fill_color\":{\"value\":\"#17becf\"},\"hatch_alpha\":{\"value\":1.0},\"hatch_color\":{\"value\":\"#17becf\"},\"hatch_scale\":{\"value\":12.0},\"hatch_weight\":{\"value\":1.0},\"line_alpha\":{\"value\":1.0},\"line_cap\":{\"value\":\"butt\"},\"line_color\":{\"value\":\"#17becf\"},\"line_dash\":{\"value\":[]},\"line_dash_offset\":{\"value\":0},\"line_join\":{\"value\":\"bevel\"},\"line_width\":{\"value\":1},\"marker\":{\"value\":\"circle\"},\"size\":{\"value\":5.477225575051661},\"x\":{\"field\":\"PC 1\"},\"y\":{\"field\":\"PC 3\"}},\"id\":\"11392\",\"type\":\"Scatter\"},{\"attributes\":{},\"id\":\"11576\",\"type\":\"Selection\"},{\"attributes\":{\"below\":[{\"id\":\"10881\"}],\"center\":[{\"id\":\"10884\"},{\"id\":\"10888\"}],\"height\":300,\"left\":[{\"id\":\"10885\"}],\"margin\":null,\"min_border_bottom\":10,\"min_border_left\":10,\"min_border_right\":10,\"min_border_top\":10,\"renderers\":[{\"id\":\"10914\"},{\"id\":\"10935\"},{\"id\":\"10957\"},{\"id\":\"10981\"},{\"id\":\"11007\"},{\"id\":\"11035\"}],\"right\":[{\"id\":\"10926\"}],\"sizing_mode\":\"fixed\",\"title\":{\"id\":\"10873\"},\"toolbar\":{\"id\":\"10895\"},\"toolbar_location\":null,\"width\":700,\"x_range\":{\"id\":\"10864\"},\"x_scale\":{\"id\":\"10877\"},\"y_range\":{\"id\":\"10865\"},\"y_scale\":{\"id\":\"10879\"}},\"id\":\"10872\",\"subtype\":\"Figure\",\"type\":\"Plot\"},{\"attributes\":{},\"id\":\"10889\",\"type\":\"SaveTool\"},{\"attributes\":{\"end\":1.2214307392684665,\"reset_end\":1.2214307392684665,\"reset_start\":-1.1816492860023595,\"start\":-1.1816492860023595,\"tags\":[[[\"PC 2\",\"PC 2\",null]]]},\"id\":\"10865\",\"type\":\"Range1d\"},{\"attributes\":{\"axis\":{\"id\":\"11552\"},\"coordinates\":null,\"dimension\":1,\"grid_line_color\":null,\"group\":null,\"ticker\":null},\"id\":\"11555\",\"type\":\"Grid\"},{\"attributes\":{},\"id\":\"10890\",\"type\":\"PanTool\"},{\"attributes\":{\"click_policy\":\"mute\",\"coordinates\":null,\"group\":null,\"items\":[{\"id\":\"11594\"},{\"id\":\"11616\"},{\"id\":\"11640\"},{\"id\":\"11666\"},{\"id\":\"11694\"},{\"id\":\"11724\"}],\"location\":[0,0],\"title\":\"Class\"},\"id\":\"11593\",\"type\":\"Legend\"},{\"attributes\":{\"callback\":null,\"renderers\":[{\"id\":\"10914\"},{\"id\":\"10935\"},{\"id\":\"10957\"},{\"id\":\"10981\"},{\"id\":\"11007\"},{\"id\":\"11035\"}],\"tags\":[\"hv_created\"],\"tooltips\":[[\"Class\",\"@{Class}\"],[\"PC 1\",\"@{PC_1}\"],[\"PC 2\",\"@{PC_2}\"],[\"CoinName\",\"@{CoinName}\"]]},\"id\":\"10866\",\"type\":\"HoverTool\"},{\"attributes\":{\"fill_color\":{\"value\":\"#30a2da\"},\"hatch_color\":{\"value\":\"#30a2da\"},\"line_color\":{\"value\":\"#30a2da\"},\"size\":{\"value\":5.477225575051661},\"x\":{\"field\":\"PC 2\"},\"y\":{\"field\":\"PC 3\"}},\"id\":\"11578\",\"type\":\"Scatter\"},{\"attributes\":{},\"id\":\"11590\",\"type\":\"UnionRenderers\"},{\"attributes\":{},\"id\":\"10891\",\"type\":\"WheelZoomTool\"},{\"attributes\":{\"tools\":[{\"id\":\"10866\"},{\"id\":\"10889\"},{\"id\":\"10890\"},{\"id\":\"10891\"},{\"id\":\"10892\"},{\"id\":\"10893\"}]},\"id\":\"10895\",\"type\":\"Toolbar\"},{\"attributes\":{\"source\":{\"id\":\"11596\"}},\"id\":\"11603\",\"type\":\"CDSView\"},{\"attributes\":{\"overlay\":{\"id\":\"10894\"}},\"id\":\"10892\",\"type\":\"BoxZoomTool\"},{\"attributes\":{\"coordinates\":null,\"data_source\":{\"id\":\"11263\"},\"glyph\":{\"id\":\"11266\"},\"group\":null,\"hover_glyph\":null,\"muted_glyph\":{\"id\":\"11268\"},\"nonselection_glyph\":{\"id\":\"11267\"},\"selection_glyph\":{\"id\":\"11284\"},\"view\":{\"id\":\"11270\"}},\"id\":\"11269\",\"type\":\"GlyphRenderer\"},{\"attributes\":{\"fill_alpha\":{\"value\":0.1},\"fill_color\":{\"value\":\"#30a2da\"},\"hatch_alpha\":{\"value\":0.1},\"hatch_color\":{\"value\":\"#30a2da\"},\"line_alpha\":{\"value\":0.1},\"line_color\":{\"value\":\"#30a2da\"},\"size\":{\"value\":5.477225575051661},\"x\":{\"field\":\"PC 2\"},\"y\":{\"field\":\"PC 3\"}},\"id\":\"11579\",\"type\":\"Scatter\"},{\"attributes\":{},\"id\":\"11574\",\"type\":\"AllLabels\"},{\"attributes\":{\"tools\":[{\"id\":\"11533\"},{\"id\":\"11556\"},{\"id\":\"11557\"},{\"id\":\"11558\"},{\"id\":\"11559\"},{\"id\":\"11560\"}]},\"id\":\"11562\",\"type\":\"Toolbar\"},{\"attributes\":{\"label\":{\"value\":\"1\"},\"renderers\":[{\"id\":\"11269\"}]},\"id\":\"11283\",\"type\":\"LegendItem\"},{\"attributes\":{\"source\":{\"id\":\"11575\"}},\"id\":\"11582\",\"type\":\"CDSView\"},{\"attributes\":{},\"id\":\"11556\",\"type\":\"SaveTool\"},{\"attributes\":{\"source\":{\"id\":\"11263\"}},\"id\":\"11270\",\"type\":\"CDSView\"},{\"attributes\":{\"margin\":[5,5,5,5],\"name\":\"HSpacer23590\",\"sizing_mode\":\"stretch_width\"},\"id\":\"12473\",\"type\":\"Spacer\"},{\"attributes\":{},\"id\":\"10893\",\"type\":\"ResetTool\"},{\"attributes\":{\"fill_alpha\":{\"value\":0.2},\"fill_color\":{\"value\":\"#fc4f30\"},\"hatch_alpha\":{\"value\":0.2},\"hatch_color\":{\"value\":\"#fc4f30\"},\"line_alpha\":{\"value\":0.2},\"line_color\":{\"value\":\"#fc4f30\"},\"size\":{\"value\":5.477225575051661},\"x\":{\"field\":\"PC 1\"},\"y\":{\"field\":\"PC 3\"}},\"id\":\"11268\",\"type\":\"Scatter\"},{\"attributes\":{},\"id\":\"11557\",\"type\":\"PanTool\"},{\"attributes\":{\"angle\":{\"value\":0.0},\"fill_alpha\":{\"value\":1.0},\"fill_color\":{\"value\":\"#30a2da\"},\"hatch_alpha\":{\"value\":1.0},\"hatch_color\":{\"value\":\"#30a2da\"},\"hatch_scale\":{\"value\":12.0},\"hatch_weight\":{\"value\":1.0},\"line_alpha\":{\"value\":1.0},\"line_cap\":{\"value\":\"butt\"},\"line_color\":{\"value\":\"#30a2da\"},\"line_dash\":{\"value\":[]},\"line_dash_offset\":{\"value\":0},\"line_join\":{\"value\":\"bevel\"},\"line_width\":{\"value\":1},\"marker\":{\"value\":\"circle\"},\"size\":{\"value\":5.477225575051661},\"x\":{\"field\":\"PC 2\"},\"y\":{\"field\":\"PC 3\"}},\"id\":\"11595\",\"type\":\"Scatter\"},{\"attributes\":{},\"id\":\"11558\",\"type\":\"WheelZoomTool\"},{\"attributes\":{\"bottom_units\":\"screen\",\"coordinates\":null,\"fill_alpha\":0.5,\"fill_color\":\"lightgrey\",\"group\":null,\"left_units\":\"screen\",\"level\":\"overlay\",\"line_alpha\":1.0,\"line_color\":\"black\",\"line_dash\":[4,4],\"line_width\":2,\"right_units\":\"screen\",\"syncable\":false,\"top_units\":\"screen\"},\"id\":\"10894\",\"type\":\"BoxAnnotation\"},{\"attributes\":{\"coordinates\":null,\"data_source\":{\"id\":\"11596\"},\"glyph\":{\"id\":\"11599\"},\"group\":null,\"hover_glyph\":null,\"muted_glyph\":{\"id\":\"11601\"},\"nonselection_glyph\":{\"id\":\"11600\"},\"selection_glyph\":{\"id\":\"11617\"},\"view\":{\"id\":\"11603\"}},\"id\":\"11602\",\"type\":\"GlyphRenderer\"},{\"attributes\":{},\"id\":\"11280\",\"type\":\"UnionRenderers\"},{\"attributes\":{\"overlay\":{\"id\":\"11561\"}},\"id\":\"11559\",\"type\":\"BoxZoomTool\"},{\"attributes\":{},\"id\":\"11286\",\"type\":\"Selection\"},{\"attributes\":{},\"id\":\"10930\",\"type\":\"Selection\"},{\"attributes\":{\"fill_alpha\":{\"value\":0.2},\"fill_color\":{\"value\":\"#30a2da\"},\"hatch_alpha\":{\"value\":0.2},\"hatch_color\":{\"value\":\"#30a2da\"},\"line_alpha\":{\"value\":0.2},\"line_color\":{\"value\":\"#30a2da\"},\"size\":{\"value\":5.477225575051661},\"x\":{\"field\":\"PC 2\"},\"y\":{\"field\":\"PC 3\"}},\"id\":\"11580\",\"type\":\"Scatter\"},{\"attributes\":{\"angle\":{\"value\":0.0},\"fill_alpha\":{\"value\":1.0},\"fill_color\":{\"value\":\"#fc4f30\"},\"hatch_alpha\":{\"value\":1.0},\"hatch_color\":{\"value\":\"#fc4f30\"},\"hatch_scale\":{\"value\":12.0},\"hatch_weight\":{\"value\":1.0},\"line_alpha\":{\"value\":1.0},\"line_cap\":{\"value\":\"butt\"},\"line_color\":{\"value\":\"#fc4f30\"},\"line_dash\":{\"value\":[]},\"line_dash_offset\":{\"value\":0},\"line_join\":{\"value\":\"bevel\"},\"line_width\":{\"value\":1},\"marker\":{\"value\":\"circle\"},\"size\":{\"value\":5.477225575051661},\"x\":{\"field\":\"PC 1\"},\"y\":{\"field\":\"PC 3\"}},\"id\":\"11284\",\"type\":\"Scatter\"},{\"attributes\":{\"fill_alpha\":{\"value\":0.1},\"fill_color\":{\"value\":\"#fc4f30\"},\"hatch_alpha\":{\"value\":0.1},\"hatch_color\":{\"value\":\"#fc4f30\"},\"line_alpha\":{\"value\":0.1},\"line_color\":{\"value\":\"#fc4f30\"},\"size\":{\"value\":5.477225575051661},\"x\":{\"field\":\"PC 1\"},\"y\":{\"field\":\"PC 2\"}},\"id\":\"10933\",\"type\":\"Scatter\"},{\"attributes\":{\"fill_alpha\":{\"value\":0.1},\"fill_color\":{\"value\":\"#6d904f\"},\"hatch_alpha\":{\"value\":0.1},\"hatch_color\":{\"value\":\"#6d904f\"},\"line_alpha\":{\"value\":0.1},\"line_color\":{\"value\":\"#6d904f\"},\"size\":{\"value\":5.477225575051661},\"x\":{\"field\":\"PC 1\"},\"y\":{\"field\":\"PC 3\"}},\"id\":\"11313\",\"type\":\"Scatter\"},{\"attributes\":{},\"id\":\"11560\",\"type\":\"ResetTool\"},{\"attributes\":{\"source\":{\"id\":\"11309\"}},\"id\":\"11316\",\"type\":\"CDSView\"},{\"attributes\":{\"source\":{\"id\":\"10929\"}},\"id\":\"10936\",\"type\":\"CDSView\"},{\"attributes\":{},\"id\":\"11310\",\"type\":\"Selection\"},{\"attributes\":{\"axis\":{\"id\":\"11548\"},\"coordinates\":null,\"grid_line_color\":null,\"group\":null,\"ticker\":null},\"id\":\"11551\",\"type\":\"Grid\"},{\"attributes\":{\"bottom_units\":\"screen\",\"coordinates\":null,\"fill_alpha\":0.5,\"fill_color\":\"lightgrey\",\"group\":null,\"left_units\":\"screen\",\"level\":\"overlay\",\"line_alpha\":1.0,\"line_color\":\"black\",\"line_dash\":[4,4],\"line_width\":2,\"right_units\":\"screen\",\"syncable\":false,\"top_units\":\"screen\"},\"id\":\"11561\",\"type\":\"BoxAnnotation\"},{\"attributes\":{\"angle\":{\"value\":0.0},\"fill_alpha\":{\"value\":1.0},\"fill_color\":{\"value\":\"#e5ae38\"},\"hatch_alpha\":{\"value\":1.0},\"hatch_color\":{\"value\":\"#e5ae38\"},\"hatch_scale\":{\"value\":12.0},\"hatch_weight\":{\"value\":1.0},\"line_alpha\":{\"value\":1.0},\"line_cap\":{\"value\":\"butt\"},\"line_color\":{\"value\":\"#e5ae38\"},\"line_dash\":{\"value\":[]},\"line_dash_offset\":{\"value\":0},\"line_join\":{\"value\":\"bevel\"},\"line_width\":{\"value\":1},\"marker\":{\"value\":\"circle\"},\"size\":{\"value\":5.477225575051661},\"x\":{\"field\":\"PC 1\"},\"y\":{\"field\":\"PC 2\"}},\"id\":\"10974\",\"type\":\"Scatter\"},{\"attributes\":{\"fill_alpha\":{\"value\":0.2},\"fill_color\":{\"value\":\"#6d904f\"},\"hatch_alpha\":{\"value\":0.2},\"hatch_color\":{\"value\":\"#6d904f\"},\"line_alpha\":{\"value\":0.2},\"line_color\":{\"value\":\"#6d904f\"},\"size\":{\"value\":5.477225575051661},\"x\":{\"field\":\"PC 1\"},\"y\":{\"field\":\"PC 3\"}},\"id\":\"11314\",\"type\":\"Scatter\"},{\"attributes\":{\"angle\":{\"value\":0.0},\"fill_alpha\":{\"value\":1.0},\"fill_color\":{\"value\":\"#30a2da\"},\"hatch_alpha\":{\"value\":1.0},\"hatch_color\":{\"value\":\"#30a2da\"},\"hatch_scale\":{\"value\":12.0},\"hatch_weight\":{\"value\":1.0},\"line_alpha\":{\"value\":1.0},\"line_cap\":{\"value\":\"butt\"},\"line_color\":{\"value\":\"#30a2da\"},\"line_dash\":{\"value\":[]},\"line_dash_offset\":{\"value\":0},\"line_join\":{\"value\":\"bevel\"},\"line_width\":{\"value\":1},\"marker\":{\"value\":\"circle\"},\"size\":{\"value\":5.477225575051661},\"x\":{\"field\":\"PC 1\"},\"y\":{\"field\":\"PC 2\"}},\"id\":\"10928\",\"type\":\"Scatter\"},{\"attributes\":{\"coordinates\":null,\"data_source\":{\"id\":\"11575\"},\"glyph\":{\"id\":\"11578\"},\"group\":null,\"hover_glyph\":null,\"muted_glyph\":{\"id\":\"11580\"},\"nonselection_glyph\":{\"id\":\"11579\"},\"selection_glyph\":{\"id\":\"11595\"},\"view\":{\"id\":\"11582\"}},\"id\":\"11581\",\"type\":\"GlyphRenderer\"},{\"attributes\":{\"fill_color\":{\"value\":\"#30a2da\"},\"hatch_color\":{\"value\":\"#30a2da\"},\"line_color\":{\"value\":\"#30a2da\"},\"size\":{\"value\":5.477225575051661},\"x\":{\"field\":\"PC 1\"},\"y\":{\"field\":\"PC 2\"}},\"id\":\"10911\",\"type\":\"Scatter\"},{\"attributes\":{\"fill_alpha\":{\"value\":0.2},\"fill_color\":{\"value\":\"#e5ae38\"},\"hatch_alpha\":{\"value\":0.2},\"hatch_color\":{\"value\":\"#e5ae38\"},\"line_alpha\":{\"value\":0.2},\"line_color\":{\"value\":\"#e5ae38\"},\"size\":{\"value\":5.477225575051661},\"x\":{\"field\":\"PC 2\"},\"y\":{\"field\":\"PC 3\"}},\"id\":\"11623\",\"type\":\"Scatter\"},{\"attributes\":{},\"id\":\"11553\",\"type\":\"BasicTicker\"},{\"attributes\":{\"source\":{\"id\":\"11285\"}},\"id\":\"11292\",\"type\":\"CDSView\"},{\"attributes\":{},\"id\":\"11643\",\"type\":\"Selection\"},{\"attributes\":{\"fill_alpha\":{\"value\":0.1},\"fill_color\":{\"value\":\"#e5ae38\"},\"hatch_alpha\":{\"value\":0.1},\"hatch_color\":{\"value\":\"#e5ae38\"},\"line_alpha\":{\"value\":0.1},\"line_color\":{\"value\":\"#e5ae38\"},\"size\":{\"value\":5.477225575051661},\"x\":{\"field\":\"PC 1\"},\"y\":{\"field\":\"PC 3\"}},\"id\":\"11289\",\"type\":\"Scatter\"},{\"attributes\":{\"data\":{\"Class\":[4,4,4,4,4,4,4,4,4,4,4,4,4,4,4,4,4,4],\"CoinName\":[\"NuShares\",\"DAPS Coin\",\"TokenPay\",\"Pirate Chain\",\"Internet Node token\",\"Validity\",\"Beldex\",\"QTUM\",\"Dash\",\"Komodo\",\"Nxt\",\"MAPS\",\"Bitshares\",\"Cardano\",\"VeChain\",\"Nexus\",\"Super Zero\",\"Achain\"],\"PC 2\":{\"__ndarray__\":\"nusgy0lN6T/IBicVMqThP98gNMUtKeY/M8v684735j+/tD6nAsfjP0KQPSMiuOI/86f2PReB5D/eIDTFLSnmP29toLSy59s/M8v684735j9wG454NjfkP+KXAlW6oeE/6h8hAeIV3z80tXCYUvnhPz2XzE4Y9OE/PZfMThj04T+Vjqp+ulrfP5oJnCd34eA/\",\"dtype\":\"float64\",\"order\":\"little\",\"shape\":[18]},\"PC 3\":{\"__ndarray__\":\"wQrsKFRx5b+RyKusT3nRv8RiQ0isMOS/pHxFeir6z78JP90s/WrNv2ykrRqPzOu/NWqqCdqW47/EYkNIrDDkv9IxLaHf692/pHxFeir6z78XoADgtYnVv3l93lMoKNe/HmR6+hlH4L84/LR1qAXpv6fXFLoXitC/ptcUuheK0L82xPWOUFHRvzRJpf0Crue/\",\"dtype\":\"float64\",\"order\":\"little\",\"shape\":[18]},\"PC_2\":{\"__ndarray__\":\"nusgy0lN6T/IBicVMqThP98gNMUtKeY/M8v684735j+/tD6nAsfjP0KQPSMiuOI/86f2PReB5D/eIDTFLSnmP29toLSy59s/M8v684735j9wG454NjfkP+KXAlW6oeE/6h8hAeIV3z80tXCYUvnhPz2XzE4Y9OE/PZfMThj04T+Vjqp+ulrfP5oJnCd34eA/\",\"dtype\":\"float64\",\"order\":\"little\",\"shape\":[18]},\"PC_3\":{\"__ndarray__\":\"wQrsKFRx5b+RyKusT3nRv8RiQ0isMOS/pHxFeir6z78JP90s/WrNv2ykrRqPzOu/NWqqCdqW47/EYkNIrDDkv9IxLaHf692/pHxFeir6z78XoADgtYnVv3l93lMoKNe/HmR6+hlH4L84/LR1qAXpv6fXFLoXitC/ptcUuheK0L82xPWOUFHRvzRJpf0Crue/\",\"dtype\":\"float64\",\"order\":\"little\",\"shape\":[18]}},\"selected\":{\"id\":\"11669\"},\"selection_policy\":{\"id\":\"11691\"}},\"id\":\"11668\",\"type\":\"ColumnDataSource\"},{\"attributes\":{\"coordinates\":null,\"data_source\":{\"id\":\"11285\"},\"glyph\":{\"id\":\"11288\"},\"group\":null,\"hover_glyph\":null,\"muted_glyph\":{\"id\":\"11290\"},\"nonselection_glyph\":{\"id\":\"11289\"},\"selection_glyph\":{\"id\":\"11308\"},\"view\":{\"id\":\"11292\"}},\"id\":\"11291\",\"type\":\"GlyphRenderer\"},{\"attributes\":{\"fill_color\":{\"value\":\"#fc4f30\"},\"hatch_color\":{\"value\":\"#fc4f30\"},\"line_color\":{\"value\":\"#fc4f30\"},\"size\":{\"value\":5.477225575051661},\"x\":{\"field\":\"PC 1\"},\"y\":{\"field\":\"PC 2\"}},\"id\":\"10932\",\"type\":\"Scatter\"},{\"attributes\":{\"label\":{\"value\":\"1\"},\"renderers\":[{\"id\":\"10935\"}]},\"id\":\"10949\",\"type\":\"LegendItem\"},{\"attributes\":{\"coordinates\":null,\"data_source\":{\"id\":\"10929\"},\"glyph\":{\"id\":\"10932\"},\"group\":null,\"hover_glyph\":null,\"muted_glyph\":{\"id\":\"10934\"},\"nonselection_glyph\":{\"id\":\"10933\"},\"selection_glyph\":{\"id\":\"10950\"},\"view\":{\"id\":\"10936\"}},\"id\":\"10935\",\"type\":\"GlyphRenderer\"},{\"attributes\":{\"axis\":{\"id\":\"10881\"},\"coordinates\":null,\"grid_line_color\":null,\"group\":null,\"ticker\":null},\"id\":\"10884\",\"type\":\"Grid\"},{\"attributes\":{\"fill_color\":{\"value\":\"#e5ae38\"},\"hatch_color\":{\"value\":\"#e5ae38\"},\"line_color\":{\"value\":\"#e5ae38\"},\"size\":{\"value\":5.477225575051661},\"x\":{\"field\":\"PC 1\"},\"y\":{\"field\":\"PC 3\"}},\"id\":\"11288\",\"type\":\"Scatter\"},{\"attributes\":{\"fill_alpha\":{\"value\":0.2},\"fill_color\":{\"value\":\"#fc4f30\"},\"hatch_alpha\":{\"value\":0.2},\"hatch_color\":{\"value\":\"#fc4f30\"},\"line_alpha\":{\"value\":0.2},\"line_color\":{\"value\":\"#fc4f30\"},\"size\":{\"value\":5.477225575051661},\"x\":{\"field\":\"PC 1\"},\"y\":{\"field\":\"PC 2\"}},\"id\":\"10934\",\"type\":\"Scatter\"},{\"attributes\":{\"label\":{\"value\":\"2\"},\"renderers\":[{\"id\":\"11291\"}]},\"id\":\"11307\",\"type\":\"LegendItem\"},{\"attributes\":{},\"id\":\"11597\",\"type\":\"Selection\"},{\"attributes\":{\"fill_alpha\":{\"value\":0.2},\"fill_color\":{\"value\":\"#e5ae38\"},\"hatch_alpha\":{\"value\":0.2},\"hatch_color\":{\"value\":\"#e5ae38\"},\"line_alpha\":{\"value\":0.2},\"line_color\":{\"value\":\"#e5ae38\"},\"size\":{\"value\":5.477225575051661},\"x\":{\"field\":\"PC 1\"},\"y\":{\"field\":\"PC 3\"}},\"id\":\"11290\",\"type\":\"Scatter\"},{\"attributes\":{\"fill_color\":{\"value\":\"#fc4f30\"},\"hatch_color\":{\"value\":\"#fc4f30\"},\"line_color\":{\"value\":\"#fc4f30\"},\"size\":{\"value\":5.477225575051661},\"x\":{\"field\":\"PC 2\"},\"y\":{\"field\":\"PC 3\"}},\"id\":\"11599\",\"type\":\"Scatter\"},{\"attributes\":{},\"id\":\"10946\",\"type\":\"UnionRenderers\"},{\"attributes\":{},\"id\":\"11304\",\"type\":\"UnionRenderers\"},{\"attributes\":{\"label\":{\"value\":\"2\"},\"renderers\":[{\"id\":\"10957\"}]},\"id\":\"10973\",\"type\":\"LegendItem\"},{\"attributes\":{\"fill_alpha\":{\"value\":0.1},\"fill_color\":{\"value\":\"#fc4f30\"},\"hatch_alpha\":{\"value\":0.1},\"hatch_color\":{\"value\":\"#fc4f30\"},\"line_alpha\":{\"value\":0.1},\"line_color\":{\"value\":\"#fc4f30\"},\"size\":{\"value\":5.477225575051661},\"x\":{\"field\":\"PC 2\"},\"y\":{\"field\":\"PC 3\"}},\"id\":\"11600\",\"type\":\"Scatter\"},{\"attributes\":{\"label\":{\"value\":\"1\"},\"renderers\":[{\"id\":\"11602\"}]},\"id\":\"11616\",\"type\":\"LegendItem\"},{\"attributes\":{},\"id\":\"11571\",\"type\":\"AllLabels\"},{\"attributes\":{},\"id\":\"10952\",\"type\":\"Selection\"},{\"attributes\":{\"angle\":{\"value\":0.0},\"fill_alpha\":{\"value\":1.0},\"fill_color\":{\"value\":\"#e5ae38\"},\"hatch_alpha\":{\"value\":1.0},\"hatch_color\":{\"value\":\"#e5ae38\"},\"hatch_scale\":{\"value\":12.0},\"hatch_weight\":{\"value\":1.0},\"line_alpha\":{\"value\":1.0},\"line_cap\":{\"value\":\"butt\"},\"line_color\":{\"value\":\"#e5ae38\"},\"line_dash\":{\"value\":[]},\"line_dash_offset\":{\"value\":0},\"line_join\":{\"value\":\"bevel\"},\"line_width\":{\"value\":1},\"marker\":{\"value\":\"circle\"},\"size\":{\"value\":5.477225575051661},\"x\":{\"field\":\"PC 1\"},\"y\":{\"field\":\"PC 3\"}},\"id\":\"11308\",\"type\":\"Scatter\"},{\"attributes\":{},\"id\":\"11573\",\"type\":\"BasicTickFormatter\"},{\"attributes\":{\"fill_alpha\":{\"value\":0.2},\"fill_color\":{\"value\":\"#e5ae38\"},\"hatch_alpha\":{\"value\":0.2},\"hatch_color\":{\"value\":\"#e5ae38\"},\"line_alpha\":{\"value\":0.2},\"line_color\":{\"value\":\"#e5ae38\"},\"size\":{\"value\":5.477225575051661},\"x\":{\"field\":\"PC 1\"},\"y\":{\"field\":\"PC 2\"}},\"id\":\"10956\",\"type\":\"Scatter\"},{\"attributes\":{\"fill_alpha\":{\"value\":0.2},\"fill_color\":{\"value\":\"#fc4f30\"},\"hatch_alpha\":{\"value\":0.2},\"hatch_color\":{\"value\":\"#fc4f30\"},\"line_alpha\":{\"value\":0.2},\"line_color\":{\"value\":\"#fc4f30\"},\"size\":{\"value\":5.477225575051661},\"x\":{\"field\":\"PC 2\"},\"y\":{\"field\":\"PC 3\"}},\"id\":\"11601\",\"type\":\"Scatter\"},{\"attributes\":{\"axis_label\":\"PC 3\",\"coordinates\":null,\"formatter\":{\"id\":\"11573\"},\"group\":null,\"major_label_policy\":{\"id\":\"11574\"},\"ticker\":{\"id\":\"11553\"}},\"id\":\"11552\",\"type\":\"LinearAxis\"},{\"attributes\":{\"angle\":{\"value\":0.0},\"fill_alpha\":{\"value\":1.0},\"fill_color\":{\"value\":\"#fc4f30\"},\"hatch_alpha\":{\"value\":1.0},\"hatch_color\":{\"value\":\"#fc4f30\"},\"hatch_scale\":{\"value\":12.0},\"hatch_weight\":{\"value\":1.0},\"line_alpha\":{\"value\":1.0},\"line_cap\":{\"value\":\"butt\"},\"line_color\":{\"value\":\"#fc4f30\"},\"line_dash\":{\"value\":[]},\"line_dash_offset\":{\"value\":0},\"line_join\":{\"value\":\"bevel\"},\"line_width\":{\"value\":1},\"marker\":{\"value\":\"circle\"},\"size\":{\"value\":5.477225575051661},\"x\":{\"field\":\"PC 1\"},\"y\":{\"field\":\"PC 2\"}},\"id\":\"10950\",\"type\":\"Scatter\"},{\"attributes\":{\"data\":{\"Class\":[5,5,5,5,5,5,5,5,5,5,5,5,5,5,5,5,5,5],\"CoinName\":[\"OpenChat\",\"Zano\",\"QuarkCoin\",\"BeforeCoinMarketCap\",\"VeriCoin\",\"Emercoin\",\"Auroracoin\",\"SaluS\",\"Aion\",\"DigitalNote\",\"BlockNet\",\"SafeExchangeCoin\",\"Private Instant Verified Transaction\",\"NovaCoin\",\"CloakCoin\",\"USX Quantum\",\"NavCoin\",\"Reddcoin\"],\"PC 1\":{\"__ndarray__\":\"gAebMrxJ8T8/jCi/FrDrP1poFuAd6O4/go7bHmvy7D+thFLEVzDlP2KhJNl+Yug/TWCuRK1k8D9NYK5ErWTwP8FlzT8EuO0/wWXNPwS47T9daBbgHejuP37lXAzVfuU/XGgW4B3o7j9NYK5ErWTwP7yUR7IuSe8/TGCuRK1k8D++lEeyLknvP0xgrkStZPA/\",\"dtype\":\"float64\",\"order\":\"little\",\"shape\":[18]},\"PC 3\":{\"__ndarray__\":\"tk8ybEE06D/AwU/Glvu8PyjvSSOBPNE/rPIGS12eyz9KrY5JF1DZP3ot/XvaS8w/M4Gbsy+K7D8ygZuzL4rsPyLihu4An88/IeKG7gCfzz8r70kjgTzRP9f+kArbIdg/Ku9JI4E80T8ygZuzL4rsP3M1UtGtqNA/MoGbsy+K7D9yNVLRrajQPzKBm7Mviuw/\",\"dtype\":\"float64\",\"order\":\"little\",\"shape\":[18]},\"PC_1\":{\"__ndarray__\":\"gAebMrxJ8T8/jCi/FrDrP1poFuAd6O4/go7bHmvy7D+thFLEVzDlP2KhJNl+Yug/TWCuRK1k8D9NYK5ErWTwP8FlzT8EuO0/wWXNPwS47T9daBbgHejuP37lXAzVfuU/XGgW4B3o7j9NYK5ErWTwP7yUR7IuSe8/TGCuRK1k8D++lEeyLknvP0xgrkStZPA/\",\"dtype\":\"float64\",\"order\":\"little\",\"shape\":[18]},\"PC_3\":{\"__ndarray__\":\"tk8ybEE06D/AwU/Glvu8PyjvSSOBPNE/rPIGS12eyz9KrY5JF1DZP3ot/XvaS8w/M4Gbsy+K7D8ygZuzL4rsPyLihu4An88/IeKG7gCfzz8r70kjgTzRP9f+kArbIdg/Ku9JI4E80T8ygZuzL4rsP3M1UtGtqNA/MoGbsy+K7D9yNVLRrajQPzKBm7Mviuw/\",\"dtype\":\"float64\",\"order\":\"little\",\"shape\":[18]}},\"selected\":{\"id\":\"11364\"},\"selection_policy\":{\"id\":\"11388\"}},\"id\":\"11363\",\"type\":\"ColumnDataSource\"},{\"attributes\":{\"fill_color\":{\"value\":\"#e5ae38\"},\"hatch_color\":{\"value\":\"#e5ae38\"},\"line_color\":{\"value\":\"#e5ae38\"},\"size\":{\"value\":5.477225575051661},\"x\":{\"field\":\"PC 2\"},\"y\":{\"field\":\"PC 3\"}},\"id\":\"11621\",\"type\":\"Scatter\"},{\"attributes\":{\"fill_alpha\":{\"value\":0.1},\"fill_color\":{\"value\":\"#e5ae38\"},\"hatch_alpha\":{\"value\":0.1},\"hatch_color\":{\"value\":\"#e5ae38\"},\"line_alpha\":{\"value\":0.1},\"line_color\":{\"value\":\"#e5ae38\"},\"size\":{\"value\":5.477225575051661},\"x\":{\"field\":\"PC 2\"},\"y\":{\"field\":\"PC 3\"}},\"id\":\"11622\",\"type\":\"Scatter\"},{\"attributes\":{},\"id\":\"11613\",\"type\":\"UnionRenderers\"},{\"attributes\":{\"coordinates\":null,\"data_source\":{\"id\":\"11309\"},\"glyph\":{\"id\":\"11312\"},\"group\":null,\"hover_glyph\":null,\"muted_glyph\":{\"id\":\"11314\"},\"nonselection_glyph\":{\"id\":\"11313\"},\"selection_glyph\":{\"id\":\"11334\"},\"view\":{\"id\":\"11316\"}},\"id\":\"11315\",\"type\":\"GlyphRenderer\"},{\"attributes\":{\"fill_alpha\":{\"value\":0.1},\"fill_color\":{\"value\":\"#e5ae38\"},\"hatch_alpha\":{\"value\":0.1},\"hatch_color\":{\"value\":\"#e5ae38\"},\"line_alpha\":{\"value\":0.1},\"line_color\":{\"value\":\"#e5ae38\"},\"size\":{\"value\":5.477225575051661},\"x\":{\"field\":\"PC 1\"},\"y\":{\"field\":\"PC 2\"}},\"id\":\"10955\",\"type\":\"Scatter\"},{\"attributes\":{\"axis_label\":\"PC 2\",\"coordinates\":null,\"formatter\":{\"id\":\"10906\"},\"group\":null,\"major_label_policy\":{\"id\":\"10907\"},\"ticker\":{\"id\":\"10886\"}},\"id\":\"10885\",\"type\":\"LinearAxis\"},{\"attributes\":{\"data\":{\"Class\":[3,3,3,3,3,3,3,3,3,3,3,3,3,3,3,3,3,3,3,3,3],\"CoinName\":[\"Pura\",\"Goldmaxcoin\",\"EtherZero\",\"Circuits of Value\",\"AEON\",\"Nervos Network\",\"TecraCoin\",\"Siacoin\",\"Namecoin\",\"Steem\",\"Primas\",\"Einsteinium\",\"Ethereum\",\"MonaCoin\",\"Monero\",\"Ubiq\",\"ViaCoin\",\"Dero\",\"Dogecoin\",\"Grin\",\"Haven Protocol\"],\"PC 1\":{\"__ndarray__\":\"f/CtxPylv79sie7enoGjv7FqwGElPMS/G9skospnx78lmXvk78LDvyaZe+TvwsO/JZl75O/Cw7/jV3ggIYLFv5cPTjzrPdO/utzYEqqmwb8uM74thZmcv2iJ7t6egaO/c+1zbUPgzr9oie7enoGjvwyb7YsHi8W/e0fZOw6azr9mie7enoGjv0PrFc3TFtC/n2wC++1xvr/jV3ggIYLFvyWZe+TvwsO/\",\"dtype\":\"float64\",\"order\":\"little\",\"shape\":[21]},\"PC 2\":{\"__ndarray__\":\"NN87EhKw5r+4cFYkdpzqv+8Y6glkaOi/ZDixqLOG57+TOmGypp3nv5E6YbKmnee/kzphsqad57/ilUpo6pPnvwHj4CWi7ee//t+HiXiU5b/y/8GoHvnqv7lwViR2nOq/djlmj70g7b+5cFYkdpzqv1jU4pZUk+e/45UzPpd47L+5cFYkdpzqv6JwrgACteu/ozVxfZFn77/ilUpo6pPnv5E6YbKmnee/\",\"dtype\":\"float64\",\"order\":\"little\",\"shape\":[21]},\"PC_1\":{\"__ndarray__\":\"f/CtxPylv79sie7enoGjv7FqwGElPMS/G9skospnx78lmXvk78LDvyaZe+TvwsO/JZl75O/Cw7/jV3ggIYLFv5cPTjzrPdO/utzYEqqmwb8uM74thZmcv2iJ7t6egaO/c+1zbUPgzr9oie7enoGjvwyb7YsHi8W/e0fZOw6azr9mie7enoGjv0PrFc3TFtC/n2wC++1xvr/jV3ggIYLFvyWZe+TvwsO/\",\"dtype\":\"float64\",\"order\":\"little\",\"shape\":[21]},\"PC_2\":{\"__ndarray__\":\"NN87EhKw5r+4cFYkdpzqv+8Y6glkaOi/ZDixqLOG57+TOmGypp3nv5E6YbKmnee/kzphsqad57/ilUpo6pPnvwHj4CWi7ee//t+HiXiU5b/y/8GoHvnqv7lwViR2nOq/djlmj70g7b+5cFYkdpzqv1jU4pZUk+e/45UzPpd47L+5cFYkdpzqv6JwrgACteu/ozVxfZFn77/ilUpo6pPnv5E6YbKmnee/\",\"dtype\":\"float64\",\"order\":\"little\",\"shape\":[21]}},\"selected\":{\"id\":\"10976\"},\"selection_policy\":{\"id\":\"10996\"}},\"id\":\"10975\",\"type\":\"ColumnDataSource\"},{\"attributes\":{\"fill_color\":{\"value\":\"#6d904f\"},\"hatch_color\":{\"value\":\"#6d904f\"},\"line_color\":{\"value\":\"#6d904f\"},\"size\":{\"value\":5.477225575051661},\"x\":{\"field\":\"PC 1\"},\"y\":{\"field\":\"PC 3\"}},\"id\":\"11312\",\"type\":\"Scatter\"},{\"attributes\":{\"label\":{\"value\":\"0\"},\"renderers\":[{\"id\":\"11581\"}]},\"id\":\"11594\",\"type\":\"LegendItem\"},{\"attributes\":{\"fill_alpha\":{\"value\":0.2},\"fill_color\":{\"value\":\"#8b8b8b\"},\"hatch_alpha\":{\"value\":0.2},\"hatch_color\":{\"value\":\"#8b8b8b\"},\"line_alpha\":{\"value\":0.2},\"line_color\":{\"value\":\"#8b8b8b\"},\"size\":{\"value\":5.477225575051661},\"x\":{\"field\":\"PC 1\"},\"y\":{\"field\":\"PC 2\"}},\"id\":\"11006\",\"type\":\"Scatter\"},{\"attributes\":{},\"id\":\"11549\",\"type\":\"BasicTicker\"},{\"attributes\":{\"data\":{\"Class\":[3,3,3,3,3,3,3,3,3,3,3,3,3,3,3,3,3,3,3,3,3],\"CoinName\":[\"Pura\",\"Goldmaxcoin\",\"EtherZero\",\"Circuits of Value\",\"AEON\",\"Nervos Network\",\"TecraCoin\",\"Siacoin\",\"Namecoin\",\"Steem\",\"Primas\",\"Einsteinium\",\"Ethereum\",\"MonaCoin\",\"Monero\",\"Ubiq\",\"ViaCoin\",\"Dero\",\"Dogecoin\",\"Grin\",\"Haven Protocol\"],\"PC 2\":{\"__ndarray__\":\"NN87EhKw5r+4cFYkdpzqv+8Y6glkaOi/ZDixqLOG57+TOmGypp3nv5E6YbKmnee/kzphsqad57/ilUpo6pPnvwHj4CWi7ee//t+HiXiU5b/y/8GoHvnqv7lwViR2nOq/djlmj70g7b+5cFYkdpzqv1jU4pZUk+e/45UzPpd47L+5cFYkdpzqv6JwrgACteu/ozVxfZFn77/ilUpo6pPnv5E6YbKmnee/\",\"dtype\":\"float64\",\"order\":\"little\",\"shape\":[21]},\"PC 3\":{\"__ndarray__\":\"/fuT8+T1sb8PtiPjRlfkP3XnYNsXtaS/hYvoZaVzkb8MwyvzBT+Uv0rDK/MFP5S/F8Mr8wU/lL+Y3SjWZ/uSv2r8hxcj/6G/nw18CIihwL9wmIwPSvvjPxG2I+NGV+Q/H8pEprsex78RtiPjRlfkP+7SDIBp7JK/TSl5UEsixb8RtiPjRlfkPxLGhW9zici/QowrCv2/4D/E3SjWZ/uSvxXDK/MFP5S/\",\"dtype\":\"float64\",\"order\":\"little\",\"shape\":[21]},\"PC_2\":{\"__ndarray__\":\"NN87EhKw5r+4cFYkdpzqv+8Y6glkaOi/ZDixqLOG57+TOmGypp3nv5E6YbKmnee/kzphsqad57/ilUpo6pPnvwHj4CWi7ee//t+HiXiU5b/y/8GoHvnqv7lwViR2nOq/djlmj70g7b+5cFYkdpzqv1jU4pZUk+e/45UzPpd47L+5cFYkdpzqv6JwrgACteu/ozVxfZFn77/ilUpo6pPnv5E6YbKmnee/\",\"dtype\":\"float64\",\"order\":\"little\",\"shape\":[21]},\"PC_3\":{\"__ndarray__\":\"/fuT8+T1sb8PtiPjRlfkP3XnYNsXtaS/hYvoZaVzkb8MwyvzBT+Uv0rDK/MFP5S/F8Mr8wU/lL+Y3SjWZ/uSv2r8hxcj/6G/nw18CIihwL9wmIwPSvvjPxG2I+NGV+Q/H8pEprsex78RtiPjRlfkP+7SDIBp7JK/TSl5UEsixb8RtiPjRlfkPxLGhW9zici/QowrCv2/4D/E3SjWZ/uSvxXDK/MFP5S/\",\"dtype\":\"float64\",\"order\":\"little\",\"shape\":[21]}},\"selected\":{\"id\":\"11643\"},\"selection_policy\":{\"id\":\"11663\"}},\"id\":\"11642\",\"type\":\"ColumnDataSource\"},{\"attributes\":{\"coordinates\":null,\"group\":null,\"text\":\"PC 2&3 Clusters\",\"text_color\":\"black\",\"text_font_size\":\"12pt\"},\"id\":\"11540\",\"type\":\"Title\"},{\"attributes\":{},\"id\":\"10903\",\"type\":\"BasicTickFormatter\"},{\"attributes\":{},\"id\":\"11364\",\"type\":\"Selection\"},{\"attributes\":{\"fill_color\":{\"value\":\"#e5ae38\"},\"hatch_color\":{\"value\":\"#e5ae38\"},\"line_color\":{\"value\":\"#e5ae38\"},\"size\":{\"value\":5.477225575051661},\"x\":{\"field\":\"PC 1\"},\"y\":{\"field\":\"PC 2\"}},\"id\":\"10954\",\"type\":\"Scatter\"},{\"attributes\":{\"angle\":{\"value\":0.0},\"fill_alpha\":{\"value\":1.0},\"fill_color\":{\"value\":\"#fc4f30\"},\"hatch_alpha\":{\"value\":1.0},\"hatch_color\":{\"value\":\"#fc4f30\"},\"hatch_scale\":{\"value\":12.0},\"hatch_weight\":{\"value\":1.0},\"line_alpha\":{\"value\":1.0},\"line_cap\":{\"value\":\"butt\"},\"line_color\":{\"value\":\"#fc4f30\"},\"line_dash\":{\"value\":[]},\"line_dash_offset\":{\"value\":0},\"line_join\":{\"value\":\"bevel\"},\"line_width\":{\"value\":1},\"marker\":{\"value\":\"circle\"},\"size\":{\"value\":5.477225575051661},\"x\":{\"field\":\"PC 2\"},\"y\":{\"field\":\"PC 3\"}},\"id\":\"11617\",\"type\":\"Scatter\"},{\"attributes\":{\"below\":[{\"id\":\"11548\"}],\"center\":[{\"id\":\"11551\"},{\"id\":\"11555\"}],\"height\":300,\"left\":[{\"id\":\"11552\"}],\"margin\":null,\"min_border_bottom\":10,\"min_border_left\":10,\"min_border_right\":10,\"min_border_top\":10,\"renderers\":[{\"id\":\"11581\"},{\"id\":\"11602\"},{\"id\":\"11624\"},{\"id\":\"11648\"},{\"id\":\"11674\"},{\"id\":\"11702\"}],\"right\":[{\"id\":\"11593\"}],\"sizing_mode\":\"fixed\",\"title\":{\"id\":\"11540\"},\"toolbar\":{\"id\":\"11562\"},\"toolbar_location\":null,\"width\":700,\"x_range\":{\"id\":\"10865\"},\"x_scale\":{\"id\":\"11544\"},\"y_range\":{\"id\":\"11199\"},\"y_scale\":{\"id\":\"11546\"}},\"id\":\"11539\",\"subtype\":\"Figure\",\"type\":\"Plot\"},{\"attributes\":{\"label\":{\"value\":\"3\"},\"renderers\":[{\"id\":\"11315\"}]},\"id\":\"11333\",\"type\":\"LegendItem\"},{\"attributes\":{},\"id\":\"11546\",\"type\":\"LinearScale\"},{\"attributes\":{\"coordinates\":null,\"data_source\":{\"id\":\"10951\"},\"glyph\":{\"id\":\"10954\"},\"group\":null,\"hover_glyph\":null,\"muted_glyph\":{\"id\":\"10956\"},\"nonselection_glyph\":{\"id\":\"10955\"},\"selection_glyph\":{\"id\":\"10974\"},\"view\":{\"id\":\"10958\"}},\"id\":\"10957\",\"type\":\"GlyphRenderer\"},{\"attributes\":{\"data\":{\"Class\":[2,2,2,2,2,2,2,2,2,2,2,2,2],\"CoinName\":[\"42 Coin\",\"Triangles Coin\",\"VEIL\",\"XDNA\",\"WhiteCoin\",\"PotCoin\",\"Canada eCoin\",\"Decred\",\"BlackCoin\",\"Bitcoin Diamond\",\"Zelcash\",\"HyperCash\",\"IOCoin\"],\"PC 2\":{\"__ndarray__\":\"QeVQwZO34z8ozeKKJRLwPy+F9TsUxus/IF/sa/n87j9pVHnlwEzoPzX7+tlM+OY/IOICT/qk2j8xHMwHP/jtPy+kTSC71eA/v8Qni4lM7j9p2USfulbwPxShPJguuuw/C65bHBcG6z8=\",\"dtype\":\"float64\",\"order\":\"little\",\"shape\":[13]},\"PC 3\":{\"__ndarray__\":\"c1Y3IQkF7D9dQCMZqXbTP4W3FFcsxtM//43+2i270j+znXVOIIvuP5TnwDEFS+8/aH+uFLev3T9bFH3f5KDVP9n2ttyoero/0dHKgZGA1T+HKdnr14LUP0ISDwd4m9Y/8EoVCXMXzz8=\",\"dtype\":\"float64\",\"order\":\"little\",\"shape\":[13]},\"PC_2\":{\"__ndarray__\":\"QeVQwZO34z8ozeKKJRLwPy+F9TsUxus/IF/sa/n87j9pVHnlwEzoPzX7+tlM+OY/IOICT/qk2j8xHMwHP/jtPy+kTSC71eA/v8Qni4lM7j9p2USfulbwPxShPJguuuw/C65bHBcG6z8=\",\"dtype\":\"float64\",\"order\":\"little\",\"shape\":[13]},\"PC_3\":{\"__ndarray__\":\"c1Y3IQkF7D9dQCMZqXbTP4W3FFcsxtM//43+2i270j+znXVOIIvuP5TnwDEFS+8/aH+uFLev3T9bFH3f5KDVP9n2ttyoero/0dHKgZGA1T+HKdnr14LUP0ISDwd4m9Y/8EoVCXMXzz8=\",\"dtype\":\"float64\",\"order\":\"little\",\"shape\":[13]}},\"selected\":{\"id\":\"11619\"},\"selection_policy\":{\"id\":\"11637\"}},\"id\":\"11618\",\"type\":\"ColumnDataSource\"},{\"attributes\":{\"axis_label\":\"PC 2\",\"coordinates\":null,\"formatter\":{\"id\":\"11570\"},\"group\":null,\"major_label_policy\":{\"id\":\"11571\"},\"ticker\":{\"id\":\"11549\"}},\"id\":\"11548\",\"type\":\"LinearAxis\"},{\"attributes\":{},\"id\":\"11330\",\"type\":\"UnionRenderers\"},{\"attributes\":{},\"id\":\"11544\",\"type\":\"LinearScale\"},{\"attributes\":{\"source\":{\"id\":\"10951\"}},\"id\":\"10958\",\"type\":\"CDSView\"},{\"attributes\":{},\"id\":\"10909\",\"type\":\"Selection\"},{\"attributes\":{},\"id\":\"10882\",\"type\":\"BasicTicker\"},{\"attributes\":{},\"id\":\"11619\",\"type\":\"Selection\"},{\"attributes\":{},\"id\":\"10970\",\"type\":\"UnionRenderers\"},{\"attributes\":{\"angle\":{\"value\":0.0},\"fill_alpha\":{\"value\":1.0},\"fill_color\":{\"value\":\"#6d904f\"},\"hatch_alpha\":{\"value\":1.0},\"hatch_color\":{\"value\":\"#6d904f\"},\"hatch_scale\":{\"value\":12.0},\"hatch_weight\":{\"value\":1.0},\"line_alpha\":{\"value\":1.0},\"line_cap\":{\"value\":\"butt\"},\"line_color\":{\"value\":\"#6d904f\"},\"line_dash\":{\"value\":[]},\"line_dash_offset\":{\"value\":0},\"line_join\":{\"value\":\"bevel\"},\"line_width\":{\"value\":1},\"marker\":{\"value\":\"circle\"},\"size\":{\"value\":5.477225575051661},\"x\":{\"field\":\"PC 1\"},\"y\":{\"field\":\"PC 3\"}},\"id\":\"11334\",\"type\":\"Scatter\"}],\"root_ids\":[\"10862\"]},\"title\":\"Bokeh Application\",\"version\":\"2.4.2\"}};\n",
       "    var render_items = [{\"docid\":\"2becb215-ff3e-40b7-8f67-97e242d9aba4\",\"root_ids\":[\"10862\"],\"roots\":{\"10862\":\"743a6934-8701-4eb9-ade0-6d7d5b9779b6\"}}];\n",
       "    root.Bokeh.embed.embed_items_notebook(docs_json, render_items);\n",
       "  }\n",
       "  if (root.Bokeh !== undefined && root.Bokeh.Panel !== undefined) {\n",
       "    embed_document(root);\n",
       "  } else {\n",
       "    var attempts = 0;\n",
       "    var timer = setInterval(function(root) {\n",
       "      if (root.Bokeh !== undefined && root.Bokeh.Panel !== undefined) {\n",
       "        clearInterval(timer);\n",
       "        embed_document(root);\n",
       "      } else if (document.readyState == \"complete\") {\n",
       "        attempts++;\n",
       "        if (attempts > 200) {\n",
       "          clearInterval(timer);\n",
       "          console.log(\"Bokeh: ERROR: Unable to run BokehJS code because BokehJS library is missing\");\n",
       "        }\n",
       "      }\n",
       "    }, 25, root)\n",
       "  }\n",
       "})(window);</script>"
      ],
      "text/plain": [
       ":Layout\n",
       "   .NdOverlay.I   :NdOverlay   [Class]\n",
       "      :Scatter   [PC 1]   (PC 2,CoinName)\n",
       "   .NdOverlay.II  :NdOverlay   [Class]\n",
       "      :Scatter   [PC 1]   (PC 3,CoinName)\n",
       "   .NdOverlay.III :NdOverlay   [Class]\n",
       "      :Scatter   [PC 2]   (PC 3,CoinName)"
      ]
     },
     "execution_count": 110,
     "metadata": {
      "application/vnd.holoviews_exec.v0+json": {
       "id": "10862"
      }
     },
     "output_type": "execute_result"
    }
   ],
   "source": [
    "# Scale data to create the scatter plot\n",
    "clustered_df.hvplot.scatter(\n",
    "    x=\"PC 1\",\n",
    "    y=\"PC 2\" ,\n",
    "    by='Class',\n",
    "    hover_cols=[\"CoinName\"] ,\n",
    "    title = \"PC 1&2 Clusters\"\n",
    ") + clustered_df.hvplot.scatter(\n",
    "    x=\"PC 1\",\n",
    "    y=\"PC 3\" ,\n",
    "    by='Class',\n",
    "    hover_cols=[\"CoinName\"],\n",
    "    title = \"PC 1&3 Clusters\"\n",
    ") + clustered_df.hvplot.scatter(\n",
    "    x=\"PC 2\",\n",
    "    y=\"PC 3\" ,\n",
    "    by='Class',\n",
    "    hover_cols=[\"CoinName\"],\n",
    "    title = \"PC 2&3 Clusters\"\n",
    ")"
   ]
  },
  {
   "cell_type": "code",
   "execution_count": 111,
   "metadata": {},
   "outputs": [
    {
     "data": {
      "application/vnd.plotly.v1+json": {
       "config": {
        "plotlyServerURL": "https://plot.ly"
       },
       "data": [
        {
         "hovertemplate": "<b>%{hovertext}</b><br><br>PC 1=%{x}<br>PC 2=%{y}<br>PC 3=%{z}<br>Class=%{marker.color}<extra></extra>",
         "hovertext": [
          "42 Coin",
          "NuShares",
          "Triangles Coin",
          "CometCoin",
          "OpenChat",
          "Pura",
          "Aidos Kuneen",
          "DAPS Coin",
          "Zano",
          "VEIL",
          "MimbleWimbleCoin",
          "Ravencoin Classic",
          "Goldmaxcoin",
          "XDNA",
          "Wibcoin",
          "TokenPay",
          "EtherZero",
          "QuarkCoin",
          "Arweave",
          "Bithereum",
          "BeforeCoinMarketCap",
          "Smart Bitcoin",
          "UnitedBitcoin",
          "VeriCoin",
          "Emercoin",
          "Circuits of Value",
          "Ergo",
          "Genix",
          "Beam",
          "Stratis",
          "AEON",
          "TENT",
          "Pirate Chain",
          "Internet Node token",
          "SafePal",
          "Nervos Network",
          "Handshake",
          "Auroracoin",
          "Validity",
          "Ethereum Name Service",
          "Amber",
          "TecraCoin",
          "BitcoinZ",
          "eCash",
          "Anchor Protocol",
          "Expanse",
          "Siacoin",
          "SmartCash",
          "SaluS",
          "Oxycoin",
          "Beldex",
          "Flo",
          "QTUM",
          "Namecoin",
          "Signa",
          "Verge",
          "Bitcoin Gold",
          "ByteCoin",
          "Dash",
          "Komodo",
          "WhiteCoin",
          "V Systems",
          "Steem",
          "PotCoin",
          "Ethereum Classic",
          "FeatherCoin",
          "Firo",
          "Binance Coin",
          "Bitcoin Cash",
          "MegaCoin",
          "EOS",
          "Nxt",
          "MAPS",
          "Canada eCoin",
          "Bitcoin Private",
          "Aion",
          "Bitshares",
          "Shift",
          "Cardano",
          "Decred",
          "DigitalNote",
          "Groestlcoin",
          "Gulden",
          "BlockNet",
          "VeChain",
          "SysCoin",
          "SibCoin",
          "SafeExchangeCoin",
          "Primas",
          "Poa Network",
          "Private Instant Verified Transaction",
          "Horizen",
          "Lisk",
          "Bitcoin SV",
          "BlackCoin",
          "BLOC.MONEY",
          "NovaCoin",
          "CloakCoin",
          "Einsteinium",
          "Ethereum",
          "USX Quantum",
          "Litecoin",
          "MonaCoin",
          "Monero",
          "Nano",
          "NavCoin",
          "Nexus",
          "Ontology",
          "Reddcoin",
          "Rise",
          "Super Zero",
          "Achain",
          "Acute Angle Cloud",
          "Stakenet",
          "ARK",
          "Bitcoin",
          "Bitcoin Diamond",
          "BitTorrent",
          "Ubiq",
          "Callisto Network",
          "Vertcoin",
          "ViaCoin",
          "Dero",
          "DigiByte",
          "Dogecoin",
          "Waves",
          "ZCash",
          "Zelcash",
          "Grin",
          "Haven Protocol",
          "HyperCash",
          "ICON Project",
          "IOCoin",
          "Kcash",
          "SuperCoin",
          "Quantum Resistant Ledger"
         ],
         "legendgroup": "",
         "marker": {
          "color": [
           2,
           4,
           2,
           0,
           5,
           3,
           0,
           4,
           5,
           2,
           0,
           0,
           3,
           2,
           0,
           4,
           3,
           5,
           0,
           0,
           5,
           0,
           0,
           5,
           5,
           3,
           0,
           0,
           0,
           1,
           3,
           0,
           4,
           4,
           1,
           3,
           0,
           5,
           4,
           1,
           1,
           3,
           0,
           0,
           1,
           0,
           3,
           0,
           5,
           1,
           4,
           0,
           4,
           3,
           1,
           0,
           0,
           0,
           4,
           4,
           2,
           1,
           3,
           2,
           0,
           0,
           0,
           1,
           0,
           0,
           1,
           4,
           4,
           2,
           0,
           5,
           4,
           1,
           4,
           2,
           5,
           0,
           0,
           5,
           4,
           0,
           0,
           5,
           3,
           1,
           5,
           0,
           1,
           0,
           2,
           0,
           5,
           5,
           3,
           3,
           5,
           0,
           3,
           3,
           0,
           5,
           4,
           1,
           5,
           1,
           4,
           4,
           1,
           1,
           1,
           0,
           2,
           1,
           3,
           0,
           0,
           3,
           3,
           0,
           3,
           1,
           0,
           2,
           3,
           3,
           2,
           1,
           2,
           1,
           1,
           0
          ],
          "coloraxis": "coloraxis",
          "symbol": "circle"
         },
         "mode": "markers",
         "name": "",
         "scene": "scene",
         "showlegend": false,
         "type": "scatter3d",
         "x": [
          0.43361875809568945,
          0.09113231243015674,
          0.4298788398328139,
          -0.5859028611747675,
          1.0805017449169725,
          -0.12362651635879905,
          -0.712631442169125,
          0.01938366019051848,
          0.8652452214777283,
          0.3974633670088177,
          -0.7101506962393288,
          -0.7522870948860396,
          -0.03809830161414393,
          0.37038104282065926,
          -0.8453198078493611,
          0.1024267393341553,
          -0.1580855109503623,
          0.9658345581731382,
          -0.9435477893192302,
          -0.8290516493197636,
          0.9045920946777672,
          -0.9247098332189492,
          -0.9247098332189492,
          0.6621512255116123,
          0.7620233765674522,
          -0.18285496632753326,
          -0.7068582582994588,
          -0.7078550017829405,
          -0.8255397144279191,
          0.6918413580804319,
          -0.15438650757205,
          -0.8255397144279191,
          -0.12953674875705856,
          0.004526440674728457,
          0.5573051053859298,
          -0.15438650757205002,
          -0.706858258299459,
          1.024579304013986,
          0.0328638395162397,
          0.5393214487196214,
          0.5688230767254147,
          -0.15438650757205,
          -0.8545276251771817,
          -0.94354778931923,
          0.7019960466080168,
          -0.696154987848541,
          -0.16803373418286957,
          -0.706858258299459,
          1.024579304013986,
          0.7001343244692928,
          0.08157870889696373,
          -0.5777182467664014,
          0.1024267393341553,
          -0.30065422906067724,
          0.4985710668118108,
          -0.7252567534426748,
          -0.9053026939174116,
          -0.7101855896173895,
          -0.04576276956521811,
          -0.12953674875705856,
          0.5060826307313426,
          0.5573051053859299,
          -0.13789869232434687,
          0.5053812244953891,
          -0.8042821516079257,
          -0.706858258299459,
          -0.706858258299459,
          0.5573051053859304,
          -0.9820314623818432,
          -0.5777182467664014,
          0.6334935855407775,
          0.0319721198763383,
          0.08714356399261931,
          0.12567864200388854,
          -0.825539714427919,
          0.9287129636897405,
          0.1048482854327154,
          0.7001343244692928,
          0.019129765024204826,
          0.29989235824683186,
          0.9287129636897405,
          -0.7210498181255289,
          -0.5777182467664014,
          0.9658345581731386,
          0.008015443953335697,
          -0.8453198078493611,
          -0.790434817352946,
          0.6717324487173497,
          -0.027929383198670603,
          0.5684505738122045,
          0.9658345581731385,
          -0.9053026939174116,
          0.7001343244692928,
          -0.9820314623818432,
          0.20066778580280462,
          -0.706858258299459,
          1.024579304013986,
          0.9776833993934342,
          -0.038098301614143903,
          -0.24121897549035118,
          1.0245793040139857,
          -0.6772992970791004,
          -0.038098301614143903,
          -0.16830534298352295,
          -0.7101506962393289,
          0.9776833993934344,
          0.008015443953335713,
          0.7016553442677755,
          1.0245793040139857,
          0.707683087444294,
          0.0009893953983235876,
          0.22439413464535155,
          0.6243566902398914,
          0.5749793836686237,
          0.7001343244692928,
          -0.9820314623818432,
          0.44883495707849175,
          0.5603570708985863,
          -0.23907640383054826,
          -0.7000112943491817,
          -0.7127598767435797,
          -0.03809830161414389,
          -0.25139327075855905,
          -0.7561355017455749,
          -0.11892592790757071,
          0.5573051053859298,
          -0.9053026939174116,
          0.252582073554047,
          -0.16803373418286957,
          -0.15438650757205,
          0.37610273605073463,
          0.6373777909423033,
          0.41820938265240065,
          0.6263715982286236,
          0.6532090479563278,
          -0.7242842036829484
         ],
         "y": [
          0.6161593223288621,
          0.7906846015315414,
          1.0044303345901628,
          0.0649459030043831,
          -0.06591545812064813,
          -0.7089929920320857,
          0.2089155366111586,
          0.5512934125074134,
          -0.08287332485010342,
          0.8679295703006228,
          0.03573844111395231,
          0.07441159691790056,
          -0.8315993032188294,
          0.9683806522252532,
          0.02442238458111303,
          0.6925267078049976,
          -0.7627430146829094,
          0.045016354685638076,
          -0.10107881266650194,
          0.3238477362418899,
          -0.007829275476442537,
          0.08909282036111303,
          0.08909282036111303,
          -0.3945701790641243,
          0.007155756970200771,
          -0.7351930899401506,
          0.061082339380504724,
          0.13133569622906036,
          0.20530421254087958,
          -0.07851533265119998,
          -0.737994526289031,
          0.20530421254087955,
          0.7177195325115008,
          0.6180432573798028,
          -0.28271320332421873,
          -0.7379945262890307,
          0.061082339380504315,
          -0.07668556401236264,
          0.5849772156038926,
          -0.3514536288033918,
          -0.2737988031993875,
          -0.737994526289031,
          0.2093362319782709,
          -0.10107881266650177,
          -0.09418083483200382,
          0.02643321562824609,
          -0.7368061100902958,
          0.06108233938050444,
          -0.07668556401236265,
          -0.36069406982651364,
          0.6407581529831518,
          -0.06220692549312079,
          0.6925267078049975,
          -0.7477579822362658,
          -0.4382004612571883,
          0.03740509928566654,
          0.2641533326160552,
          0.0533400102306357,
          0.43601672782252526,
          0.7177195325115008,
          0.7593693239129041,
          -0.28271320332421895,
          -0.6743738828799903,
          0.71781008314415,
          -0.0675835845006026,
          0.06108233938050446,
          0.06108233938050443,
          -0.28271320332421884,
          -0.10854612870953927,
          -0.0622069254931207,
          -0.49482829547242696,
          0.6317398409454267,
          0.5509921703676322,
          0.4163194438547482,
          0.20530421254087958,
          0.042022482348239604,
          0.48571062193195635,
          -0.3606940698265136,
          0.5616848924015927,
          0.9365534927645794,
          0.04202248234823972,
          0.06238552955865823,
          -0.06220692549312079,
          0.04501635468563812,
          0.5610467471167123,
          0.02442238458111303,
          0.12668421224321236,
          -0.4091417303187148,
          -0.8429101272631654,
          -0.2921310527675937,
          0.0450163546856381,
          0.2641533326160552,
          -0.36069406982651364,
          -0.10854612870953927,
          0.5260902052806439,
          0.061082339380504426,
          -0.07668556401236265,
          0.10788512836694875,
          -0.8315993032188295,
          -0.9102466393249375,
          -0.07668556401236261,
          -0.15683116909799777,
          -0.8315993032188295,
          -0.736734671305963,
          0.03573844111395239,
          0.10788512836694883,
          0.5610467471167123,
          -0.13708163703127146,
          -0.07668556401236265,
          -0.19746606767827807,
          0.4899126278853399,
          0.5275226377128093,
          -0.2643757466437383,
          -0.26788682025751187,
          -0.3606940698265136,
          -0.10854612870953927,
          0.9468429296377038,
          -0.4565541081051305,
          -0.8897205557702218,
          0.008939052411732169,
          0.08656692184276225,
          -0.8315993032188295,
          -0.8658456815060342,
          0.04684061201944402,
          -0.9813926172297908,
          -0.282713203324219,
          0.2641533326160552,
          1.0211740704958976,
          -0.7368061100902958,
          -0.7379945262890307,
          0.8977272961974756,
          -0.1505763835365146,
          0.8444934419507616,
          -0.24822433228402915,
          -0.14047971384376742,
          0.03788677163136347
         ],
         "z": [
          0.8756147049668485,
          -0.6700840758570267,
          0.30411746458867644,
          0.679476035847858,
          0.7563788521970227,
          -0.07015829989175866,
          0.016357262502673307,
          -0.27302924978642645,
          0.11321394292440967,
          0.308970532455412,
          0.029847737401895218,
          0.03648644140695538,
          0.635653918868856,
          0.29267450700919534,
          0.012548138578476465,
          -0.6309415255919579,
          -0.04044413140259354,
          0.2693178982369653,
          -0.13139485135290915,
          0.03241679282657912,
          0.215770398744913,
          0.03811539693229069,
          0.03811539693229071,
          0.39551336463292286,
          0.22106486372136286,
          -0.017042717308992223,
          0.030647513704742807,
          0.06054425612704065,
          0.03727454754074121,
          -0.5798958288814118,
          -0.01977166458795225,
          0.037274547540741255,
          -0.24982195825848408,
          -0.22982754412304754,
          -0.2985509598374419,
          -0.019771664587952466,
          0.03064751370474231,
          0.8918684490163628,
          -0.8687205811558107,
          -0.28272188601977455,
          -0.3238142573780055,
          -0.01977166458795229,
          0.04021370509025163,
          -0.13139485135290926,
          -0.7880550160330938,
          0.011312733307225912,
          -0.01853716129900604,
          0.03064751370474202,
          0.8918684490163626,
          -0.7077560066279898,
          -0.612164515379226,
          0.7110961797139036,
          -0.6309415255919579,
          -0.03514966642614399,
          -0.44600986380100177,
          0.03140399163889605,
          0.06185973920601285,
          -0.004034577921084698,
          -0.4675215791692412,
          -0.24982195825848408,
          0.9544831783686533,
          -0.29855095983744195,
          -0.12992954649244567,
          0.977907750296469,
          -0.11896974788548921,
          0.030647513704742026,
          0.030647513704742023,
          -0.29855095983744173,
          -0.14380350836358252,
          0.7110961797139038,
          -0.8755373107413652,
          -0.3365301787875991,
          -0.3618260211023521,
          0.46384980220499594,
          0.037274547540741255,
          0.24703990599461273,
          -0.5086793796682547,
          -0.7077560066279899,
          -0.7819406794514014,
          0.3379451925760059,
          0.2470399059946127,
          0.031994942350654955,
          0.7110961797139036,
          0.26931789823696545,
          -0.2584285084916424,
          0.012548138578476463,
          0.05652364392652203,
          0.37706638366578943,
          0.6244249633498509,
          -0.3125217596485649,
          0.2693178982369654,
          0.061859739206012794,
          -0.7077560066279898,
          -0.14380350836358258,
          0.10343413723509388,
          0.03064751370474205,
          0.8918684490163626,
          0.2602953476096765,
          0.6356539188688562,
          -0.18062539690579713,
          0.8918684490163626,
          0.6156578254441538,
          0.6356539188688562,
          -0.018479965630109278,
          0.029847737401895082,
          0.26029534760967643,
          -0.25842850849164234,
          -0.7084112895794675,
          0.8918684490163626,
          -0.8118111636416311,
          -0.27058805428447685,
          -0.7399916605011527,
          -0.3960124825555812,
          -0.33949126806869,
          -0.7077560066279899,
          -0.14380350836358252,
          0.33597219157243524,
          -0.6864424974582278,
          -0.16510907582626047,
          0.007034694376277519,
          0.07245007242437218,
          0.6356539188688562,
          -0.1916946692031592,
          0.03457631193368126,
          0.5234360884318294,
          -0.298550959837442,
          0.061859739206012794,
          0.3204860499578434,
          -0.01853716129900619,
          -0.019771664587952282,
          0.35323906602232935,
          -0.6279016020460937,
          0.24290311759485617,
          -0.41705147652567953,
          -0.6541349462353395,
          0.03123061043353845
         ]
        }
       ],
       "layout": {
        "autosize": true,
        "coloraxis": {
         "colorbar": {
          "title": {
           "text": "Class"
          }
         },
         "colorscale": [
          [
           0,
           "#0d0887"
          ],
          [
           0.1111111111111111,
           "#46039f"
          ],
          [
           0.2222222222222222,
           "#7201a8"
          ],
          [
           0.3333333333333333,
           "#9c179e"
          ],
          [
           0.4444444444444444,
           "#bd3786"
          ],
          [
           0.5555555555555556,
           "#d8576b"
          ],
          [
           0.6666666666666666,
           "#ed7953"
          ],
          [
           0.7777777777777778,
           "#fb9f3a"
          ],
          [
           0.8888888888888888,
           "#fdca26"
          ],
          [
           1,
           "#f0f921"
          ]
         ]
        },
        "legend": {
         "tracegroupgap": 0
        },
        "margin": {
         "t": 60
        },
        "scene": {
         "aspectmode": "auto",
         "aspectratio": {
          "x": 1.0465140533156156,
          "y": 1.0160874860052684,
          "z": 0.9404242785330821
         },
         "domain": {
          "x": [
           0,
           1
          ],
          "y": [
           0,
           1
          ]
         },
         "xaxis": {
          "title": {
           "text": "PC 1"
          },
          "type": "linear"
         },
         "yaxis": {
          "title": {
           "text": "PC 2"
          },
          "type": "linear"
         },
         "zaxis": {
          "title": {
           "text": "PC 3"
          },
          "type": "linear"
         }
        },
        "template": {
         "data": {
          "bar": [
           {
            "error_x": {
             "color": "#2a3f5f"
            },
            "error_y": {
             "color": "#2a3f5f"
            },
            "marker": {
             "line": {
              "color": "#E5ECF6",
              "width": 0.5
             },
             "pattern": {
              "fillmode": "overlay",
              "size": 10,
              "solidity": 0.2
             }
            },
            "type": "bar"
           }
          ],
          "barpolar": [
           {
            "marker": {
             "line": {
              "color": "#E5ECF6",
              "width": 0.5
             },
             "pattern": {
              "fillmode": "overlay",
              "size": 10,
              "solidity": 0.2
             }
            },
            "type": "barpolar"
           }
          ],
          "carpet": [
           {
            "aaxis": {
             "endlinecolor": "#2a3f5f",
             "gridcolor": "white",
             "linecolor": "white",
             "minorgridcolor": "white",
             "startlinecolor": "#2a3f5f"
            },
            "baxis": {
             "endlinecolor": "#2a3f5f",
             "gridcolor": "white",
             "linecolor": "white",
             "minorgridcolor": "white",
             "startlinecolor": "#2a3f5f"
            },
            "type": "carpet"
           }
          ],
          "choropleth": [
           {
            "colorbar": {
             "outlinewidth": 0,
             "ticks": ""
            },
            "type": "choropleth"
           }
          ],
          "contour": [
           {
            "colorbar": {
             "outlinewidth": 0,
             "ticks": ""
            },
            "colorscale": [
             [
              0,
              "#0d0887"
             ],
             [
              0.1111111111111111,
              "#46039f"
             ],
             [
              0.2222222222222222,
              "#7201a8"
             ],
             [
              0.3333333333333333,
              "#9c179e"
             ],
             [
              0.4444444444444444,
              "#bd3786"
             ],
             [
              0.5555555555555556,
              "#d8576b"
             ],
             [
              0.6666666666666666,
              "#ed7953"
             ],
             [
              0.7777777777777778,
              "#fb9f3a"
             ],
             [
              0.8888888888888888,
              "#fdca26"
             ],
             [
              1,
              "#f0f921"
             ]
            ],
            "type": "contour"
           }
          ],
          "contourcarpet": [
           {
            "colorbar": {
             "outlinewidth": 0,
             "ticks": ""
            },
            "type": "contourcarpet"
           }
          ],
          "heatmap": [
           {
            "colorbar": {
             "outlinewidth": 0,
             "ticks": ""
            },
            "colorscale": [
             [
              0,
              "#0d0887"
             ],
             [
              0.1111111111111111,
              "#46039f"
             ],
             [
              0.2222222222222222,
              "#7201a8"
             ],
             [
              0.3333333333333333,
              "#9c179e"
             ],
             [
              0.4444444444444444,
              "#bd3786"
             ],
             [
              0.5555555555555556,
              "#d8576b"
             ],
             [
              0.6666666666666666,
              "#ed7953"
             ],
             [
              0.7777777777777778,
              "#fb9f3a"
             ],
             [
              0.8888888888888888,
              "#fdca26"
             ],
             [
              1,
              "#f0f921"
             ]
            ],
            "type": "heatmap"
           }
          ],
          "heatmapgl": [
           {
            "colorbar": {
             "outlinewidth": 0,
             "ticks": ""
            },
            "colorscale": [
             [
              0,
              "#0d0887"
             ],
             [
              0.1111111111111111,
              "#46039f"
             ],
             [
              0.2222222222222222,
              "#7201a8"
             ],
             [
              0.3333333333333333,
              "#9c179e"
             ],
             [
              0.4444444444444444,
              "#bd3786"
             ],
             [
              0.5555555555555556,
              "#d8576b"
             ],
             [
              0.6666666666666666,
              "#ed7953"
             ],
             [
              0.7777777777777778,
              "#fb9f3a"
             ],
             [
              0.8888888888888888,
              "#fdca26"
             ],
             [
              1,
              "#f0f921"
             ]
            ],
            "type": "heatmapgl"
           }
          ],
          "histogram": [
           {
            "marker": {
             "pattern": {
              "fillmode": "overlay",
              "size": 10,
              "solidity": 0.2
             }
            },
            "type": "histogram"
           }
          ],
          "histogram2d": [
           {
            "colorbar": {
             "outlinewidth": 0,
             "ticks": ""
            },
            "colorscale": [
             [
              0,
              "#0d0887"
             ],
             [
              0.1111111111111111,
              "#46039f"
             ],
             [
              0.2222222222222222,
              "#7201a8"
             ],
             [
              0.3333333333333333,
              "#9c179e"
             ],
             [
              0.4444444444444444,
              "#bd3786"
             ],
             [
              0.5555555555555556,
              "#d8576b"
             ],
             [
              0.6666666666666666,
              "#ed7953"
             ],
             [
              0.7777777777777778,
              "#fb9f3a"
             ],
             [
              0.8888888888888888,
              "#fdca26"
             ],
             [
              1,
              "#f0f921"
             ]
            ],
            "type": "histogram2d"
           }
          ],
          "histogram2dcontour": [
           {
            "colorbar": {
             "outlinewidth": 0,
             "ticks": ""
            },
            "colorscale": [
             [
              0,
              "#0d0887"
             ],
             [
              0.1111111111111111,
              "#46039f"
             ],
             [
              0.2222222222222222,
              "#7201a8"
             ],
             [
              0.3333333333333333,
              "#9c179e"
             ],
             [
              0.4444444444444444,
              "#bd3786"
             ],
             [
              0.5555555555555556,
              "#d8576b"
             ],
             [
              0.6666666666666666,
              "#ed7953"
             ],
             [
              0.7777777777777778,
              "#fb9f3a"
             ],
             [
              0.8888888888888888,
              "#fdca26"
             ],
             [
              1,
              "#f0f921"
             ]
            ],
            "type": "histogram2dcontour"
           }
          ],
          "mesh3d": [
           {
            "colorbar": {
             "outlinewidth": 0,
             "ticks": ""
            },
            "type": "mesh3d"
           }
          ],
          "parcoords": [
           {
            "line": {
             "colorbar": {
              "outlinewidth": 0,
              "ticks": ""
             }
            },
            "type": "parcoords"
           }
          ],
          "pie": [
           {
            "automargin": true,
            "type": "pie"
           }
          ],
          "scatter": [
           {
            "marker": {
             "colorbar": {
              "outlinewidth": 0,
              "ticks": ""
             }
            },
            "type": "scatter"
           }
          ],
          "scatter3d": [
           {
            "line": {
             "colorbar": {
              "outlinewidth": 0,
              "ticks": ""
             }
            },
            "marker": {
             "colorbar": {
              "outlinewidth": 0,
              "ticks": ""
             }
            },
            "type": "scatter3d"
           }
          ],
          "scattercarpet": [
           {
            "marker": {
             "colorbar": {
              "outlinewidth": 0,
              "ticks": ""
             }
            },
            "type": "scattercarpet"
           }
          ],
          "scattergeo": [
           {
            "marker": {
             "colorbar": {
              "outlinewidth": 0,
              "ticks": ""
             }
            },
            "type": "scattergeo"
           }
          ],
          "scattergl": [
           {
            "marker": {
             "colorbar": {
              "outlinewidth": 0,
              "ticks": ""
             }
            },
            "type": "scattergl"
           }
          ],
          "scattermapbox": [
           {
            "marker": {
             "colorbar": {
              "outlinewidth": 0,
              "ticks": ""
             }
            },
            "type": "scattermapbox"
           }
          ],
          "scatterpolar": [
           {
            "marker": {
             "colorbar": {
              "outlinewidth": 0,
              "ticks": ""
             }
            },
            "type": "scatterpolar"
           }
          ],
          "scatterpolargl": [
           {
            "marker": {
             "colorbar": {
              "outlinewidth": 0,
              "ticks": ""
             }
            },
            "type": "scatterpolargl"
           }
          ],
          "scatterternary": [
           {
            "marker": {
             "colorbar": {
              "outlinewidth": 0,
              "ticks": ""
             }
            },
            "type": "scatterternary"
           }
          ],
          "surface": [
           {
            "colorbar": {
             "outlinewidth": 0,
             "ticks": ""
            },
            "colorscale": [
             [
              0,
              "#0d0887"
             ],
             [
              0.1111111111111111,
              "#46039f"
             ],
             [
              0.2222222222222222,
              "#7201a8"
             ],
             [
              0.3333333333333333,
              "#9c179e"
             ],
             [
              0.4444444444444444,
              "#bd3786"
             ],
             [
              0.5555555555555556,
              "#d8576b"
             ],
             [
              0.6666666666666666,
              "#ed7953"
             ],
             [
              0.7777777777777778,
              "#fb9f3a"
             ],
             [
              0.8888888888888888,
              "#fdca26"
             ],
             [
              1,
              "#f0f921"
             ]
            ],
            "type": "surface"
           }
          ],
          "table": [
           {
            "cells": {
             "fill": {
              "color": "#EBF0F8"
             },
             "line": {
              "color": "white"
             }
            },
            "header": {
             "fill": {
              "color": "#C8D4E3"
             },
             "line": {
              "color": "white"
             }
            },
            "type": "table"
           }
          ]
         },
         "layout": {
          "annotationdefaults": {
           "arrowcolor": "#2a3f5f",
           "arrowhead": 0,
           "arrowwidth": 1
          },
          "autotypenumbers": "strict",
          "coloraxis": {
           "colorbar": {
            "outlinewidth": 0,
            "ticks": ""
           }
          },
          "colorscale": {
           "diverging": [
            [
             0,
             "#8e0152"
            ],
            [
             0.1,
             "#c51b7d"
            ],
            [
             0.2,
             "#de77ae"
            ],
            [
             0.3,
             "#f1b6da"
            ],
            [
             0.4,
             "#fde0ef"
            ],
            [
             0.5,
             "#f7f7f7"
            ],
            [
             0.6,
             "#e6f5d0"
            ],
            [
             0.7,
             "#b8e186"
            ],
            [
             0.8,
             "#7fbc41"
            ],
            [
             0.9,
             "#4d9221"
            ],
            [
             1,
             "#276419"
            ]
           ],
           "sequential": [
            [
             0,
             "#0d0887"
            ],
            [
             0.1111111111111111,
             "#46039f"
            ],
            [
             0.2222222222222222,
             "#7201a8"
            ],
            [
             0.3333333333333333,
             "#9c179e"
            ],
            [
             0.4444444444444444,
             "#bd3786"
            ],
            [
             0.5555555555555556,
             "#d8576b"
            ],
            [
             0.6666666666666666,
             "#ed7953"
            ],
            [
             0.7777777777777778,
             "#fb9f3a"
            ],
            [
             0.8888888888888888,
             "#fdca26"
            ],
            [
             1,
             "#f0f921"
            ]
           ],
           "sequentialminus": [
            [
             0,
             "#0d0887"
            ],
            [
             0.1111111111111111,
             "#46039f"
            ],
            [
             0.2222222222222222,
             "#7201a8"
            ],
            [
             0.3333333333333333,
             "#9c179e"
            ],
            [
             0.4444444444444444,
             "#bd3786"
            ],
            [
             0.5555555555555556,
             "#d8576b"
            ],
            [
             0.6666666666666666,
             "#ed7953"
            ],
            [
             0.7777777777777778,
             "#fb9f3a"
            ],
            [
             0.8888888888888888,
             "#fdca26"
            ],
            [
             1,
             "#f0f921"
            ]
           ]
          },
          "colorway": [
           "#636efa",
           "#EF553B",
           "#00cc96",
           "#ab63fa",
           "#FFA15A",
           "#19d3f3",
           "#FF6692",
           "#B6E880",
           "#FF97FF",
           "#FECB52"
          ],
          "font": {
           "color": "#2a3f5f"
          },
          "geo": {
           "bgcolor": "white",
           "lakecolor": "white",
           "landcolor": "#E5ECF6",
           "showlakes": true,
           "showland": true,
           "subunitcolor": "white"
          },
          "hoverlabel": {
           "align": "left"
          },
          "hovermode": "closest",
          "mapbox": {
           "style": "light"
          },
          "paper_bgcolor": "white",
          "plot_bgcolor": "#E5ECF6",
          "polar": {
           "angularaxis": {
            "gridcolor": "white",
            "linecolor": "white",
            "ticks": ""
           },
           "bgcolor": "#E5ECF6",
           "radialaxis": {
            "gridcolor": "white",
            "linecolor": "white",
            "ticks": ""
           }
          },
          "scene": {
           "xaxis": {
            "backgroundcolor": "#E5ECF6",
            "gridcolor": "white",
            "gridwidth": 2,
            "linecolor": "white",
            "showbackground": true,
            "ticks": "",
            "zerolinecolor": "white"
           },
           "yaxis": {
            "backgroundcolor": "#E5ECF6",
            "gridcolor": "white",
            "gridwidth": 2,
            "linecolor": "white",
            "showbackground": true,
            "ticks": "",
            "zerolinecolor": "white"
           },
           "zaxis": {
            "backgroundcolor": "#E5ECF6",
            "gridcolor": "white",
            "gridwidth": 2,
            "linecolor": "white",
            "showbackground": true,
            "ticks": "",
            "zerolinecolor": "white"
           }
          },
          "shapedefaults": {
           "line": {
            "color": "#2a3f5f"
           }
          },
          "ternary": {
           "aaxis": {
            "gridcolor": "white",
            "linecolor": "white",
            "ticks": ""
           },
           "baxis": {
            "gridcolor": "white",
            "linecolor": "white",
            "ticks": ""
           },
           "bgcolor": "#E5ECF6",
           "caxis": {
            "gridcolor": "white",
            "linecolor": "white",
            "ticks": ""
           }
          },
          "title": {
           "x": 0.05
          },
          "xaxis": {
           "automargin": true,
           "gridcolor": "white",
           "linecolor": "white",
           "ticks": "",
           "title": {
            "standoff": 15
           },
           "zerolinecolor": "white",
           "zerolinewidth": 2
          },
          "yaxis": {
           "automargin": true,
           "gridcolor": "white",
           "linecolor": "white",
           "ticks": "",
           "title": {
            "standoff": 15
           },
           "zerolinecolor": "white",
           "zerolinewidth": 2
          }
         }
        }
       }
      },
      "image/png": "[encoded data removed]"
     },
     "metadata": {},
     "output_type": "display_data"
    }
   ],
   "source": [
    "# Using  a 3D view to display the 3 PC's \n",
    "import plotly.express as px\n",
    "fig = px.scatter_3d(clustered_df, x='PC 1', y='PC 2', z='PC 3',\n",
    "              color='Class',\n",
    "              hover_name='CoinName'\n",
    "              )\n",
    "\n",
    "fig.show()"
   ]
  },
  {
   "cell_type": "code",
   "execution_count": 112,
   "metadata": {},
   "outputs": [
    {
     "data": {},
     "metadata": {},
     "output_type": "display_data"
    },
    {
     "data": {
      "application/vnd.holoviews_exec.v0+json": "",
      "text/html": [
       "<div id='12775'>\n",
       "\n",
       "\n",
       "\n",
       "\n",
       "\n",
       "  <div class=\"bk-root\" id=\"353be8d7-2f60-4911-b9b8-e92cd6321ffe\" data-root-id=\"12775\"></div>\n",
       "</div>\n",
       "<script type=\"application/javascript\">(function(root) {\n",
       "  function embed_document(root) {\n",
       "    var docs_json = {\"20502a75-267d-4c6a-8d17-71043819cc91\":{\"defs\":[{\"extends\":null,\"module\":null,\"name\":\"ReactiveHTML1\",\"overrides\":[],\"properties\":[]},{\"extends\":null,\"module\":null,\"name\":\"FlexBox1\",\"overrides\":[],\"properties\":[{\"default\":\"flex-start\",\"kind\":null,\"name\":\"align_content\"},{\"default\":\"flex-start\",\"kind\":null,\"name\":\"align_items\"},{\"default\":\"row\",\"kind\":null,\"name\":\"flex_direction\"},{\"default\":\"wrap\",\"kind\":null,\"name\":\"flex_wrap\"},{\"default\":\"flex-start\",\"kind\":null,\"name\":\"justify_content\"}]},{\"extends\":null,\"module\":null,\"name\":\"TemplateActions1\",\"overrides\":[],\"properties\":[{\"default\":0,\"kind\":null,\"name\":\"open_modal\"},{\"default\":0,\"kind\":null,\"name\":\"close_modal\"}]},{\"extends\":null,\"module\":null,\"name\":\"MaterialTemplateActions1\",\"overrides\":[],\"properties\":[{\"default\":0,\"kind\":null,\"name\":\"open_modal\"},{\"default\":0,\"kind\":null,\"name\":\"close_modal\"}]}],\"roots\":{\"references\":[{\"attributes\":{\"fill_color\":{\"value\":\"#30a2da\"},\"hatch_color\":{\"value\":\"#30a2da\"},\"line_color\":{\"value\":\"#30a2da\"},\"size\":{\"value\":5.477225575051661},\"x\":{\"field\":\"TotalCoinsMined\"},\"y\":{\"field\":\"MaxSupply\"}},\"id\":\"12824\",\"type\":\"Scatter\"},{\"attributes\":{\"axis_label\":\"TotalCoinsMined\",\"coordinates\":null,\"formatter\":{\"id\":\"12816\"},\"group\":null,\"major_label_policy\":{\"id\":\"12817\"},\"ticker\":{\"id\":\"12795\"}},\"id\":\"12794\",\"type\":\"LinearAxis\"},{\"attributes\":{\"end\":1032428571428569.6,\"reset_end\":1032428571428569.6,\"reset_start\":-42428571428527.63,\"start\":-42428571428527.63,\"tags\":[[[\"TotalCoinsMined\",\"TotalCoinsMined\",null]]]},\"id\":\"12777\",\"type\":\"Range1d\"},{\"attributes\":{\"coordinates\":null,\"data_source\":{\"id\":\"12864\"},\"glyph\":{\"id\":\"12867\"},\"group\":null,\"hover_glyph\":null,\"muted_glyph\":{\"id\":\"12869\"},\"nonselection_glyph\":{\"id\":\"12868\"},\"selection_glyph\":{\"id\":\"12887\"},\"view\":{\"id\":\"12871\"}},\"id\":\"12870\",\"type\":\"GlyphRenderer\"},{\"attributes\":{},\"id\":\"12937\",\"type\":\"UnionRenderers\"},{\"attributes\":{},\"id\":\"12865\",\"type\":\"Selection\"},{\"attributes\":{\"axis\":{\"id\":\"12798\"},\"coordinates\":null,\"dimension\":1,\"grid_line_color\":null,\"group\":null,\"ticker\":null},\"id\":\"12801\",\"type\":\"Grid\"},{\"attributes\":{\"coordinates\":null,\"data_source\":{\"id\":\"12942\"},\"glyph\":{\"id\":\"12945\"},\"group\":null,\"hover_glyph\":null,\"muted_glyph\":{\"id\":\"12947\"},\"nonselection_glyph\":{\"id\":\"12946\"},\"selection_glyph\":{\"id\":\"12971\"},\"view\":{\"id\":\"12949\"}},\"id\":\"12948\",\"type\":\"GlyphRenderer\"},{\"attributes\":{\"source\":{\"id\":\"12864\"}},\"id\":\"12871\",\"type\":\"CDSView\"},{\"attributes\":{},\"id\":\"12795\",\"type\":\"BasicTicker\"},{\"attributes\":{},\"id\":\"12967\",\"type\":\"UnionRenderers\"},{\"attributes\":{\"axis\":{\"id\":\"12794\"},\"coordinates\":null,\"grid_line_color\":null,\"group\":null,\"ticker\":null},\"id\":\"12797\",\"type\":\"Grid\"},{\"attributes\":{\"angle\":{\"value\":0.0},\"fill_alpha\":{\"value\":1.0},\"fill_color\":{\"value\":\"#8b8b8b\"},\"hatch_alpha\":{\"value\":1.0},\"hatch_color\":{\"value\":\"#8b8b8b\"},\"hatch_scale\":{\"value\":12.0},\"hatch_weight\":{\"value\":1.0},\"line_alpha\":{\"value\":1.0},\"line_cap\":{\"value\":\"butt\"},\"line_color\":{\"value\":\"#8b8b8b\"},\"line_dash\":{\"value\":[]},\"line_dash_offset\":{\"value\":0},\"line_join\":{\"value\":\"bevel\"},\"line_width\":{\"value\":1},\"marker\":{\"value\":\"circle\"},\"size\":{\"value\":5.477225575051661},\"x\":{\"field\":\"TotalCoinsMined\"},\"y\":{\"field\":\"MaxSupply\"}},\"id\":\"12941\",\"type\":\"Scatter\"},{\"attributes\":{\"children\":[{\"id\":\"12776\"},{\"id\":\"12785\"},{\"id\":\"13152\"}],\"margin\":[0,0,0,0],\"name\":\"Row27175\",\"tags\":[\"embedded\"]},\"id\":\"12775\",\"type\":\"Row\"},{\"attributes\":{},\"id\":\"12799\",\"type\":\"BasicTicker\"},{\"attributes\":{\"fill_alpha\":{\"value\":0.2},\"fill_color\":{\"value\":\"#6d904f\"},\"hatch_alpha\":{\"value\":0.2},\"hatch_color\":{\"value\":\"#6d904f\"},\"line_alpha\":{\"value\":0.2},\"line_color\":{\"value\":\"#6d904f\"},\"size\":{\"value\":5.477225575051661},\"x\":{\"field\":\"TotalCoinsMined\"},\"y\":{\"field\":\"MaxSupply\"}},\"id\":\"12893\",\"type\":\"Scatter\"},{\"attributes\":{\"axis_label\":\"MaxSupply\",\"coordinates\":null,\"formatter\":{\"id\":\"12819\"},\"group\":null,\"major_label_policy\":{\"id\":\"12820\"},\"ticker\":{\"id\":\"12799\"}},\"id\":\"12798\",\"type\":\"LinearAxis\"},{\"attributes\":{\"margin\":[5,5,5,5],\"name\":\"HSpacer27179\",\"sizing_mode\":\"stretch_width\"},\"id\":\"12776\",\"type\":\"Spacer\"},{\"attributes\":{},\"id\":\"12909\",\"type\":\"UnionRenderers\"},{\"attributes\":{\"coordinates\":null,\"data_source\":{\"id\":\"12842\"},\"glyph\":{\"id\":\"12845\"},\"group\":null,\"hover_glyph\":null,\"muted_glyph\":{\"id\":\"12847\"},\"nonselection_glyph\":{\"id\":\"12846\"},\"selection_glyph\":{\"id\":\"12863\"},\"view\":{\"id\":\"12849\"}},\"id\":\"12848\",\"type\":\"GlyphRenderer\"},{\"attributes\":{\"fill_alpha\":{\"value\":0.2},\"fill_color\":{\"value\":\"#e5ae38\"},\"hatch_alpha\":{\"value\":0.2},\"hatch_color\":{\"value\":\"#e5ae38\"},\"line_alpha\":{\"value\":0.2},\"line_color\":{\"value\":\"#e5ae38\"},\"size\":{\"value\":5.477225575051661},\"x\":{\"field\":\"TotalCoinsMined\"},\"y\":{\"field\":\"MaxSupply\"}},\"id\":\"12869\",\"type\":\"Scatter\"},{\"attributes\":{\"fill_alpha\":{\"value\":0.2},\"fill_color\":{\"value\":\"#17becf\"},\"hatch_alpha\":{\"value\":0.2},\"hatch_color\":{\"value\":\"#17becf\"},\"line_alpha\":{\"value\":0.2},\"line_color\":{\"value\":\"#17becf\"},\"size\":{\"value\":5.477225575051661},\"x\":{\"field\":\"TotalCoinsMined\"},\"y\":{\"field\":\"MaxSupply\"}},\"id\":\"12947\",\"type\":\"Scatter\"},{\"attributes\":{\"label\":{\"value\":\"1\"},\"renderers\":[{\"id\":\"12848\"}]},\"id\":\"12862\",\"type\":\"LegendItem\"},{\"attributes\":{\"fill_alpha\":{\"value\":0.2},\"fill_color\":{\"value\":\"#30a2da\"},\"hatch_alpha\":{\"value\":0.2},\"hatch_color\":{\"value\":\"#30a2da\"},\"line_alpha\":{\"value\":0.2},\"line_color\":{\"value\":\"#30a2da\"},\"size\":{\"value\":5.477225575051661},\"x\":{\"field\":\"TotalCoinsMined\"},\"y\":{\"field\":\"MaxSupply\"}},\"id\":\"12826\",\"type\":\"Scatter\"},{\"attributes\":{\"angle\":{\"value\":0.0},\"fill_alpha\":{\"value\":1.0},\"fill_color\":{\"value\":\"#e5ae38\"},\"hatch_alpha\":{\"value\":1.0},\"hatch_color\":{\"value\":\"#e5ae38\"},\"hatch_scale\":{\"value\":12.0},\"hatch_weight\":{\"value\":1.0},\"line_alpha\":{\"value\":1.0},\"line_cap\":{\"value\":\"butt\"},\"line_color\":{\"value\":\"#e5ae38\"},\"line_dash\":{\"value\":[]},\"line_dash_offset\":{\"value\":0},\"line_join\":{\"value\":\"bevel\"},\"line_width\":{\"value\":1},\"marker\":{\"value\":\"circle\"},\"size\":{\"value\":5.477225575051661},\"x\":{\"field\":\"TotalCoinsMined\"},\"y\":{\"field\":\"MaxSupply\"}},\"id\":\"12887\",\"type\":\"Scatter\"},{\"attributes\":{\"data\":{\"Class\":[0,0,0,0,0,0,0,0,0,0,0,0,0,0,0,0,0,0,0,0,0,0,0,0,0,0,0,0,0,0,0,0,0,0,0,0,0,0,0,0,0,0,0],\"CoinName\":[\"CometCoin\",\"Aidos Kuneen\",\"MimbleWimbleCoin\",\"Ravencoin Classic\",\"Wibcoin\",\"Arweave\",\"Bithereum\",\"Smart Bitcoin\",\"UnitedBitcoin\",\"Ergo\",\"Genix\",\"Beam\",\"TENT\",\"Handshake\",\"BitcoinZ\",\"eCash\",\"Expanse\",\"SmartCash\",\"Flo\",\"Verge\",\"Bitcoin Gold\",\"ByteCoin\",\"Ethereum Classic\",\"FeatherCoin\",\"Firo\",\"Bitcoin Cash\",\"MegaCoin\",\"Bitcoin Private\",\"Groestlcoin\",\"Gulden\",\"SysCoin\",\"SibCoin\",\"Horizen\",\"Bitcoin SV\",\"BLOC.MONEY\",\"Litecoin\",\"Nano\",\"Bitcoin\",\"Callisto Network\",\"Vertcoin\",\"DigiByte\",\"ZCash\",\"Quantum Resistant Ledger\"],\"MaxSupply\":{\"__ndarray__\":\"AAAAAAAAAAAAAAAAAAAAAAAAAADQEnNBAAAASMqOE0LsDROLtBptQgAAAACkeI9BAAAAAAAAAAAAAAAA9AZ0QQAAAAD0BnRBAAAAUpJNl0EAAAAAsQipQQAAAAAFVK9BAAAAANAMlEEAAACA+2XeQQAAAEjKjhNCAABQinEZs0IAAAAAhNeXQQAAACBfoPJBAAAAANASo0EAAAAGCtYOQgAAAAD0BnRBAADAaKJ5RUIAAADADR6pQQAAAAD0BrRBAAAAAJxodEHlYaH/8wZ0QQAAAAD0BoRBAAAAQF/QdUEAAAAAsQiZQQAAAACxCNlBAAAAAOd2ykEAAAAA9AZ0QQAAAAD0BnRB5WGh//MGdEEAAAAAhNeHQQAAAAD0BpRBAAAAiNTEn0HlYaH/8wZ0QQAAABDiNvhBAAAAAPQGlEEAAABIyo4TQgAAAAD0BnRBAAAAALEImUE=\",\"dtype\":\"float64\",\"order\":\"little\",\"shape\":[43]},\"TotalCoinsMined\":{\"__ndarray__\":\"AAAAAPyiKkEAAAAAhNd3Qax00nn9pWRBRFjDBjGPA0LsDROLtBptQgAAAJiTzY5BAAAAAId0fUHVt28iy6qiQAAAAAD0BnRBAAAA6NrwiEEAAAAwnCiaQR2NwXagk5BBAAAAwEV5gkELRBuqbV+8QU25qCfHbwRCX3XXBpFKsUJcj8L/4YuAQUD+4PIr0+RBGAZKEtihoEFGq+ZmG7wOQmYvxk2MG3JBOoww4o55RULdqtLrZnifQTH1A3SyhK5ByWfkhJraaEGBr1jamSJyQUDecR6ABYNBJHujMb8iTUGmr4z3m/+SQd/6pc7tGcBBn9XrSXDywkE41EPXstpyQQAAAODFQmdBm81OFoohckFmZmaVP7R0QR0T75Z+qpBBAAAAiNTEn0EAAABQfxxyQf9K2V60UudBwXeIqrhljkHLob8JPEwMQrVNUn1xXmdBDfaUVKIkkkE=\",\"dtype\":\"float64\",\"order\":\"little\",\"shape\":[43]}},\"selected\":{\"id\":\"12822\"},\"selection_policy\":{\"id\":\"12836\"}},\"id\":\"12821\",\"type\":\"ColumnDataSource\"},{\"attributes\":{\"fill_alpha\":{\"value\":0.1},\"fill_color\":{\"value\":\"#e5ae38\"},\"hatch_alpha\":{\"value\":0.1},\"hatch_color\":{\"value\":\"#e5ae38\"},\"line_alpha\":{\"value\":0.1},\"line_color\":{\"value\":\"#e5ae38\"},\"size\":{\"value\":5.477225575051661},\"x\":{\"field\":\"TotalCoinsMined\"},\"y\":{\"field\":\"MaxSupply\"}},\"id\":\"12868\",\"type\":\"Scatter\"},{\"attributes\":{\"source\":{\"id\":\"12942\"}},\"id\":\"12949\",\"type\":\"CDSView\"},{\"attributes\":{},\"id\":\"12820\",\"type\":\"AllLabels\"},{\"attributes\":{\"source\":{\"id\":\"12821\"}},\"id\":\"12828\",\"type\":\"CDSView\"},{\"attributes\":{},\"id\":\"12943\",\"type\":\"Selection\"},{\"attributes\":{\"angle\":{\"value\":0.0},\"fill_alpha\":{\"value\":1.0},\"fill_color\":{\"value\":\"#30a2da\"},\"hatch_alpha\":{\"value\":1.0},\"hatch_color\":{\"value\":\"#30a2da\"},\"hatch_scale\":{\"value\":12.0},\"hatch_weight\":{\"value\":1.0},\"line_alpha\":{\"value\":1.0},\"line_cap\":{\"value\":\"butt\"},\"line_color\":{\"value\":\"#30a2da\"},\"line_dash\":{\"value\":[]},\"line_dash_offset\":{\"value\":0},\"line_join\":{\"value\":\"bevel\"},\"line_width\":{\"value\":1},\"marker\":{\"value\":\"circle\"},\"size\":{\"value\":5.477225575051661},\"x\":{\"field\":\"TotalCoinsMined\"},\"y\":{\"field\":\"MaxSupply\"}},\"id\":\"12841\",\"type\":\"Scatter\"},{\"attributes\":{},\"id\":\"12836\",\"type\":\"UnionRenderers\"},{\"attributes\":{\"fill_alpha\":{\"value\":0.1},\"fill_color\":{\"value\":\"#fc4f30\"},\"hatch_alpha\":{\"value\":0.1},\"hatch_color\":{\"value\":\"#fc4f30\"},\"line_alpha\":{\"value\":0.1},\"line_color\":{\"value\":\"#fc4f30\"},\"size\":{\"value\":5.477225575051661},\"x\":{\"field\":\"TotalCoinsMined\"},\"y\":{\"field\":\"MaxSupply\"}},\"id\":\"12846\",\"type\":\"Scatter\"},{\"attributes\":{\"label\":{\"value\":\"5\"},\"renderers\":[{\"id\":\"12948\"}]},\"id\":\"12970\",\"type\":\"LegendItem\"},{\"attributes\":{},\"id\":\"12802\",\"type\":\"SaveTool\"},{\"attributes\":{\"fill_color\":{\"value\":\"#e5ae38\"},\"hatch_color\":{\"value\":\"#e5ae38\"},\"line_color\":{\"value\":\"#e5ae38\"},\"size\":{\"value\":5.477225575051661},\"x\":{\"field\":\"TotalCoinsMined\"},\"y\":{\"field\":\"MaxSupply\"}},\"id\":\"12867\",\"type\":\"Scatter\"},{\"attributes\":{\"label\":{\"value\":\"2\"},\"renderers\":[{\"id\":\"12870\"}]},\"id\":\"12886\",\"type\":\"LegendItem\"},{\"attributes\":{},\"id\":\"12803\",\"type\":\"PanTool\"},{\"attributes\":{\"fill_alpha\":{\"value\":0.1},\"fill_color\":{\"value\":\"#17becf\"},\"hatch_alpha\":{\"value\":0.1},\"hatch_color\":{\"value\":\"#17becf\"},\"line_alpha\":{\"value\":0.1},\"line_color\":{\"value\":\"#17becf\"},\"size\":{\"value\":5.477225575051661},\"x\":{\"field\":\"TotalCoinsMined\"},\"y\":{\"field\":\"MaxSupply\"}},\"id\":\"12946\",\"type\":\"Scatter\"},{\"attributes\":{},\"id\":\"12883\",\"type\":\"UnionRenderers\"},{\"attributes\":{},\"id\":\"12804\",\"type\":\"WheelZoomTool\"},{\"attributes\":{\"coordinates\":null,\"data_source\":{\"id\":\"12888\"},\"glyph\":{\"id\":\"12891\"},\"group\":null,\"hover_glyph\":null,\"muted_glyph\":{\"id\":\"12893\"},\"nonselection_glyph\":{\"id\":\"12892\"},\"selection_glyph\":{\"id\":\"12913\"},\"view\":{\"id\":\"12895\"}},\"id\":\"12894\",\"type\":\"GlyphRenderer\"},{\"attributes\":{\"tools\":[{\"id\":\"12779\"},{\"id\":\"12802\"},{\"id\":\"12803\"},{\"id\":\"12804\"},{\"id\":\"12805\"},{\"id\":\"12806\"}]},\"id\":\"12808\",\"type\":\"Toolbar\"},{\"attributes\":{\"overlay\":{\"id\":\"12807\"}},\"id\":\"12805\",\"type\":\"BoxZoomTool\"},{\"attributes\":{\"fill_color\":{\"value\":\"#17becf\"},\"hatch_color\":{\"value\":\"#17becf\"},\"line_color\":{\"value\":\"#17becf\"},\"size\":{\"value\":5.477225575051661},\"x\":{\"field\":\"TotalCoinsMined\"},\"y\":{\"field\":\"MaxSupply\"}},\"id\":\"12945\",\"type\":\"Scatter\"},{\"attributes\":{\"fill_alpha\":{\"value\":0.1},\"fill_color\":{\"value\":\"#8b8b8b\"},\"hatch_alpha\":{\"value\":0.1},\"hatch_color\":{\"value\":\"#8b8b8b\"},\"line_alpha\":{\"value\":0.1},\"line_color\":{\"value\":\"#8b8b8b\"},\"size\":{\"value\":5.477225575051661},\"x\":{\"field\":\"TotalCoinsMined\"},\"y\":{\"field\":\"MaxSupply\"}},\"id\":\"12918\",\"type\":\"Scatter\"},{\"attributes\":{\"data\":{\"Class\":[4,4,4,4,4,4,4,4,4,4,4,4,4,4,4,4,4,4],\"CoinName\":[\"NuShares\",\"DAPS Coin\",\"TokenPay\",\"Pirate Chain\",\"Internet Node token\",\"Validity\",\"Beldex\",\"QTUM\",\"Dash\",\"Komodo\",\"Nxt\",\"MAPS\",\"Bitshares\",\"Cardano\",\"VeChain\",\"Nexus\",\"Super Zero\",\"Achain\"],\"MaxSupply\":{\"__ndarray__\":\"AAAAAAAAAAAAAAA8U0wwQgAAAACE13dBAAAAAITXp0EAAAAAZc3NQQAAAACIKmFBAAAAGLBwAkIAAAAJ9bSZQQAAAABCBnJBAAAAAITXp0EAAAAAZc3NQQAAACBfoAJCAADAEIvT6kEAAAAEa/QkQgAAYsx5MDRCAAAAAL6YkkEAAABAG1/DQQAAAAAAAAAA\",\"dtype\":\"float64\",\"order\":\"little\",\"shape\":[18]},\"TotalCoinsMined\":{\"__ndarray__\":\"2IFfmdMA90EAAOgTDwUtQgAAAJDk3XRBhXep6V7FpkHobtzS7cHGQcVyidMhTlFBAACA5Gzd1EEAAAB6RtGYQYjs6hhCTGRBrvzDbvWbn0FABvi7w8XNQQAAAABlzc1BcSBFRb9P5kEfvCTwV9UeQgAAGZsbBTRCUS8YUqBnkUEAAADI6uizQQAAAABlzc1B\",\"dtype\":\"float64\",\"order\":\"little\",\"shape\":[18]}},\"selected\":{\"id\":\"12915\"},\"selection_policy\":{\"id\":\"12937\"}},\"id\":\"12914\",\"type\":\"ColumnDataSource\"},{\"attributes\":{\"fill_color\":{\"value\":\"#fc4f30\"},\"hatch_color\":{\"value\":\"#fc4f30\"},\"line_color\":{\"value\":\"#fc4f30\"},\"size\":{\"value\":5.477225575051661},\"x\":{\"field\":\"TotalCoinsMined\"},\"y\":{\"field\":\"MaxSupply\"}},\"id\":\"12845\",\"type\":\"Scatter\"},{\"attributes\":{},\"id\":\"12889\",\"type\":\"Selection\"},{\"attributes\":{},\"id\":\"12806\",\"type\":\"ResetTool\"},{\"attributes\":{},\"id\":\"12822\",\"type\":\"Selection\"},{\"attributes\":{\"bottom_units\":\"screen\",\"coordinates\":null,\"fill_alpha\":0.5,\"fill_color\":\"lightgrey\",\"group\":null,\"left_units\":\"screen\",\"level\":\"overlay\",\"line_alpha\":1.0,\"line_color\":\"black\",\"line_dash\":[4,4],\"line_width\":2,\"right_units\":\"screen\",\"syncable\":false,\"top_units\":\"screen\"},\"id\":\"12807\",\"type\":\"BoxAnnotation\"},{\"attributes\":{\"data\":{\"Class\":[1,1,1,1,1,1,1,1,1,1,1,1,1,1,1,1,1,1,1,1,1,1,1],\"CoinName\":[\"Stratis\",\"SafePal\",\"Ethereum Name Service\",\"Amber\",\"Anchor Protocol\",\"Oxycoin\",\"Signa\",\"V Systems\",\"Binance Coin\",\"EOS\",\"Shift\",\"Poa Network\",\"Lisk\",\"Ontology\",\"Rise\",\"Acute Angle Cloud\",\"Stakenet\",\"ARK\",\"BitTorrent\",\"Waves\",\"ICON Project\",\"Kcash\",\"SuperCoin\"],\"MaxSupply\":[-1,-1,-1,-1,-1,-1,-1,-1,-1,-1,-1,-1,-1,-1,-1,-1,-1,-1,-1,-1,-1,-1,-1],\"TotalCoinsMined\":{\"__ndarray__\":\"kODPCpsaoEEAAAAAZc29QQAAAACE15dBAACAucruy0EAAAAAZc3NQRSu13KMudBBAAAAdwvl30EAACDwG6P2QXsULuInr6NBumshlSJMz0EAAADgQ01sQc5KJYT+EqVBAAAAqoRDoUEAAAAAZc3NQYXr0TYQSadBAAAAAGXNzUGap2ZFopeeQQEAAEwdjaNBAACfsjIjDEMAAADg77OZQe7ZanDfk8tBAAAAAGXNzUEgRY1oXtKJQQ==\",\"dtype\":\"float64\",\"order\":\"little\",\"shape\":[23]}},\"selected\":{\"id\":\"12843\"},\"selection_policy\":{\"id\":\"12859\"}},\"id\":\"12842\",\"type\":\"ColumnDataSource\"},{\"attributes\":{\"click_policy\":\"mute\",\"coordinates\":null,\"group\":null,\"items\":[{\"id\":\"12840\"},{\"id\":\"12862\"},{\"id\":\"12886\"},{\"id\":\"12912\"},{\"id\":\"12940\"},{\"id\":\"12970\"}],\"location\":[0,0],\"title\":\"Class\"},\"id\":\"12839\",\"type\":\"Legend\"},{\"attributes\":{\"end\":23100000000000.1,\"reset_end\":23100000000000.1,\"reset_start\":-2100000000001.1,\"start\":-2100000000001.1,\"tags\":[[[\"MaxSupply\",\"MaxSupply\",null]]]},\"id\":\"12778\",\"type\":\"Range1d\"},{\"attributes\":{\"coordinates\":null,\"data_source\":{\"id\":\"12821\"},\"glyph\":{\"id\":\"12824\"},\"group\":null,\"hover_glyph\":null,\"muted_glyph\":{\"id\":\"12826\"},\"nonselection_glyph\":{\"id\":\"12825\"},\"selection_glyph\":{\"id\":\"12841\"},\"view\":{\"id\":\"12828\"}},\"id\":\"12827\",\"type\":\"GlyphRenderer\"},{\"attributes\":{\"source\":{\"id\":\"12888\"}},\"id\":\"12895\",\"type\":\"CDSView\"},{\"attributes\":{\"source\":{\"id\":\"12914\"}},\"id\":\"12921\",\"type\":\"CDSView\"},{\"attributes\":{\"fill_alpha\":{\"value\":0.1},\"fill_color\":{\"value\":\"#6d904f\"},\"hatch_alpha\":{\"value\":0.1},\"hatch_color\":{\"value\":\"#6d904f\"},\"line_alpha\":{\"value\":0.1},\"line_color\":{\"value\":\"#6d904f\"},\"size\":{\"value\":5.477225575051661},\"x\":{\"field\":\"TotalCoinsMined\"},\"y\":{\"field\":\"MaxSupply\"}},\"id\":\"12892\",\"type\":\"Scatter\"},{\"attributes\":{\"label\":{\"value\":\"0\"},\"renderers\":[{\"id\":\"12827\"}]},\"id\":\"12840\",\"type\":\"LegendItem\"},{\"attributes\":{\"coordinates\":null,\"data_source\":{\"id\":\"12914\"},\"glyph\":{\"id\":\"12917\"},\"group\":null,\"hover_glyph\":null,\"muted_glyph\":{\"id\":\"12919\"},\"nonselection_glyph\":{\"id\":\"12918\"},\"selection_glyph\":{\"id\":\"12941\"},\"view\":{\"id\":\"12921\"}},\"id\":\"12920\",\"type\":\"GlyphRenderer\"},{\"attributes\":{\"callback\":null,\"renderers\":[{\"id\":\"12827\"},{\"id\":\"12848\"},{\"id\":\"12870\"},{\"id\":\"12894\"},{\"id\":\"12920\"},{\"id\":\"12948\"}],\"tags\":[\"hv_created\"],\"tooltips\":[[\"Class\",\"@{Class}\"],[\"TotalCoinsMined\",\"@{TotalCoinsMined}\"],[\"MaxSupply\",\"@{MaxSupply}\"],[\"CoinName\",\"@{CoinName}\"]]},\"id\":\"12779\",\"type\":\"HoverTool\"},{\"attributes\":{\"data\":{\"Class\":[3,3,3,3,3,3,3,3,3,3,3,3,3,3,3,3,3,3,3,3,3],\"CoinName\":[\"Pura\",\"Goldmaxcoin\",\"EtherZero\",\"Circuits of Value\",\"AEON\",\"Nervos Network\",\"TecraCoin\",\"Siacoin\",\"Namecoin\",\"Steem\",\"Primas\",\"Einsteinium\",\"Ethereum\",\"MonaCoin\",\"Monero\",\"Ubiq\",\"ViaCoin\",\"Dero\",\"Dogecoin\",\"Grin\",\"Haven Protocol\"],\"MaxSupply\":[-1,-1,-1,-1,-1,-1,-1,-1,-1,-1,-1,-1,-1,-1,-1,-1,-1,-1,-1,-1,-1],\"TotalCoinsMined\":{\"__ndarray__\":\"6OytgUJ0pkEWzTR518HMQWZm5qNnPKtBJgoBS2d92kECepvLWy9xQR5+kywrySBCohKuthJ6GUEAAMCooH4nQgAAAGAoL3FBnMSAedQat0EAAAAAhNeXQfH//3j3g6pB2/m+5IagnEGw5eIr30SUQeJ+U/oeQnFBZMIgttKQhkGCBmoJ9Bl2QQAAAAAwjHFBirQfVnAhP0IV2Y7KskGUQTNpIYCBxmtB\",\"dtype\":\"float64\",\"order\":\"little\",\"shape\":[21]}},\"selected\":{\"id\":\"12889\"},\"selection_policy\":{\"id\":\"12909\"}},\"id\":\"12888\",\"type\":\"ColumnDataSource\"},{\"attributes\":{\"fill_color\":{\"value\":\"#6d904f\"},\"hatch_color\":{\"value\":\"#6d904f\"},\"line_color\":{\"value\":\"#6d904f\"},\"size\":{\"value\":5.477225575051661},\"x\":{\"field\":\"TotalCoinsMined\"},\"y\":{\"field\":\"MaxSupply\"}},\"id\":\"12891\",\"type\":\"Scatter\"},{\"attributes\":{\"label\":{\"value\":\"3\"},\"renderers\":[{\"id\":\"12894\"}]},\"id\":\"12912\",\"type\":\"LegendItem\"},{\"attributes\":{},\"id\":\"12816\",\"type\":\"BasicTickFormatter\"},{\"attributes\":{\"angle\":{\"value\":0.0},\"fill_alpha\":{\"value\":1.0},\"fill_color\":{\"value\":\"#6d904f\"},\"hatch_alpha\":{\"value\":1.0},\"hatch_color\":{\"value\":\"#6d904f\"},\"hatch_scale\":{\"value\":12.0},\"hatch_weight\":{\"value\":1.0},\"line_alpha\":{\"value\":1.0},\"line_cap\":{\"value\":\"butt\"},\"line_color\":{\"value\":\"#6d904f\"},\"line_dash\":{\"value\":[]},\"line_dash_offset\":{\"value\":0},\"line_join\":{\"value\":\"bevel\"},\"line_width\":{\"value\":1},\"marker\":{\"value\":\"circle\"},\"size\":{\"value\":5.477225575051661},\"x\":{\"field\":\"TotalCoinsMined\"},\"y\":{\"field\":\"MaxSupply\"}},\"id\":\"12913\",\"type\":\"Scatter\"},{\"attributes\":{},\"id\":\"12819\",\"type\":\"BasicTickFormatter\"},{\"attributes\":{},\"id\":\"12915\",\"type\":\"Selection\"},{\"attributes\":{\"angle\":{\"value\":0.0},\"fill_alpha\":{\"value\":1.0},\"fill_color\":{\"value\":\"#fc4f30\"},\"hatch_alpha\":{\"value\":1.0},\"hatch_color\":{\"value\":\"#fc4f30\"},\"hatch_scale\":{\"value\":12.0},\"hatch_weight\":{\"value\":1.0},\"line_alpha\":{\"value\":1.0},\"line_cap\":{\"value\":\"butt\"},\"line_color\":{\"value\":\"#fc4f30\"},\"line_dash\":{\"value\":[]},\"line_dash_offset\":{\"value\":0},\"line_join\":{\"value\":\"bevel\"},\"line_width\":{\"value\":1},\"marker\":{\"value\":\"circle\"},\"size\":{\"value\":5.477225575051661},\"x\":{\"field\":\"TotalCoinsMined\"},\"y\":{\"field\":\"MaxSupply\"}},\"id\":\"12863\",\"type\":\"Scatter\"},{\"attributes\":{\"data\":{\"Class\":[2,2,2,2,2,2,2,2,2,2,2,2,2],\"CoinName\":[\"42 Coin\",\"Triangles Coin\",\"VEIL\",\"XDNA\",\"WhiteCoin\",\"PotCoin\",\"Canada eCoin\",\"Decred\",\"BlackCoin\",\"Bitcoin Diamond\",\"Zelcash\",\"HyperCash\",\"IOCoin\"],\"MaxSupply\":[42,0,300000000,0,1000000000,420000000,107364500,21000000,100000000,210000000,210000000,84000000,22000000],\"TotalCoinsMined\":{\"__ndarray__\":\"crbra/7/RECb49zmO2QHQSoH3P60fpxBAAAAoOXXYEEAAADbjn7MQbmlEXkXHatBAAAA5MfSl0HPxLCRT3RqQX0txeaFNo1BAAAACD0vqEEAAAAA3jm6QQTmoSrxfYVBceuW/1SSckE=\",\"dtype\":\"float64\",\"order\":\"little\",\"shape\":[13]}},\"selected\":{\"id\":\"12865\"},\"selection_policy\":{\"id\":\"12883\"}},\"id\":\"12864\",\"type\":\"ColumnDataSource\"},{\"attributes\":{\"fill_alpha\":{\"value\":0.2},\"fill_color\":{\"value\":\"#8b8b8b\"},\"hatch_alpha\":{\"value\":0.2},\"hatch_color\":{\"value\":\"#8b8b8b\"},\"line_alpha\":{\"value\":0.2},\"line_color\":{\"value\":\"#8b8b8b\"},\"size\":{\"value\":5.477225575051661},\"x\":{\"field\":\"TotalCoinsMined\"},\"y\":{\"field\":\"MaxSupply\"}},\"id\":\"12919\",\"type\":\"Scatter\"},{\"attributes\":{\"fill_alpha\":{\"value\":0.1},\"fill_color\":{\"value\":\"#30a2da\"},\"hatch_alpha\":{\"value\":0.1},\"hatch_color\":{\"value\":\"#30a2da\"},\"line_alpha\":{\"value\":0.1},\"line_color\":{\"value\":\"#30a2da\"},\"size\":{\"value\":5.477225575051661},\"x\":{\"field\":\"TotalCoinsMined\"},\"y\":{\"field\":\"MaxSupply\"}},\"id\":\"12825\",\"type\":\"Scatter\"},{\"attributes\":{\"data\":{\"Class\":[5,5,5,5,5,5,5,5,5,5,5,5,5,5,5,5,5,5],\"CoinName\":[\"OpenChat\",\"Zano\",\"QuarkCoin\",\"BeforeCoinMarketCap\",\"VeriCoin\",\"Emercoin\",\"Auroracoin\",\"SaluS\",\"Aion\",\"DigitalNote\",\"BlockNet\",\"SafeExchangeCoin\",\"Private Instant Verified Transaction\",\"NovaCoin\",\"CloakCoin\",\"USX Quantum\",\"NavCoin\",\"Reddcoin\"],\"MaxSupply\":[-1,-1,-1,-1,-1,-1,-1,-1,-1,-1,-1,-1,-1,-1,-1,-1,-1,-1],\"TotalCoinsMined\":{\"__ndarray__\":\"AAAAAGXNzUGEXA6aywRpQUWE9uyJnrBBJf7Igc3c/0FUFgCdYJWAQTwv1cpj8oZBeN3ODVDPl0EXKv+2w40vQQAAAIQ1/r1BIYhg8kUc/kHioLA7VFdgQQAAwP///99BcDlpXoBekEERqP613a9LQfhJv6mCCFZBAAAAQBtf40EyPAyvWm2RQV/4XvPxtxxC\",\"dtype\":\"float64\",\"order\":\"little\",\"shape\":[18]}},\"selected\":{\"id\":\"12943\"},\"selection_policy\":{\"id\":\"12967\"}},\"id\":\"12942\",\"type\":\"ColumnDataSource\"},{\"attributes\":{},\"id\":\"12817\",\"type\":\"AllLabels\"},{\"attributes\":{\"source\":{\"id\":\"12842\"}},\"id\":\"12849\",\"type\":\"CDSView\"},{\"attributes\":{},\"id\":\"12792\",\"type\":\"LinearScale\"},{\"attributes\":{\"label\":{\"value\":\"4\"},\"renderers\":[{\"id\":\"12920\"}]},\"id\":\"12940\",\"type\":\"LegendItem\"},{\"attributes\":{},\"id\":\"12843\",\"type\":\"Selection\"},{\"attributes\":{\"fill_alpha\":{\"value\":0.2},\"fill_color\":{\"value\":\"#fc4f30\"},\"hatch_alpha\":{\"value\":0.2},\"hatch_color\":{\"value\":\"#fc4f30\"},\"line_alpha\":{\"value\":0.2},\"line_color\":{\"value\":\"#fc4f30\"},\"size\":{\"value\":5.477225575051661},\"x\":{\"field\":\"TotalCoinsMined\"},\"y\":{\"field\":\"MaxSupply\"}},\"id\":\"12847\",\"type\":\"Scatter\"},{\"attributes\":{\"fill_color\":{\"value\":\"#8b8b8b\"},\"hatch_color\":{\"value\":\"#8b8b8b\"},\"line_color\":{\"value\":\"#8b8b8b\"},\"size\":{\"value\":5.477225575051661},\"x\":{\"field\":\"TotalCoinsMined\"},\"y\":{\"field\":\"MaxSupply\"}},\"id\":\"12917\",\"type\":\"Scatter\"},{\"attributes\":{\"below\":[{\"id\":\"12794\"}],\"center\":[{\"id\":\"12797\"},{\"id\":\"12801\"}],\"height\":300,\"left\":[{\"id\":\"12798\"}],\"margin\":[5,5,5,5],\"min_border_bottom\":10,\"min_border_left\":10,\"min_border_right\":10,\"min_border_top\":10,\"renderers\":[{\"id\":\"12827\"},{\"id\":\"12848\"},{\"id\":\"12870\"},{\"id\":\"12894\"},{\"id\":\"12920\"},{\"id\":\"12948\"}],\"right\":[{\"id\":\"12839\"}],\"sizing_mode\":\"fixed\",\"title\":{\"id\":\"12786\"},\"toolbar\":{\"id\":\"12808\"},\"width\":700,\"x_range\":{\"id\":\"12777\"},\"x_scale\":{\"id\":\"12790\"},\"y_range\":{\"id\":\"12778\"},\"y_scale\":{\"id\":\"12792\"}},\"id\":\"12785\",\"subtype\":\"Figure\",\"type\":\"Plot\"},{\"attributes\":{\"margin\":[5,5,5,5],\"name\":\"HSpacer27180\",\"sizing_mode\":\"stretch_width\"},\"id\":\"13152\",\"type\":\"Spacer\"},{\"attributes\":{\"coordinates\":null,\"group\":null,\"text_color\":\"black\",\"text_font_size\":\"12pt\"},\"id\":\"12786\",\"type\":\"Title\"},{\"attributes\":{\"angle\":{\"value\":0.0},\"fill_alpha\":{\"value\":1.0},\"fill_color\":{\"value\":\"#17becf\"},\"hatch_alpha\":{\"value\":1.0},\"hatch_color\":{\"value\":\"#17becf\"},\"hatch_scale\":{\"value\":12.0},\"hatch_weight\":{\"value\":1.0},\"line_alpha\":{\"value\":1.0},\"line_cap\":{\"value\":\"butt\"},\"line_color\":{\"value\":\"#17becf\"},\"line_dash\":{\"value\":[]},\"line_dash_offset\":{\"value\":0},\"line_join\":{\"value\":\"bevel\"},\"line_width\":{\"value\":1},\"marker\":{\"value\":\"circle\"},\"size\":{\"value\":5.477225575051661},\"x\":{\"field\":\"TotalCoinsMined\"},\"y\":{\"field\":\"MaxSupply\"}},\"id\":\"12971\",\"type\":\"Scatter\"},{\"attributes\":{},\"id\":\"12859\",\"type\":\"UnionRenderers\"},{\"attributes\":{},\"id\":\"12790\",\"type\":\"LinearScale\"}],\"root_ids\":[\"12775\"]},\"title\":\"Bokeh Application\",\"version\":\"2.4.2\"}};\n",
       "    var render_items = [{\"docid\":\"20502a75-267d-4c6a-8d17-71043819cc91\",\"root_ids\":[\"12775\"],\"roots\":{\"12775\":\"353be8d7-2f60-4911-b9b8-e92cd6321ffe\"}}];\n",
       "    root.Bokeh.embed.embed_items_notebook(docs_json, render_items);\n",
       "  }\n",
       "  if (root.Bokeh !== undefined && root.Bokeh.Panel !== undefined) {\n",
       "    embed_document(root);\n",
       "  } else {\n",
       "    var attempts = 0;\n",
       "    var timer = setInterval(function(root) {\n",
       "      if (root.Bokeh !== undefined && root.Bokeh.Panel !== undefined) {\n",
       "        clearInterval(timer);\n",
       "        embed_document(root);\n",
       "      } else if (document.readyState == \"complete\") {\n",
       "        attempts++;\n",
       "        if (attempts > 200) {\n",
       "          clearInterval(timer);\n",
       "          console.log(\"Bokeh: ERROR: Unable to run BokehJS code because BokehJS library is missing\");\n",
       "        }\n",
       "      }\n",
       "    }, 25, root)\n",
       "  }\n",
       "})(window);</script>"
      ],
      "text/plain": [
       ":NdOverlay   [Class]\n",
       "   :Scatter   [TotalCoinsMined]   (MaxSupply,CoinName)"
      ]
     },
     "execution_count": 112,
     "metadata": {
      "application/vnd.holoviews_exec.v0+json": {
       "id": "12775"
      }
     },
     "output_type": "execute_result"
    }
   ],
   "source": [
    "# Plot the scatter with x=\"TotalCoinsMined\" and y=\"TotalCoinSupply\"\n",
    "clustered_df.hvplot.scatter(\n",
    "    x='TotalCoinsMined',\n",
    "    y='MaxSupply',\n",
    "    by='Class' ,\n",
    "    hover_cols=[\"CoinName\"]\n",
    ")"
   ]
  },
  {
   "cell_type": "markdown",
   "metadata": {},
   "source": [
    "#### Table of Tradable Cryptocurrencies"
   ]
  },
  {
   "cell_type": "code",
   "execution_count": 106,
   "metadata": {},
   "outputs": [
    {
     "data": {},
     "metadata": {},
     "output_type": "display_data"
    },
    {
     "data": {
      "application/vnd.holoviews_exec.v0+json": "",
      "text/html": [
       "<div id='6983'>\n",
       "\n",
       "\n",
       "\n",
       "\n",
       "\n",
       "  <div class=\"bk-root\" id=\"baa6c178-9ace-4649-9000-010a15f91b9e\" data-root-id=\"6983\"></div>\n",
       "</div>\n",
       "<script type=\"application/javascript\">(function(root) {\n",
       "  function embed_document(root) {\n",
       "    var docs_json = {\"f334b371-11fb-4e4f-8767-83e818c7226b\":{\"defs\":[{\"extends\":null,\"module\":null,\"name\":\"ReactiveHTML1\",\"overrides\":[],\"properties\":[]},{\"extends\":null,\"module\":null,\"name\":\"FlexBox1\",\"overrides\":[],\"properties\":[{\"default\":\"flex-start\",\"kind\":null,\"name\":\"align_content\"},{\"default\":\"flex-start\",\"kind\":null,\"name\":\"align_items\"},{\"default\":\"row\",\"kind\":null,\"name\":\"flex_direction\"},{\"default\":\"wrap\",\"kind\":null,\"name\":\"flex_wrap\"},{\"default\":\"flex-start\",\"kind\":null,\"name\":\"justify_content\"}]},{\"extends\":null,\"module\":null,\"name\":\"TemplateActions1\",\"overrides\":[],\"properties\":[{\"default\":0,\"kind\":null,\"name\":\"open_modal\"},{\"default\":0,\"kind\":null,\"name\":\"close_modal\"}]},{\"extends\":null,\"module\":null,\"name\":\"MaterialTemplateActions1\",\"overrides\":[],\"properties\":[{\"default\":0,\"kind\":null,\"name\":\"open_modal\"},{\"default\":0,\"kind\":null,\"name\":\"close_modal\"}]}],\"roots\":{\"references\":[{\"attributes\":{\"margin\":[5,5,5,5],\"name\":\"HSpacer15014\",\"sizing_mode\":\"stretch_width\"},\"id\":\"7024\",\"type\":\"Spacer\"},{\"attributes\":{\"editor\":{\"id\":\"7013\"},\"field\":\"Class\",\"formatter\":{\"id\":\"7012\"},\"title\":\"Class\"},\"id\":\"7014\",\"type\":\"TableColumn\"},{\"attributes\":{},\"id\":\"6987\",\"type\":\"StringFormatter\"},{\"attributes\":{},\"id\":\"6993\",\"type\":\"StringEditor\"},{\"attributes\":{},\"id\":\"7002\",\"type\":\"StringFormatter\"},{\"attributes\":{},\"id\":\"6988\",\"type\":\"StringEditor\"},{\"attributes\":{\"editor\":{\"id\":\"6993\"},\"field\":\"Algorithm\",\"formatter\":{\"id\":\"6992\"},\"title\":\"Algorithm\"},\"id\":\"6994\",\"type\":\"TableColumn\"},{\"attributes\":{\"editor\":{\"id\":\"6998\"},\"field\":\"ProofType\",\"formatter\":{\"id\":\"6997\"},\"title\":\"ProofType\"},\"id\":\"6999\",\"type\":\"TableColumn\"},{\"attributes\":{},\"id\":\"6997\",\"type\":\"StringFormatter\"},{\"attributes\":{},\"id\":\"7007\",\"type\":\"StringFormatter\"},{\"attributes\":{},\"id\":\"7012\",\"type\":\"NumberFormatter\"},{\"attributes\":{},\"id\":\"6986\",\"type\":\"Selection\"},{\"attributes\":{},\"id\":\"7003\",\"type\":\"StringEditor\"},{\"attributes\":{\"editor\":{\"id\":\"6988\"},\"field\":\"CoinName\",\"formatter\":{\"id\":\"6987\"},\"title\":\"CoinName\"},\"id\":\"6989\",\"type\":\"TableColumn\"},{\"attributes\":{\"source\":{\"id\":\"6985\"}},\"id\":\"7019\",\"type\":\"CDSView\"},{\"attributes\":{\"data\":{\"Algorithm\":[\"Scrypt\",\"PoS\",\"X13\",\"Scrypt\",\"Scrypt\",\"X11\",\"IMesh\",\"Dagger\",\"ProgPowZ\",\"X16RT\",\"C31\",\"X16R\",\"Scrypt\",\"HEX\",\"SHA-256\",\"POS 3.0\",\"Ethash\",\"Quark\",\"SHA-256\",\"Equihash\",\"Ethash\",\"SHA-256\",\"SHA-256\",\"Scrypt\",\"SHA-256\",\"Multiple\",\"Autolykos\",\"X16R\",\"Equihash\",\"X13\",\"CryptoNight-Lite\",\"Equihash\",\"Equihash\",\"IMesh\",\"BEP-20 Token\",\"Eaglesong\",\"Blake2B + SHA3\",\"Scrypt\",\"PoS\",\"Ethash\",\"Dagger\",\"Lyra2Z\",\"Equihash\",\"SHA-256\",\"PoS\",\"Ethash\",\"Blake2b\",\"KECCAK\",\"Scrypt\",\"DPoS\",\"CryptoNight\",\"Scrypt\",\"POS 3.0\",\"SHA-256\",\"Shabal256\",\"Multiple\",\"Equihash\",\"CryptoNight\",\"X11\",\"Equihash\",\"Scrypt\",\"SPoS\",\"PoS\",\"Scrypt\",\"EtcHash\",\"NeoScrypt\",\"MTP\",\"BEP-2\",\"SHA-256\",\"Scrypt\",\"DPoS\",\"PoS\",\"SPL Token\",\"Scrypt\",\"Equihash\",\"Equihash210,9\",\"SHA-512\",\"DPoS\",\"Ouroboros\",\"BLAKE256\",\"BMW512 / Echo512\",\"Groestl\",\"Scrypt\",\"Quark\",\"VeChainThor Authority\",\"SHA-256\",\"X11GOST\",\"Scrypt\",\"Scrypt\",\"Proof-of-Authority\",\"Quark\",\"Equihash\",\"DPoS\",\"SHA-256\",\"Scrypt\",\"Cryptonight Haven\",\"Scrypt\",\"X13\",\"Scrypt\",\"Ethash\",\"Scrypt\",\"Scrypt\",\"Scrypt\",\"RandomX\",\"Blake2b\",\"X13\",\"SHA3\",\"VBFT\",\"Scrypt\",\"DPoS\",\"Ethash\",\"DPoS\",\"ECC 256K1\",\"X11\",\"DPoS\",\"SHA-256\",\"X13\",\"TRC-10\",\"Dagger-Hashimoto\",\"Ethash\",\"Lyra2REv2\",\"Scrypt\",\"CryptoNight\",\"Multiple\",\"Scrypt\",\"Leased POS\",\"Equihash\",\"Equihash\",\"C31\",\"CryptoNight-Heavy\",\"BLAKE256\",\"Loopchain\",\"X11\",\"SHA-512\",\"X11\",\"RandomX\"],\"Class\":{\"__ndarray__\":\"AgAAAAQAAAACAAAAAAAAAAUAAAADAAAAAAAAAAQAAAAFAAAAAgAAAAAAAAAAAAAAAwAAAAIAAAAAAAAABAAAAAMAAAAFAAAAAAAAAAAAAAAFAAAAAAAAAAAAAAAFAAAABQAAAAMAAAAAAAAAAAAAAAAAAAABAAAAAwAAAAAAAAAEAAAABAAAAAEAAAADAAAAAAAAAAUAAAAEAAAAAQAAAAEAAAADAAAAAAAAAAAAAAABAAAAAAAAAAMAAAAAAAAABQAAAAEAAAAEAAAAAAAAAAQAAAADAAAAAQAAAAAAAAAAAAAAAAAAAAQAAAAEAAAAAgAAAAEAAAADAAAAAgAAAAAAAAAAAAAAAAAAAAEAAAAAAAAAAAAAAAEAAAAEAAAABAAAAAIAAAAAAAAABQAAAAQAAAABAAAABAAAAAIAAAAFAAAAAAAAAAAAAAAFAAAABAAAAAAAAAAAAAAABQAAAAMAAAABAAAABQAAAAAAAAABAAAAAAAAAAIAAAAAAAAABQAAAAUAAAADAAAAAwAAAAUAAAAAAAAAAwAAAAMAAAAAAAAABQAAAAQAAAABAAAABQAAAAEAAAAEAAAABAAAAAEAAAABAAAAAQAAAAAAAAACAAAAAQAAAAMAAAAAAAAAAAAAAAMAAAADAAAAAAAAAAMAAAABAAAAAAAAAAIAAAADAAAAAwAAAAIAAAABAAAAAgAAAAEAAAABAAAAAAAAAA==\",\"dtype\":\"int32\",\"order\":\"little\",\"shape\":[136]},\"CoinName\":[\"42 Coin\",\"NuShares\",\"Triangles Coin\",\"CometCoin\",\"OpenChat\",\"Pura\",\"Aidos Kuneen\",\"DAPS Coin\",\"Zano\",\"VEIL\",\"MimbleWimbleCoin\",\"Ravencoin Classic\",\"Goldmaxcoin\",\"XDNA\",\"Wibcoin\",\"TokenPay\",\"EtherZero\",\"QuarkCoin\",\"Arweave\",\"Bithereum\",\"BeforeCoinMarketCap\",\"Smart Bitcoin\",\"UnitedBitcoin\",\"VeriCoin\",\"Emercoin\",\"Circuits of Value\",\"Ergo\",\"Genix\",\"Beam\",\"Stratis\",\"AEON\",\"TENT\",\"Pirate Chain\",\"Internet Node token\",\"SafePal\",\"Nervos Network\",\"Handshake\",\"Auroracoin\",\"Validity\",\"Ethereum Name Service\",\"Amber\",\"TecraCoin\",\"BitcoinZ\",\"eCash\",\"Anchor Protocol\",\"Expanse\",\"Siacoin\",\"SmartCash\",\"SaluS\",\"Oxycoin\",\"Beldex\",\"Flo\",\"QTUM\",\"Namecoin\",\"Signa\",\"Verge\",\"Bitcoin Gold\",\"ByteCoin\",\"Dash\",\"Komodo\",\"WhiteCoin\",\"V Systems\",\"Steem\",\"PotCoin\",\"Ethereum Classic\",\"FeatherCoin\",\"Firo\",\"Binance Coin\",\"Bitcoin Cash\",\"MegaCoin\",\"EOS\",\"Nxt\",\"MAPS\",\"Canada eCoin\",\"Bitcoin Private\",\"Aion\",\"Bitshares\",\"Shift\",\"Cardano\",\"Decred\",\"DigitalNote\",\"Groestlcoin\",\"Gulden\",\"BlockNet\",\"VeChain\",\"SysCoin\",\"SibCoin\",\"SafeExchangeCoin\",\"Primas\",\"Poa Network\",\"Private Instant Verified Transaction\",\"Horizen\",\"Lisk\",\"Bitcoin SV\",\"BlackCoin\",\"BLOC.MONEY\",\"NovaCoin\",\"CloakCoin\",\"Einsteinium\",\"Ethereum\",\"USX Quantum\",\"Litecoin\",\"MonaCoin\",\"Monero\",\"Nano\",\"NavCoin\",\"Nexus\",\"Ontology\",\"Reddcoin\",\"Rise\",\"Super Zero\",\"Achain\",\"Acute Angle Cloud\",\"Stakenet\",\"ARK\",\"Bitcoin\",\"Bitcoin Diamond\",\"BitTorrent\",\"Ubiq\",\"Callisto Network\",\"Vertcoin\",\"ViaCoin\",\"Dero\",\"DigiByte\",\"Dogecoin\",\"Waves\",\"ZCash\",\"Zelcash\",\"Grin\",\"Haven Protocol\",\"HyperCash\",\"ICON Project\",\"IOCoin\",\"Kcash\",\"SuperCoin\",\"Quantum Resistant Ledger\"],\"MaxSupply\":{\"__ndarray__\":\"AAAAAAAARUAAAAAAAAAAAAAAAAAAAAAAAAAAAAAAAAAAAAAAAADwvwAAAAAAAPC/AAAAAAAAAAAAAAA8U0wwQgAAAAAAAPC/AAAAAKPhsUEAAAAA0BJzQQAAAEjKjhNCAAAAAAAA8L8AAAAAAAAAAOwNE4u0Gm1CAAAAAITXd0EAAAAAAADwvwAAAAAAAPC/AAAAAKR4j0EAAAAAAAAAAAAAAAAAAPC/AAAAAPQGdEEAAAAA9AZ0QQAAAAAAAPC/AAAAAAAA8L8AAAAAAADwvwAAAFKSTZdBAAAAALEIqUEAAAAABVSvQQAAAAAAAPC/AAAAAAAA8L8AAAAA0AyUQQAAAACE16dBAAAAAGXNzUEAAAAAAADwvwAAAAAAAPC/AAAAgPtl3kEAAAAAAADwvwAAAACIKmFBAAAAAAAA8L8AAAAAAADwvwAAAAAAAPC/AAAASMqOE0IAAFCKcRmzQgAAAAAAAPC/AAAAAITXl0EAAAAAAADwvwAAACBfoPJBAAAAAAAA8L8AAAAAAADwvwAAABiwcAJCAAAAANASo0EAAAAJ9bSZQQAAAAAAAPC/AAAAAAAA8L8AAAAGCtYOQgAAAAD0BnRBAADAaKJ5RUIAAAAAQgZyQQAAAACE16dBAAAAAGXNzUEAAAAAAADwvwAAAAAAAPC/AAAAALEIuUEAAADADR6pQQAAAAD0BrRBAAAAAJxodEEAAAAAAADwv+Vhof/zBnRBAAAAAPQGhEEAAAAAAADwvwAAAABlzc1BAAAAIF+gAkIAAABQApmZQQAAAEBf0HVBAAAAAAAA8L8AAMAQi9PqQQAAAAAAAPC/AAAABGv0JEIAAAAA9AZ0QQAAAAAAAPC/AAAAALEImUEAAAAAsQjZQQAAAAAAAPC/AABizHkwNEIAAAAA53bKQQAAAAD0BnRBAAAAAAAA8L8AAAAAAADwvwAAAAAAAPC/AAAAAAAA8L8AAAAA9AZ0QQAAAAAAAPC/5WGh//MGdEEAAAAAhNeXQQAAAACE14dBAAAAAAAA8L8AAAAAAADwvwAAAAAAAPC/AAAAAAAA8L8AAAAAAADwvwAAAAD0BpRBAAAAAAAA8L8AAAAAAADwvwAAAIjUxJ9BAAAAAAAA8L8AAAAAvpiSQQAAAAAAAPC/AAAAAAAA8L8AAAAAAADwvwAAAEAbX8NBAAAAAAAAAAAAAAAAAADwvwAAAAAAAPC/AAAAAAAA8L/lYaH/8wZ0QQAAAACxCKlBAAAAAAAA8L8AAAAAAADwvwAAABDiNvhBAAAAAPQGlEEAAAAAAADwvwAAAAAAAPC/AAAASMqOE0IAAAAAAADwvwAAAAAAAPC/AAAAAPQGdEEAAAAAsQipQQAAAAAAAPC/AAAAAAAA8L8AAAAA9AaUQQAAAAAAAPC/AAAAABj7dEEAAAAAAADwvwAAAAAAAPC/AAAAALEImUE=\",\"dtype\":\"float64\",\"order\":\"little\",\"shape\":[136]},\"ProofType\":[\"PoW/PoS\",\"PoS\",\"PoW/PoS\",\"PoW\",\"PoW/PoS\",\"PoW\",\"PoW\",\" PoW/PoS/PoA\",\"PoW/PoS\",\"PoW/PoS\",\"PoW\",\"PoW\",\"PoW\",\"PoW/PoS\",\"PoW\",\"PoS\",\"PoW\",\"PoW/PoS\",\"PoW\",\"PoW\",\"PoW/PoS\",\"PoW\",\"PoW\",\"PoST\",\"PoW/PoS\",\"PoW\",\"PoW\",\"PoW\",\"PoW\",\"PoS\",\"PoW\",\"PoW\",\"dPoW\",\"DPoS/dBFT\",\"PoSA\",\"PoW\",\"PoW\",\"PoW/PoS\",\"PoS\",\"Proof-of-Work\",\"PoA\",\"PoW\",\"PoW\",\"PoW\",\"PoS\",\"PoW\",\"PoW\",\"PoW\",\"PoW/PoS\",\"DPoS\",\"PoS\",\"PoW\",\"PoS\",\"PoW\",\"PoC\",\"PoW\",\"PoW\",\"PoW\",\"PoW/PoSe\",\"dPoW/PoW\",\"PoW/PoS\",\"SPoS\",\"PoW\",\"PoW/PoS\",\"PoW\",\"PoW\",\"PoW\",\"BFT\",\"PoW\",\"PoW\",\"DPoS\",\"PoS/LPoS\",\"PoH\",\"AuxPoW\",\"PoW\",\"PoW/PoS\",\"DPoS\",\"DPoS\",\"PoS\",\"PoW/PoS\",\"PoW/PoS\",\"PoW\",\"PoW\",\"PoW/PoS\",\"Proof of Authority\",\"PoW\",\"PoW\",\"PoC\",\"PoW\",\"PoA\",\"PoW/PoS\",\"PoW\",\"DPoS\",\"PoW\",\"PoS\",\"PoW\",\"PoW/PoS\",\"PoW/PoS\",\"PoW\",\"PoW\",\"PoW/PoS\",\"PoW\",\"PoW\",\"PoW\",\"PoW\",\"PoW/PoS\",\"PoW/nPoS\",\"PoS\",\"PoW/PoS\",\"PoS\",\"ProgPoW/PoS\",\"DPoS\",\"DPOS\",\"TPoS\",\"DPoS\",\"PoW\",\"PoW/PoS\",\"DPoS\",\"PoW\",\"PoW\",\"PoW\",\"PoW\",\"PoW\",\"PoW\",\"PoW\",\"LPoS\",\"PoW\",\"PoW/PoS\",\"PoW\",\"PoW\",\"PoW/PoS\",\"PoS\",\"PoW/PoS\",\"Zero-Knowledge Proof\",\"PoS\",\"PoW\"],\"TotalCoinsMined\":{\"__ndarray__\":\"crbra/7/REDYgV+Z0wD3QZvj3OY7ZAdBAAAAAPyiKkEAAAAAZc3NQejsrYFCdKZBAAAAAITXd0EAAOgTDwUtQoRcDprLBGlBKgfc/rR+nEGsdNJ5/aVkQURYwwYxjwNCFs00edfBzEEAAACg5ddgQewNE4u0Gm1CAAAAkOTddEFmZuajZzyrQUWE9uyJnrBBAAAAmJPNjkEAAAAAh3R9QSX+yIHN3P9B1bdvIsuqokAAAAAA9AZ0QVQWAJ1glYBBPC/VymPyhkEmCgFLZ33aQQAAAOja8IhBAAAAMJwomkEdjcF2oJOQQZDgzwqbGqBBAnqby1svcUEAAADARXmCQYV3qelexaZB6G7c0u3BxkEAAAAAZc29QR5+kywrySBCC0Qbqm1fvEF43c4NUM+XQcVyidMhTlFBAAAAAITXl0EAAIC5yu7LQaISrrYSehlBTbmoJ8dvBEJfddcGkUqxQgAAAABlzc1BXI/C/+GLgEEAAMCooH4nQkD+4PIr0+RBFyr/tsONL0EUrtdyjLnQQQAAgORs3dRBGAZKEtihoEEAAAB6RtGYQQAAAGAoL3FBAAAAdwvl30FGq+ZmG7wOQmYvxk2MG3JBOoww4o55RUKI7OoYQkxkQa78w271m59BAAAA245+zEEAACDwG6P2QZzEgHnUGrdBuaUReRcdq0HdqtLrZnifQTH1A3SyhK5ByWfkhJraaEF7FC7iJ6+jQYGvWNqZInJBQN5xHoAFg0G6ayGVIkzPQUAG+LvDxc1BAAAAAGXNzUEAAADkx9KXQSR7ozG/Ik1BAAAAhDX+vUFxIEVFv0/mQQAAAOBDTWxBH7wk8FfVHkLPxLCRT3RqQSGIYPJFHP5Bpq+M95v/kkHf+qXO7RnAQeKgsDtUV2BBAAAZmxsFNEKf1etJcPLCQTjUQ9ey2nJBAADA////30EAAAAAhNeXQc5KJYT+EqVBcDlpXoBekEEAAADgxUJnQQAAAKqEQ6FBm81OFoohckF9LcXmhTaNQWZmZpU/tHRBEaj+td2vS0H4Sb+pgghWQfH//3j3g6pB2/m+5IagnEEAAABAG1/jQR0T75Z+qpBBsOXiK99ElEHiflP6HkJxQQAAAIjUxJ9BMjwMr1ptkUFRLxhSoGeRQQAAAABlzc1BX/he8/G3HEKF69E2EEmnQQAAAMjq6LNBAAAAAGXNzUEAAAAAZc3NQZqnZkWil55BAQAATB2No0EAAABQfxxyQQAAAAg9L6hBAACfsjIjDENkwiC20pCGQf9K2V60UudBwXeIqrhljkGCBmoJ9Bl2QQAAAAAwjHFBy6G/CTxMDEKKtB9WcCE/QgAAAODvs5lBtU1SfXFeZ0EAAAAA3jm6QRXZjsqyQZRBM2khgIHGa0EE5qEq8X2FQe7ZanDfk8tBceuW/1SSckEAAAAAZc3NQSBFjWhe0olBDfaUVKIkkkE=\",\"dtype\":\"float64\",\"order\":\"little\",\"shape\":[136]}},\"selected\":{\"id\":\"6986\"},\"selection_policy\":{\"id\":\"7020\"}},\"id\":\"6985\",\"type\":\"ColumnDataSource\"},{\"attributes\":{\"children\":[{\"id\":\"6984\"},{\"id\":\"7017\"},{\"id\":\"7024\"}],\"margin\":[0,0,0,0],\"name\":\"Row15009\",\"tags\":[\"embedded\"]},\"id\":\"6983\",\"type\":\"Row\"},{\"attributes\":{\"margin\":[5,5,5,5],\"name\":\"HSpacer15013\",\"sizing_mode\":\"stretch_width\"},\"id\":\"6984\",\"type\":\"Spacer\"},{\"attributes\":{\"editor\":{\"id\":\"7003\"},\"field\":\"MaxSupply\",\"formatter\":{\"id\":\"7002\"},\"title\":\"MaxSupply\"},\"id\":\"7004\",\"type\":\"TableColumn\"},{\"attributes\":{\"columns\":[{\"id\":\"6989\"},{\"id\":\"6994\"},{\"id\":\"6999\"},{\"id\":\"7004\"},{\"id\":\"7009\"},{\"id\":\"7014\"}],\"height\":300,\"reorderable\":false,\"source\":{\"id\":\"6985\"},\"view\":{\"id\":\"7019\"},\"width\":700},\"id\":\"7017\",\"type\":\"DataTable\"},{\"attributes\":{},\"id\":\"6998\",\"type\":\"StringEditor\"},{\"attributes\":{},\"id\":\"7008\",\"type\":\"StringEditor\"},{\"attributes\":{},\"id\":\"7013\",\"type\":\"IntEditor\"},{\"attributes\":{\"editor\":{\"id\":\"7008\"},\"field\":\"TotalCoinsMined\",\"formatter\":{\"id\":\"7007\"},\"title\":\"TotalCoinsMined\"},\"id\":\"7009\",\"type\":\"TableColumn\"},{\"attributes\":{},\"id\":\"7020\",\"type\":\"UnionRenderers\"},{\"attributes\":{},\"id\":\"6992\",\"type\":\"StringFormatter\"}],\"root_ids\":[\"6983\"]},\"title\":\"Bokeh Application\",\"version\":\"2.4.2\"}};\n",
       "    var render_items = [{\"docid\":\"f334b371-11fb-4e4f-8767-83e818c7226b\",\"root_ids\":[\"6983\"],\"roots\":{\"6983\":\"baa6c178-9ace-4649-9000-010a15f91b9e\"}}];\n",
       "    root.Bokeh.embed.embed_items_notebook(docs_json, render_items);\n",
       "  }\n",
       "  if (root.Bokeh !== undefined && root.Bokeh.Panel !== undefined) {\n",
       "    embed_document(root);\n",
       "  } else {\n",
       "    var attempts = 0;\n",
       "    var timer = setInterval(function(root) {\n",
       "      if (root.Bokeh !== undefined && root.Bokeh.Panel !== undefined) {\n",
       "        clearInterval(timer);\n",
       "        embed_document(root);\n",
       "      } else if (document.readyState == \"complete\") {\n",
       "        attempts++;\n",
       "        if (attempts > 200) {\n",
       "          clearInterval(timer);\n",
       "          console.log(\"Bokeh: ERROR: Unable to run BokehJS code because BokehJS library is missing\");\n",
       "        }\n",
       "      }\n",
       "    }, 25, root)\n",
       "  }\n",
       "})(window);</script>"
      ],
      "text/plain": [
       ":Table   [CoinName,Algorithm,ProofType,MaxSupply,TotalCoinsMined,Class]"
      ]
     },
     "execution_count": 106,
     "metadata": {
      "application/vnd.holoviews_exec.v0+json": {
       "id": "6983"
      }
     },
     "output_type": "execute_result"
    }
   ],
   "source": [
    "# Table with tradable cryptos\n",
    "clustered_df.hvplot.table([\"CoinName\", \"Algorithm\", \"ProofType\", \"MaxSupply\", \"TotalCoinsMined\", \"Class\"])"
   ]
  },
  {
   "cell_type": "code",
   "execution_count": 113,
   "metadata": {},
   "outputs": [
    {
     "name": "stdout",
     "output_type": "stream",
     "text": [
      "The Number of tradable coins as per the analysis is 136\n"
     ]
    }
   ],
   "source": [
    "# Print the total number of tradable cryptocurrencies\n",
    "num_tradable_coins = clustered_df['CoinName'].count()\n",
    "print(f'The Number of tradable coins as per the analysis is {num_tradable_coins}')"
   ]
  },
  {
   "cell_type": "code",
   "execution_count": null,
   "metadata": {},
   "outputs": [],
   "source": []
  }
 ],
 "metadata": {
  "file_extension": ".py",
  "interpreter": {
   "hash": "86969af4118fd2beaee010b14a97d3c8fe7dc31ff55f1528eea7eaecb45368d6"
  },
  "kernelspec": {
   "display_name": "Python 3 (ipykernel)",
   "language": "python",
   "name": "python3"
  },
  "language_info": {
   "codemirror_mode": {
    "name": "ipython",
    "version": 3
   },
   "file_extension": ".py",
   "mimetype": "text/x-python",
   "name": "python",
   "nbconvert_exporter": "python",
   "pygments_lexer": "ipython3",
   "version": "3.7.7"
  },
  "mimetype": "text/x-python",
  "name": "python",
  "npconvert_exporter": "python",
  "pygments_lexer": "ipython3",
  "version": 3
 },
 "nbformat": 4,
 "nbformat_minor": 4
}
